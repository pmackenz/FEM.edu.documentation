{
  "cells": [
    {
      "cell_type": "code",
      "execution_count": null,
      "metadata": {
        "collapsed": false
      },
      "outputs": [],
      "source": [
        "%matplotlib inline"
      ]
    },
    {
      "cell_type": "markdown",
      "metadata": {},
      "source": [
        "\n# Bending a cantilever beam\n\nUsing PatchMesher to model the beam\n"
      ]
    },
    {
      "cell_type": "code",
      "execution_count": null,
      "metadata": {
        "collapsed": false
      },
      "outputs": [],
      "source": [
        "import math\nimport sys\nimport numpy as np\n\nfrom femedu.examples import Example\n\nfrom femedu.domain import System, Node\nfrom femedu.solver import NewtonRaphsonSolver\n#from femedu.elements.linear import Quad\nfrom femedu.elements.finite import Quad\nfrom femedu.materials import PlaneStress\nfrom femedu.mesher import *\n\n\nclass ExamplePlate11(Example):\n\n    def problem(self):\n        # ========== setting mesh parameters ==============\n\n        Nx = 24       # number of elements in the mesh\n        Ny = 8        # number of elements in the mesh\n        Lx = 120.0    # length of plate in the x-direction\n        Ly =  20.0    # length of plate in the y-direction\n\n        # ========== setting material parameters ==============\n\n        params = dict(\n            E  = 20000.,    # Young's modulus\n            nu = 0.250,     # Poisson's ratio\n            t  = 1.00       # thickness of the plate\n        )\n\n        # ========== setting load parameters ==============\n\n        px  =  0.0         # uniform load normal to x=Lx\n        py  =  0.0         # uniform load normal to y=Ly\n        pxy =  1.0         # uniform shear load on x=L\n\n        # ========== setting analysis parameters ==============\n\n        target_load_level = 1.00     # reference load\n        max_steps = 2                # number of load steps: 2 -> [0.0, 1.0]\n\n        # define a list of target load levels\n        load_levels = np.linspace(0, target_load_level, max_steps)\n\n        #\n        # ==== Build the system model ====\n        #\n\n        model = System()\n        model.setSolver(NewtonRaphsonSolver())\n\n        # create nodes\n\n        mesher = PatchMesher(model, (0.,0.),(Lx,0.),(Lx,Ly),(0.,Ly) )\n        nodes, elements = mesher.quadMesh(Nx, Ny, Quad, PlaneStress(params))\n\n        # define support(s)\n\n        ## find nodes at y==0 and x==0\n\n        for node in nodes:\n            X = node.getPos()\n            if math.isclose(X[0], 0.0):\n                node.fixDOF('ux','uy')    # fix left side\n\n        # ==== complete the reference load ====\n\n        Xo = np.array([Lx, 0.0])\n        No = np.array([1.0, 0.0])\n\n        for node in nodes:\n            X = node.getPos()\n            if math.isclose(X[0],Lx):\n                # locate the node at the centerline\n                if math.isclose(X[1],Ly/2.):\n                    end_node = node\n                # load the end faces\n                for elem in node.elements:\n                    for face in elem.faces:\n                        for x, area in zip(face.pos, face.area):\n                            if np.abs( (x - Xo) @ No ) < 1.0e-2 and  No @ area / np.linalg.norm(area):\n                                face.setLoad(px, -pxy)\n\n        Xo = np.array([0.0, Ly])\n        No = np.array([0.0, 1.0])\n\n        for node in nodes:\n            X = node.getPos()\n            if math.isclose(X[1],Ly):\n                for elem in node.elements:\n                    for face in elem.faces:\n                        for x, area in zip(face.pos, face.area):\n                            if np.abs( (x - Xo) @ No ) < 1.0e-2 and  No @ area / np.linalg.norm(area):\n                                face.setLoad(-py, 0.0)\n\n        #model.report()\n\n        # set up a recorder\n        model.initRecorder(variables=['ux','uy'], nodes=[end_node])\n        model.startRecorder()\n\n        model.plot(factor=0, title=\"undeformed system\", filename=\"plate11_undeformed.png\", show_bc=1, show_loads=1)\n\n        for lf in np.linspace(0.0, 100.0, 21):\n        #for lf in np.linspace(0.0, 10.0, 3):\n\n            model.setLoadFactor(lf)\n            model.solve(verbose=True)\n\n            #model.report()\n\n\n        model.plot(factor=1., filename=f\"plate11_deformed_lf{lf:.2f}.png\", show_bc=1, show_loads=1, show_reactions=1)\n\n        model.valuePlot('ux', filename=f\"plate11_ux_lf{lf:.2f}.png\")\n        model.valuePlot('uy', show_mesh=True, filename=f\"plate11_uy_lf{lf:.2f}.png\")\n\n        # create a history plot for the end node\n\n        model.historyPlot('ux', node=end_node)\n        model.historyPlot('uy', node=end_node)"
      ]
    },
    {
      "cell_type": "markdown",
      "metadata": {},
      "source": [
        "Run the example by creating an instance of the problem and executing it by calling :py:meth:`Example.run()`\n\n\n"
      ]
    },
    {
      "cell_type": "code",
      "execution_count": null,
      "metadata": {
        "collapsed": false
      },
      "outputs": [],
      "source": [
        "if __name__ == \"__main__\":\n    ex = ExamplePlate11()\n    ex.run()"
      ]
    }
  ],
  "metadata": {
    "kernelspec": {
      "display_name": "Python 3",
      "language": "python",
      "name": "python3"
    },
    "language_info": {
      "codemirror_mode": {
        "name": "ipython",
        "version": 3
      },
      "file_extension": ".py",
      "mimetype": "text/x-python",
      "name": "python",
      "nbconvert_exporter": "python",
      "pygments_lexer": "ipython3",
      "version": "3.10.8"
    }
  },
  "nbformat": 4,
  "nbformat_minor": 0
}