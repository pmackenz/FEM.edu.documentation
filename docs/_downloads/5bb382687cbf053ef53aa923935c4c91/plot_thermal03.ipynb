{
  "cells": [
    {
      "cell_type": "markdown",
      "metadata": {},
      "source": [
        "\n# Heat transfer at the corner of a building\n\nUsing\n\n* :py:class:`mesher.PatchMesher` (see `patch_mesher_class`)\n* :py:class:`diffusion.Triangle` (see `diffusion_triangle_class`)\n* :py:class:`materials.Thermal`  (see `diffusion_material_classes`)\n"
      ]
    },
    {
      "cell_type": "code",
      "execution_count": null,
      "metadata": {
        "collapsed": false
      },
      "outputs": [],
      "source": [
        "import math\nimport sys\nimport numpy as np\n\nfrom femedu.examples.Example import *\n\nfrom femedu.domain import *\nfrom femedu.mesher import PatchMesher\nfrom femedu.elements.diffusion import Triangle\nfrom femedu.materials import Thermal\n\n\nclass ExampleThermal03(Example):\n\n    def problem(self):\n        # ========== setting mesh parameters ==============\n\n        Nx = 8  # number of elements through the wall\n        Ny = 8  # number of elements parallel to the wall\n        L = 0.30  # wall thickness in m\n        alpha = 0.50  # refinement parameter for placing nodes 8-11\n\n        # ========== setting material parameters ==============\n\n        params = dict(\n            E=20000.,  # Young's modulus\n            nu=0.250,  # Poisson's ratio\n            t=1.00  # thickness of the plate\n        )\n\n        # ========== setting load parameters ==============\n\n        qn = 10.0  # uniform flux normal to x=const\n\n        # ========== setting analysis parameters ==============\n\n        target_load_level = 1.00  # reference load\n        max_steps = 2  # number of load steps: 2 -> [0.0, 1.0]\n\n        # define a list of target load levels\n        load_levels = np.linspace(0, target_load_level, max_steps)\n\n        #\n        # ==== Build the system model ====\n        #\n\n        model = System()\n\n        # create nodes\n\n        #  5 -------- 6 -------- 7\n        #  |          |          |\n        #  |         11          |\n        #  |          |          |\n        #  2----9---- 3 ---10--- 4\n        #             |          |\n        #             8          |\n        #             |          |\n        #             0 -------- 1\n\n        pts = (\n            (0, -L),  # 0\n            (L, -L),  # 1\n            (-L, 0),  # 2\n            (0, 0),  # 3\n            (L, 0),  # 4\n            (-L, L),  # 5\n            (0, L),  # 6\n            (L, L),  # 7\n            (0, -alpha * L),  # 8\n            (-alpha * L, 0),  # 9\n            (alpha * L, 0),  # 10\n            (0, alpha * L),  # 11\n        )\n\n        mesher1 = PatchMesher(model, pts[2], pts[3], pts[6], pts[5], pts[9], pts[11], None, None)\n        nodes1, elements1 = mesher1.triangleMesh(Ny, Nx, Triangle, Thermal(params))\n\n        mesher2 = PatchMesher(model, pts[3], pts[4], pts[7], pts[6], pts[10], None, None, pts[11])  # center node\n        nodes2, elements2 = mesher2.triangleMesh(Nx, Nx, Triangle, Thermal(params))\n\n        mesher3 = PatchMesher(model, pts[0], pts[1], pts[4], pts[3], None, None, pts[10], pts[8])\n        nodes3, elements3 = mesher3.triangleMesh(Nx, Ny, Triangle, Thermal(params))\n\n        mesher1.tie(mesher2)\n        mesher2.tie(mesher3)\n\n        nodes = nodes1 + nodes2 + nodes3\n        elements = elements1 + elements2 + elements3\n\n        model.plot(factor=0.0,\n                   title='Meshing the corner in a wall',\n                   show_reactions=0, show_bc=0, show_loads=0)\n\n        model.report()\n\n        # define support(s)\n\n        ## find nodes at y==0 and x==0\n\n        for node in nodes:\n            X = node.getPos()\n            if math.isclose(X[0], 0.0) and X[1] <= 0.0:\n                node.fixDOF('T')  # horizontal support left side\n            if math.isclose(X[1], 0.0) and X[0] <= 0.0:\n                node.fixDOF('T')  # vertical support at y==0\n\n        # ==== complete the reference load ====\n\n        loaded_elements = []\n\n        Xo = np.array([L, 0.0])\n        No = np.array([1.0, 0.0])\n\n        for node in nodes:\n            X = node.getPos()\n            if math.isclose(X[0], L):\n                print(node)\n                for elem in node.elements:\n                    print('+', elem)\n                    for face in elem.faces:\n                        for x, area in zip(face.pos, face.area):\n                            if np.abs((x - Xo) @ No) < 1.0e-4 and No @ area / np.linalg.norm(area) > 1.0e-2:\n                                face.setFlux(qn)\n                                loaded_elements.append(elem)\n\n        Xo = np.array([0.0, L])\n        No = np.array([0.0, 1.0])\n\n        for node in nodes:\n            X = node.getPos()\n            if math.isclose(X[1], L):\n                print(node)\n                for elem in node.elements:\n                    print('-', elem)\n                    for face in elem.faces:\n                        for x, area in zip(face.pos, face.area):\n                            if np.abs((x - Xo) @ No) < 1.0e-4 and No @ area / np.linalg.norm(area) > 1.0e-2:\n                                face.setFlux(qn)\n                                loaded_elements.append(elem)\n\n        # perform the analysis\n        model.setLoadFactor(1.0)\n        model.solve()\n\n        # model.report()\n        for elem in loaded_elements:\n            print(elem)\n\n        model.valuePlot('T', show_mesh=True)"
      ]
    },
    {
      "cell_type": "markdown",
      "metadata": {},
      "source": [
        "Run the example by creating an instance of the problem and executing it by calling :py:meth:`Example.run()`\n\n\n"
      ]
    },
    {
      "cell_type": "code",
      "execution_count": null,
      "metadata": {
        "collapsed": false
      },
      "outputs": [],
      "source": [
        "if __name__ == \"__main__\":\n    ex = ExampleThermal03()\n    ex.run()"
      ]
    }
  ],
  "metadata": {
    "kernelspec": {
      "display_name": "Python 3",
      "language": "python",
      "name": "python3"
    },
    "language_info": {
      "codemirror_mode": {
        "name": "ipython",
        "version": 3
      },
      "file_extension": ".py",
      "mimetype": "text/x-python",
      "name": "python",
      "nbconvert_exporter": "python",
      "pygments_lexer": "ipython3",
      "version": "3.11.6"
    }
  },
  "nbformat": 4,
  "nbformat_minor": 0
}