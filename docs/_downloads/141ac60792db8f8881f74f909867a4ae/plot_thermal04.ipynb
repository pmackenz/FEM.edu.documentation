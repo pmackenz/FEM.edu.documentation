{
  "cells": [
    {
      "cell_type": "markdown",
      "metadata": {},
      "source": [
        "\n# Heat transfer through a thick cylinder\n\nThis problem demonstrates the use of prescribed temperature\non both sides of the wall.\n\nUsing\n\n* :py:class:`mesher.PatchMesher` (see `patch_mesher_class`)\n* :py:class:`diffusion.Triangle` (see `diffusion_triangle_class`)\n* :py:class:`materials.Thermal`  (see `diffusion_material_classes`)\n\n## Theory\nWe shall consider a stationary heat transfer problem on  a thick ring.\nThe inner surface of the ring, $r_i$, is heated to $200~K$,\nthe outer surface of the ring, $r_o$, to $300~K$.\n\nThe thermal equation for an axi-symmetric problem can be expressed as\n\n\\begin{align}\\Delta T = \\frac{1}{r} \\: \\frac{\\partial }{\\partial r}\n    \\left( r \\frac{\\partial T}{\\partial r} \\right) = 0\\end{align}\n\nwhere $\\Delta$ is the Laplace operator.\n\nThe analytic solution follows as\n\n\\begin{align}T(r) = {\\displaystyle \\frac{T_i \\log(r_o/r) + T_o \\log(r/r_i)}{\\log(r_o/r_i)}}\\end{align}\n\nThis solution will be compared against the finite element solution in the last figure.\n"
      ]
    },
    {
      "cell_type": "code",
      "execution_count": null,
      "metadata": {
        "collapsed": false
      },
      "outputs": [],
      "source": [
        "import matplotlib.pyplot as plt\n\nimport math\nimport sys\nimport numpy as np\n\nfrom femedu.examples.Example import *\n\nfrom femedu.domain import *\nfrom femedu.mesher import PatchMesher\nfrom femedu.elements.diffusion import Triangle\nfrom femedu.materials import Thermal\n\n\nclass ExampleThermal01(Example):\n\n    def problem(self):\n        # ========== setting mesh parameters ==============\n\n        Nx = 8  # number of elements through the wall\n        Ny = 4  # number of elements parallel to the wall\n        Lx = 10.00  # wall thickness in m\n        Ly =  5.00  # wall thickness in m\n        Ri =  5.00\n        Ro = Ri + Lx\n        alpha = np.radians(45.0)\n\n        # ========== setting material parameters ==============\n\n        params = dict(\n            E=20000.,  # Young's modulus\n            nu=0.250,  # Poisson's ratio\n            t=1.00     # thickness of the plate\n        )\n\n        # ========== setting load parameters ==============\n\n        qn = 1.00  # uniform flux normal to x=const\n\n        # ========== setting analysis parameters ==============\n\n        target_load_level = 1.00  # reference load\n        max_steps = 2  # number of load steps: 2 -> [0.0, 1.0]\n\n        # define a list of target load levels\n        load_levels = np.linspace(0, target_load_level, max_steps)\n\n        #\n        # ==== Build the system model ====\n        #\n\n        model = System()\n\n        # create nodes\n\n        #  2 -------- 3\n        #  |          |\n        #  |          |\n        #  |          |          |\n        #  0 -------- 1\n\n        pts = (\n            ( Ri,  0),  # 0\n            ( Ro,  0),  # 1\n            ( Ri*np.cos(alpha), Ri*np.sin(alpha)),  # 2\n            ( Ro*np.cos(alpha), Ro*np.sin(alpha)),  # 3\n            ( Ri*np.cos(alpha/2), Ri*np.sin(alpha/2)),  # 4\n            ( Ro*np.cos(alpha/2), Ro*np.sin(alpha/2)),  # 5\n        )\n\n        mesher = PatchMesher(model, pts[0], pts[1], pts[3], pts[2], None, pts[5], None, pts[4])\n        nodes, elements = mesher.triangleMesh(Nx, Ny, Triangle, Thermal(params))\n\n        model.plot(factor=0.0,\n                   title='Radial diffusion',\n                   show_reactions=0, show_bc=0, show_loads=0)\n\n        model.report()\n\n        # boundary condition(s)\n\n        ## find nodes at y==0 and x==0\n\n        for node in nodes:\n            X = node.getPos()\n            R = np.linalg.norm(X)\n            if math.isclose(R, Ri, rel_tol=0.02):\n                node.setDOF(['T'],[200.])    # prescribed temperature at x=0.0\n            if math.isclose(R, Ro, rel_tol=0.02):\n                node.setDOF(['T'],[300.])    # prescribed temperature at x=0.0\n\n        # perform the analysis\n        model.setLoadFactor(1.0)\n        model.solve()\n\n        model.report()\n\n        model.valuePlot('T', show_mesh=True)\n\n        # creating a path plot\n\n        R_list = []\n        T_list = []\n\n        for node in nodes:\n            X = node.getPos()\n            R = np.linalg.norm(X)\n            T = node.getDisp('T')\n            R_list.append(R)\n            T_list.append(T)\n\n        # the analytic solution for comparison\n        r = np.linspace(Ri, Ro, 21)\n        T = (200. * np.log(Ro/r) + 300. * np.log(r/Ri)) / np.log(Ro/Ri)\n\n        fig, axs = plt.subplots()\n        axs.plot(r,T,'-b',label=\"analytic solution\")\n        axs.plot(R_list,T_list,'ro',label=\"FEM\")\n        axs.set_title('Nodal Temperature for ALL Nodes')\n        axs.set_xlabel(\"Radial distance\")\n        axs.set_ylabel('T')\n        axs.legend()\n        axs.grid(True)\n        plt.show()"
      ]
    },
    {
      "cell_type": "markdown",
      "metadata": {},
      "source": [
        "Run the example by creating an instance of the problem and executing it by calling :py:meth:`Example.run()`\n\n\n"
      ]
    },
    {
      "cell_type": "code",
      "execution_count": null,
      "metadata": {
        "collapsed": false
      },
      "outputs": [],
      "source": [
        "if __name__ == \"__main__\":\n    ex = ExampleThermal01()\n    ex.run()"
      ]
    }
  ],
  "metadata": {
    "kernelspec": {
      "display_name": "Python 3",
      "language": "python",
      "name": "python3"
    },
    "language_info": {
      "codemirror_mode": {
        "name": "ipython",
        "version": 3
      },
      "file_extension": ".py",
      "mimetype": "text/x-python",
      "name": "python",
      "nbconvert_exporter": "python",
      "pygments_lexer": "ipython3",
      "version": "3.13.1"
    }
  },
  "nbformat": 4,
  "nbformat_minor": 0
}