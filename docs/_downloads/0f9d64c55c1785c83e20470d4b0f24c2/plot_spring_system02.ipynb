{
  "cells": [
    {
      "cell_type": "code",
      "execution_count": null,
      "metadata": {
        "collapsed": false
      },
      "outputs": [],
      "source": [
        "%matplotlib inline"
      ]
    },
    {
      "cell_type": "markdown",
      "metadata": {},
      "source": [
        "\n# A first 1D spring system with nicer plots\n\n.. code::\n\n                o---/\\/\\/\\---o---/\\/\\/\\---o\n   x---/\\/\\/\\---o                         o--->\n                o-------/\\/\\/\\/\\/\\--------o\n\n   x ... fixed node\n   o ... free node (moving in x-direction)\n\nThis problem is mechanically identical to `sphx_glr_auto_examples_springs_plot_spring_system01.py`\nbut demonstrates the use of the *leader-follower* concept built into the :py:class:`Node` class.\nWe are using the concept to move springs apart in plots while maintaining the 1d kinematics.\n\n<div class=\"alert alert-info\"><h4>Note</h4><p>**This example uses**\n\n    * `System class`\n    * `Spring class`\n    * `Node class`</p></div>\n"
      ]
    },
    {
      "cell_type": "markdown",
      "metadata": {},
      "source": [
        "## Initialization\n\n\n"
      ]
    },
    {
      "cell_type": "code",
      "execution_count": null,
      "metadata": {
        "collapsed": false
      },
      "outputs": [],
      "source": [
        "from femedu.domain import *\nfrom femedu.elements.linear import Spring"
      ]
    },
    {
      "cell_type": "markdown",
      "metadata": {},
      "source": [
        "## Building the model\n1. Initializing a model\n\n"
      ]
    },
    {
      "cell_type": "code",
      "execution_count": null,
      "metadata": {
        "collapsed": false
      },
      "outputs": [],
      "source": [
        "model = System()"
      ]
    },
    {
      "cell_type": "markdown",
      "metadata": {},
      "source": [
        "2. Defining nodes\n\n"
      ]
    },
    {
      "cell_type": "code",
      "execution_count": null,
      "metadata": {
        "collapsed": false
      },
      "outputs": [],
      "source": [
        "nd1  = Node(0.0, 0.0)\nnd2  = Node(2.0, 0.0)\nnd2a = Node(2.0, 1.0)\nnd2b = Node(2.0,-1.0)\nnd3  = Node(4.0, 1.0)\nnd4  = Node(6.0, 0.0)\nnd4a = Node(6.0, 1.0)\nnd4b = Node(6.0,-1.0)\n\nmodel.addNode(nd1, nd2, nd3, nd4)\n\nnd2a.make_follower(nd2)\nnd2b.make_follower(nd2)\nnd4a.make_follower(nd4)\nnd4b.make_follower(nd4)"
      ]
    },
    {
      "cell_type": "markdown",
      "metadata": {},
      "source": [
        "3. Creating the springs\n\n"
      ]
    },
    {
      "cell_type": "code",
      "execution_count": null,
      "metadata": {
        "collapsed": false
      },
      "outputs": [],
      "source": [
        "springA = Spring(nd1, nd2, 15)\nspringB = Spring(nd2a, nd3, 10)\nspringC = Spring(nd3, nd4a, 10)\nspringD = Spring(nd2b, nd4b, 10)\n\nmodel.addElement(springA,springB,springC,springD)"
      ]
    },
    {
      "cell_type": "markdown",
      "metadata": {},
      "source": [
        "4. Applying the essential boundary conditions\n\n"
      ]
    },
    {
      "cell_type": "code",
      "execution_count": null,
      "metadata": {
        "collapsed": false
      },
      "outputs": [],
      "source": [
        "nd1.fixDOF('ux')"
      ]
    },
    {
      "cell_type": "markdown",
      "metadata": {},
      "source": [
        "5. Applying loads\n\n"
      ]
    },
    {
      "cell_type": "code",
      "execution_count": null,
      "metadata": {
        "collapsed": false
      },
      "outputs": [],
      "source": [
        "nd4.setLoad([2.0],['ux'])"
      ]
    },
    {
      "cell_type": "markdown",
      "metadata": {},
      "source": [
        "You may check your model any time by executing\n\n"
      ]
    },
    {
      "cell_type": "code",
      "execution_count": null,
      "metadata": {
        "collapsed": false
      },
      "outputs": [],
      "source": [
        "model.report()"
      ]
    },
    {
      "cell_type": "markdown",
      "metadata": {},
      "source": [
        "## Performing the analysis\n6. Assembly and solve\n\n"
      ]
    },
    {
      "cell_type": "code",
      "execution_count": null,
      "metadata": {
        "collapsed": false
      },
      "outputs": [],
      "source": [
        "model.solve()"
      ]
    },
    {
      "cell_type": "markdown",
      "metadata": {},
      "source": [
        "7. Check out displacements and internal forces\n\n"
      ]
    },
    {
      "cell_type": "code",
      "execution_count": null,
      "metadata": {
        "collapsed": false
      },
      "outputs": [],
      "source": [
        "model.report()"
      ]
    },
    {
      "cell_type": "markdown",
      "metadata": {},
      "source": [
        "We can also create a force plot, though it doesn't look all that nice in 1D\n\n"
      ]
    },
    {
      "cell_type": "code",
      "execution_count": null,
      "metadata": {
        "collapsed": false
      },
      "outputs": [],
      "source": [
        "model.beamValuePlot('f')\nmodel.plot(factor=10.0)"
      ]
    }
  ],
  "metadata": {
    "kernelspec": {
      "display_name": "Python 3",
      "language": "python",
      "name": "python3"
    },
    "language_info": {
      "codemirror_mode": {
        "name": "ipython",
        "version": 3
      },
      "file_extension": ".py",
      "mimetype": "text/x-python",
      "name": "python",
      "nbconvert_exporter": "python",
      "pygments_lexer": "ipython3",
      "version": "3.10.8"
    }
  },
  "nbformat": 4,
  "nbformat_minor": 0
}