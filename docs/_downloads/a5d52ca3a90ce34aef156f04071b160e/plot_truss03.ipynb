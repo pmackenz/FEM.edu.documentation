{
  "cells": [
    {
      "cell_type": "markdown",
      "metadata": {},
      "source": [
        "\n# Simple triangular truss.\n\nThis example is structurally identical to ExampleTruss01 but utilizes\nthe alternative input style for adding Nodes and Elements to the model.\n\nThe system is statically determined and allows for easy validation of\ncalculated deformation, reactions and internal forces.\n\nAuthor: Peter Mackenzie-Helnwein\n"
      ]
    },
    {
      "cell_type": "markdown",
      "metadata": {},
      "source": [
        "Setup\n\n"
      ]
    },
    {
      "cell_type": "code",
      "execution_count": null,
      "metadata": {
        "collapsed": false
      },
      "outputs": [],
      "source": [
        "import matplotlib.pyplot as plt\n\nfrom femedu.examples import Example\n\nfrom femedu.domain import System, Node\nfrom femedu.elements.linear import Truss\nfrom femedu.materials import FiberMaterial\n\n\nclass ExampleTruss03(Example):\n\n    def problem(self):\n        # initialize a system model\n        B = 6.0 * 12\n        H = 3.0 * 12\n        params = {'E': 10., 'A': 1., 'nu': 0.0, 'fy': 1.e30}\n\n        model = System()\n\n        # create nodes\n        nd0 = Node(0.0, 0.0)\n        nd1 = Node(  B, 0.0)\n        nd2 = Node(0.5*B, H)\n\n        model += nd0\n        model += nd1\n        model += nd2\n\n        # create elements\n        model += Truss(nd0, nd1, FiberMaterial(params))  # bottom 1\n        model += Truss(nd0, nd2, FiberMaterial(params))  # up right diag 1\n        model += Truss(nd1, nd2, FiberMaterial(params))  # up left diag 1\n\n        # define support(s)\n        nd0.fixDOF('ux')    # horizontal support left end\n        #nd0 //= 0\n        nd0.fixDOF('uy')    # vertical support left end\n        nd1.fixDOF('uy')    # vertical support right end\n\n        # add loads\n        # .. load only the upper nodes\n        nd2.setLoad((0.0, -1.0), ('ux','uy'))\n\n        # analyze the model\n        model.solve()\n\n        # write out report\n        model.report()\n\n        # create plots\n        model.plot(factor=1., filename=\"truss03_deformed_a.png\")\n\n        # fix horizontal motion of node 1\n        nd1.fixDOF('ux')\n\n        # add loads: same load -- nothing to do\n\n        # RE-analyze the model\n        model.resetDisp()\n        model.solve()\n\n        # skip the report\n        model.report()\n\n        # create plots\n        model.plot(factor=1., filename=\"truss03_deformed_b.png\")"
      ]
    },
    {
      "cell_type": "markdown",
      "metadata": {},
      "source": [
        "Run the example by creating an instance of the problem and executing it by calling :py:meth:`Example.run()`\n\n\n"
      ]
    },
    {
      "cell_type": "code",
      "execution_count": null,
      "metadata": {
        "collapsed": false
      },
      "outputs": [],
      "source": [
        "if __name__ == \"__main__\":\n    ex = ExampleTruss03()\n    ex.run()"
      ]
    }
  ],
  "metadata": {
    "kernelspec": {
      "display_name": "Python 3",
      "language": "python",
      "name": "python3"
    },
    "language_info": {
      "codemirror_mode": {
        "name": "ipython",
        "version": 3
      },
      "file_extension": ".py",
      "mimetype": "text/x-python",
      "name": "python",
      "nbconvert_exporter": "python",
      "pygments_lexer": "ipython3",
      "version": "3.13.2"
    }
  },
  "nbformat": 4,
  "nbformat_minor": 0
}