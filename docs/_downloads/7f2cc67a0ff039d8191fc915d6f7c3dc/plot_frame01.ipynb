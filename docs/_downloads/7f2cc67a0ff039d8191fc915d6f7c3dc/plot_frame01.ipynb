{
  "cells": [
    {
      "cell_type": "code",
      "execution_count": null,
      "metadata": {
        "collapsed": false
      },
      "outputs": [],
      "source": [
        "%matplotlib inline"
      ]
    },
    {
      "cell_type": "markdown",
      "metadata": {},
      "source": [
        "\n# Buckling of a beam with pin-pin support\n\nmodeled using a 2D frame element\n\n.. code::\n\n    x============x=============x  <---\n    ^                          o\n\n    x ..... node\n    === ... frame element\n    <-- ... applied force\n    ^ ..... pin support\n    o ..... roller support\n\n    degrees of freedom:\n    0 ... horizontal displacement, u\n    1 ... vertical displacement, v\n    2 ... rotation, theta\n\n\n.. list-table:: setting given parameters\n\n    * - N  = 2\n      - number of elements\n    * - L  = 100.0\n      - column length\n    * - EA = 2000000.0\n      - axial stiffness\n    * - EI = 21000.0\n      - flexural stiffness\n    * - w  = 0.1\n      - applied lateral load\n\nAuthor: Peter Mackenzie-Helnwein\n"
      ]
    },
    {
      "cell_type": "code",
      "execution_count": null,
      "metadata": {
        "collapsed": false
      },
      "outputs": [],
      "source": [
        "from femedu.examples.Example import *\n\nfrom femedu.domain import *\nfrom femedu.solver.NewtonRaphsonSolver import *\nfrom femedu.elements.Frame2D import *\nfrom femedu.materials.ElasticSection import *\n\n\nclass ExampleFrame01(Example):\n\n    def problem(self):\n\n        #\n        # ==== Initialization ====\n        #\n\n        # ========== setting mesh parameters ==============\n\n        N = 8         # number of elements in the mesh\n        L = 100.0     # column free length\n\n\n        # ========== setting material parameters ==============\n\n        params = dict(\n            E = 20000.,    # Young's modulus\n            A = 100.0,     # cross section area\n            I = 10.0       # cross section moment of inertia\n        )\n\n        # ========== setting load parameters ==============\n\n        w   = -0.1         # uniform lateral load on the column\n        Pcr = np.pi**2 * params['E'] * params['I'] / L**2    # Euler buckling load\n\n        # ========== setting analysis parameters ==============\n\n        target_load_level = 0.99      # 99% of Euler load\n        max_steps = 10                # solve max_steps points on the primary path\n\n\n        w   *= 0.01\n        Pcr *= 0.01\n        target_load_level = 99.      # 99% of Euler load\n\n\n\n        # define a list of target load levels\n        load_levels = np.linspace(0, target_load_level, max_steps)\n\n        #\n        # ==== Build the system model ====\n        #\n\n        model = System()\n        model.setSolver(NewtonRaphsonSolver())\n\n        # create nodes\n\n        nd0 = Node(0.0, 0.0)\n        model += nd0\n\n        ndi = nd0\n        for i in range(N):\n            # nodes\n            ndj = Node( (i+1)*L/N, 0.0 )\n            model += ndj\n\n            # elements\n            elem = Frame2D(ndi, ndj, ElasticSection(params))\n            model += elem\n\n            # ** apply the element portion of the reference load\n            elem.setDistLoad(w)\n\n            ndi = ndj    # jump to next element: make current end-node the next start-node\n\n        # define support(s)\n\n        nd0.fixDOF('ux', 'uy')    # horizontal support left end\n        ndi.fixDOF('uy')          # vertical support right end\n\n        # ==== complete the reference load ====\n\n        # these are only nodal forces as part of the reference load\n        # .. load only the upper node\n        ndi.setLoad((-Pcr,), ('ux',))\n\n        # show model information\n        print(model)\n\n        #\n        # ==== perform the analysis ===\n        #\n\n        print(\"\\n==== perform the analysis ===\\n\")\n\n        # * apply the load in multiple smaller load steps\n\n        # set up data recorder\n        model.initRecorder()\n        model.trackStability(True)\n\n        # initialize the analysis:\n        model.resetDisplacements()   # set U to all zeros\n        model.setLoadFactor(0.0)     # define a known equilibrium solution\n\n        model.startRecorder()\n\n        detKt   = []\n        lambdas = []\n\n        # solve for all load_levels\n        for loadfactor in load_levels:\n\n            # define node X2 as the controled node; downward direction is prescribed:\n            model.setLoadFactor(loadfactor)\n            model.solve(verbose=True)\n\n            # stability check\n            lambdas.append(model.loadfactor)\n            detKt.append(model.solver.checkStability())\n\n            # report results\n            print('+')\n            #model.report()\n\n            print(\"\\n=== next load level ===\\n\")\n\n\n        #\n        # ==== create some nice plots ===\n        #\n\n        model.report()\n\n        model.plot(factor=1.0, filename=\"frame1_deformed.png\")\n\n        fig, ax = plt.subplots()\n\n        ax.plot(lambdas,detKt,'--*r')\n        ax.grid(True)\n        ax.set_xlabel('Load factor, $ \\lambda $')\n        ax.set_ylabel(\"Stability index, $ {det}\\: {\\\\bf K}_t $\")\n\n        fig.savefig(\"frame1_stability.png\")\n        fig.show()\n\n        model.beamValuePlot(\"F\", filename=\"frame1_force.png\")\n        model.beamValuePlot(\"V\", filename=\"frame1_shear.png\")\n        model.beamValuePlot(\"M\", filename=\"frame1_moment.png\")\n\n        model.plotBucklingMode(factor=10., filename=\"frame1_buckling_mode0.png\")"
      ]
    },
    {
      "cell_type": "markdown",
      "metadata": {},
      "source": [
        "Run the example by creating an instance of the problem and executing it by calling :py:meth:`Example.run()`\n\n\n"
      ]
    },
    {
      "cell_type": "code",
      "execution_count": null,
      "metadata": {
        "collapsed": false
      },
      "outputs": [],
      "source": [
        "if __name__ == \"__main__\":\n    ex = ExampleFrame01()\n    ex.run()"
      ]
    }
  ],
  "metadata": {
    "kernelspec": {
      "display_name": "Python 3",
      "language": "python",
      "name": "python3"
    },
    "language_info": {
      "codemirror_mode": {
        "name": "ipython",
        "version": 3
      },
      "file_extension": ".py",
      "mimetype": "text/x-python",
      "name": "python",
      "nbconvert_exporter": "python",
      "pygments_lexer": "ipython3",
      "version": "3.10.8"
    }
  },
  "nbformat": 4,
  "nbformat_minor": 0
}