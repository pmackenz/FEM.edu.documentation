{
  "cells": [
    {
      "cell_type": "markdown",
      "metadata": {},
      "source": [
        "\n# Element Testing: Analyzing Modes and Energy\n\nBasic implementation test with applied loads.\n    Testing the tangent stiffness computation.\n\n.. code::\n\n    free   free\n     ^     ^\n     |     |\n     3-----2 -> free\n     |     | >\n     |  a  | > (w = 1.0)\n     |     | >\n     0-----1 -> free\n\n    width:  10.\n    height: 10.\n\n    Material parameters: St. Venant-Kirchhoff, plane stress\n        E  = 10.0\n        nu =  0.30\n        t  =  1.0\n\nAuthor: Peter Mackenzie-Helnwein\n"
      ]
    },
    {
      "cell_type": "code",
      "execution_count": null,
      "metadata": {
        "collapsed": false
      },
      "outputs": [],
      "source": [
        "# sphinx_gallery_thumbnail_number = 5\n\nimport numpy as np\n\nfrom femedu.examples import Example\n\nfrom femedu.domain import System, Node\nfrom femedu.solver import NewtonRaphsonSolver\nfrom femedu.elements.linear import Quad\nfrom femedu.elements.finite import Quad9\nfrom femedu.materials import PlaneStress\n\n# -------------------------------------------------------------\n#   Example setup\n# -------------------------------------------------------------\n\nparams = dict(\n    E  = 10., # Young's modulus\n    nu = 0.3,   # Poisson's ratio\n    t  = 1.0,   # thickness of the plate\n    fy = 1.e30  # yield stress\n)\n\na = 10.     # length of the plate in the x-direction\nb = 12.     # length of the plate in the y-direction\n\nmodel = System()\nmodel.setSolver(NewtonRaphsonSolver())\n\nnd0 = Node( 0.0, 0.0)\nnd1 = Node(   a, 0.0)\nnd2 = Node(   a,   b)\nnd3 = Node( 0.0,   b)\n\nnd4 = Node( a/2, 0.0 )\nnd5 = Node( a, b/2 )\nnd6 = Node( a/2, b )\nnd7 = Node( 0., b/2 )\n\nnd8 = Node( a/2, b/2 )\n\nmodel.addNode(nd0, nd1, nd2, nd3)  # corner nodes\nmodel.addNode(nd4, nd5, nd6, nd7)  # midside nodes\nmodel.addNode( nd8 )                      # center node\n\nelemA = Quad(nd0, nd1, nd2, nd3, PlaneStress(params))\nelemB = Quad9(nd0, nd1, nd2, nd3, nd4, nd5, nd6, nd7, nd8, PlaneStress(params))\n\n# model.addElement(elemA)\nmodel.addElement(elemB)\n\nelemA.setSurfaceLoad(face=1, pn=1.0)\n\nmodel.plot(factor=0.0, title=\"Undeformed system\", show_bc=1)"
      ]
    },
    {
      "cell_type": "markdown",
      "metadata": {},
      "source": [
        "We can have a quick look at the stiffness mode shapes using the\nbuckling-mode plotter.  These are simply eigenvalues and eigenvectors of Kt\nat the current load level (0.0)\n\n\n"
      ]
    },
    {
      "cell_type": "code",
      "execution_count": null,
      "metadata": {
        "collapsed": false
      },
      "outputs": [],
      "source": [
        "model.setLoadFactor(0.0)\nmodel.solve()\n\n# np.save('../../../Kplate.npy', model.solver.Kt)\n\nfor k in range(18):\n    model.plotBucklingMode(mode=k, factor=1.0)"
      ]
    },
    {
      "cell_type": "markdown",
      "metadata": {},
      "source": [
        "Note the three rigid body modes (lam=0.0). It can be shown that all three\nare linear combinations of translations in x and y-directions and a\nrigid body rotation.\n\n\n"
      ]
    },
    {
      "cell_type": "markdown",
      "metadata": {},
      "source": [
        "Now it is time to add boundary conditions, apply loads\nand check the convergence behavior.\n\n\n"
      ]
    },
    {
      "cell_type": "code",
      "execution_count": null,
      "metadata": {
        "collapsed": false
      },
      "outputs": [],
      "source": [
        "nd0.fixDOF('ux', 'uy')\nnd1.fixDOF('uy')\nnd3.fixDOF('ux')\n\nmodel.setLoadFactor(1.0)\nmodel.solve()"
      ]
    },
    {
      "cell_type": "markdown",
      "metadata": {},
      "source": [
        "The output shows that we do have a quadratic rate of convergence.\n\n"
      ]
    },
    {
      "cell_type": "markdown",
      "metadata": {},
      "source": [
        "Let's finish off with a nice plot of the deformed system.\n\n"
      ]
    },
    {
      "cell_type": "code",
      "execution_count": null,
      "metadata": {
        "collapsed": false
      },
      "outputs": [],
      "source": [
        "model.plot(factor=1.0)\n\nmodel.report()"
      ]
    }
  ],
  "metadata": {
    "kernelspec": {
      "display_name": "Python 3",
      "language": "python",
      "name": "python3"
    },
    "language_info": {
      "codemirror_mode": {
        "name": "ipython",
        "version": 3
      },
      "file_extension": ".py",
      "mimetype": "text/x-python",
      "name": "python",
      "nbconvert_exporter": "python",
      "pygments_lexer": "ipython3",
      "version": "3.13.1"
    }
  },
  "nbformat": 4,
  "nbformat_minor": 0
}