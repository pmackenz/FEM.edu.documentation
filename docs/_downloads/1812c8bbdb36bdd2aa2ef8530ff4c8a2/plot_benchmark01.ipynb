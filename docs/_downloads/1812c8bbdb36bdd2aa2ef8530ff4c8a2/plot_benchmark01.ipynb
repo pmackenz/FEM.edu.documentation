{
  "cells": [
    {
      "cell_type": "code",
      "execution_count": null,
      "metadata": {
        "collapsed": false
      },
      "outputs": [],
      "source": [
        "%matplotlib inline"
      ]
    },
    {
      "cell_type": "markdown",
      "metadata": {},
      "source": [
        "\n# Benchmark problem: Wedged Plate\n\nUsing PatchMesher to model the plate\n"
      ]
    },
    {
      "cell_type": "code",
      "execution_count": null,
      "metadata": {
        "collapsed": false
      },
      "outputs": [],
      "source": [
        "import math\nimport sys\nimport numpy as np\n\nfrom femedu.examples import Example\n\nfrom femedu.domain import System, Node\nfrom femedu.solver import NewtonRaphsonSolver\n#from femedu.elements.linear import Quad, Triangle\nfrom femedu.elements.finite import Quad, Triangle\nfrom femedu.materials import PlaneStress\nfrom femedu.mesher import *\n\n\nclass ExampleBenchmark01(Example):\n\n    def problem(self):\n        # ========== setting mesh parameters ==============\n\n        Nx = 8      # number of elements in the mesh\n        Ny = 4       # number of elements in the mesh\n        L1 =  48.0\n        L2 =  44.0\n        L3 =  16.0\n\n        # ========== setting material parameters ==============\n\n        params = dict(\n            E  = 1000.,    # Young's modulus\n            nu = 0.3,   # Poisson's ratio\n            t  = 1.00   # thickness of the plate\n        )\n\n        # ========== setting load parameters ==============\n\n        px  =  0.0         # uniform load normal to x=Lx\n        py  =  0.0         # uniform load normal to y=Ly\n        pxy =  100.0/L3    # uniform shear load on x=L1\n\n        # ========== setting analysis parameters ==============\n\n        target_load_level = 5.00     # reference load\n        max_steps = 26                # number of load steps: 2 -> [0.0, 1.0]\n\n        # define a list of target load levels\n        load_levels = np.linspace(0, target_load_level, max_steps)\n\n        #\n        # ==== Build the system model ====\n        #\n\n        model = System()\n        model.setSolver(NewtonRaphsonSolver())\n\n        # create nodes\n\n        mesher = PatchMesher(model, (0.,0.),(L1, L2),(L1, L2+L3),(0.,L2) )\n        nodes, elements = mesher.quadMesh(Nx, Ny, Quad, PlaneStress(params))\n\n        mesher.shift(1.25*L1, 0.0)\n        nodes2, elements2 = mesher.triangleMesh(Nx, Ny, Triangle, PlaneStress(params))\n\n        nodes += nodes2\n        elements += elements2\n\n\n        # ==== Apply boundary conditions ====\n\n        #\n        # the left model\n        #\n\n        Xo = np.array([L1, 0.0])\n        No = np.array([1.0, 0.0])\n\n        for node in nodes:\n            X = node.getPos()\n\n            # define support(s) ...\n            if math.isclose(X[0], 0.0):\n                node.fixDOF('ux','uy')    # fix left side\n\n            # define loads ...\n            if math.isclose(X[0],L1):\n                # locate the node at the centerline\n                if math.isclose(X[1],L2+L3):\n                    nodeA = node\n                # load the end faces\n                for elem in node.elements:\n                    for face in elem.faces:\n                        for x, area in zip(face.pos, face.area):\n                            if np.abs( (x - Xo) @ No ) < 1.0e-2 and  No @ area / np.linalg.norm(area):\n                                face.setLoad(px, pxy)\n        #\n        # the right model\n        #\n\n        Xo = np.array([2.25*L1, 0.0])\n        No = np.array([1.0, 0.0])\n\n        for node in nodes:\n            X = node.getPos()\n\n            # define support(s) ...\n            if math.isclose(X[0], 1.25*L1):\n                node.fixDOF('ux','uy')    # fix left side\n\n            # define loads ...\n            X = node.getPos()\n            if math.isclose(X[0],2.25*L1):\n                # locate the node at the centerline\n                if math.isclose(X[1],L2+L3):\n                    nodeB = node\n                # load the end faces\n                for elem in node.elements:\n                    for face in elem.faces:\n                        for x, area in zip(face.pos, face.area):\n                            if np.abs( (x - Xo) @ No ) < 1.0e-2 and  No @ area / np.linalg.norm(area):\n                                face.setLoad(px, pxy)\n\n        #model.report()\n\n        # set up a recorder\n        model.initRecorder(variables=['ux','uy'], nodes=[nodeA, nodeB])\n        model.startRecorder()\n\n        model.plot(factor=0, title=\"undeformed system\", filename=\"benchmark01_undeformed.png\", show_bc=1, show_loads=1)\n\n        for lf in np.linspace(0.0, target_load_level, max_steps):\n\n            model.setLoadFactor(lf)\n            model.solve(verbose=True)\n\n            #model.report()\n\n\n        model.plot(factor=1., filename=f\"benchmark01_deformed_lf{lf:.2f}.png\", show_bc=1, show_loads=1, show_reactions=1)\n\n        model.valuePlot('ux', filename=f\"benchmark01_ux_lf{lf:.2f}.png\")\n        model.valuePlot('uy', show_mesh=True, filename=f\"benchmark01_uy_lf{lf:.2f}.png\")\n\n        # create a history plot for the end node\n\n        #model.historyPlot('lam', ['ux','uy'], nodes=[nodeA,nodeA])\n        #model.historyPlot('lam', ['ux','uy'], nodes=[nodeB,nodeB])\n        model.historyPlot('lam', ['ux','uy','ux','uy'], nodes=[nodeA,nodeA,nodeB,nodeB])"
      ]
    },
    {
      "cell_type": "markdown",
      "metadata": {},
      "source": [
        "Run the example by creating an instance of the problem and executing it by calling :py:meth:`Example.run()`\n\n\n"
      ]
    },
    {
      "cell_type": "code",
      "execution_count": null,
      "metadata": {
        "collapsed": false
      },
      "outputs": [],
      "source": [
        "if __name__ == \"__main__\":\n    ex = ExampleBenchmark01()\n    ex.run()"
      ]
    }
  ],
  "metadata": {
    "kernelspec": {
      "display_name": "Python 3",
      "language": "python",
      "name": "python3"
    },
    "language_info": {
      "codemirror_mode": {
        "name": "ipython",
        "version": 3
      },
      "file_extension": ".py",
      "mimetype": "text/x-python",
      "name": "python",
      "nbconvert_exporter": "python",
      "pygments_lexer": "ipython3",
      "version": "3.10.8"
    }
  },
  "nbformat": 4,
  "nbformat_minor": 0
}