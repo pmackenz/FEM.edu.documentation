{
  "cells": [
    {
      "cell_type": "markdown",
      "metadata": {},
      "source": [
        "\n# Post-buckling of a truss column using load Control.\n\nWe shall be using load stepping to illustrate the limitation of this control technique.\n\nAuthor: Peter Mackenzie-Helnwein\n"
      ]
    },
    {
      "cell_type": "markdown",
      "metadata": {},
      "source": [
        "Setup\n\n"
      ]
    },
    {
      "cell_type": "code",
      "execution_count": null,
      "metadata": {
        "collapsed": false
      },
      "outputs": [],
      "source": [
        "import numpy as np\nimport matplotlib.pyplot as plt\n\nfrom femedu.examples import Example\n\nfrom femedu.domain import System, Node\nfrom femedu.elements.finite import Truss\nfrom femedu.materials import FiberMaterial\nfrom femedu.solver import NewtonRaphsonSolver"
      ]
    },
    {
      "cell_type": "markdown",
      "metadata": {},
      "source": [
        "Create the example by subclassing the :py:class:`Example`\n\n"
      ]
    },
    {
      "cell_type": "code",
      "execution_count": null,
      "metadata": {
        "collapsed": false
      },
      "outputs": [],
      "source": [
        "class ExampleTruss07(Example):\n\n    def problem(self):\n        # units\n        mm = 1.\n        m = 1000. * mm\n        N  = 1.0\n        kN = 1000. * N\n        MN = 1000. * kN\n        Pa = N / m**2\n        MPa = 1.e6 * Pa\n        GPa = 1000. * MPa\n\n        # mesh parameters\n        H = 5.00 * m\n        W = H / 20\n\n        Px = 0.05 * kN\n\n        #Ny = 11\n        Ny = 20\n\n        params_vert = dict(\n            E = 200 * GPa,\n            A = 10 * mm**2\n        )\n\n        params_diag = dict(\n            E = 200 * GPa,\n            A = 50 * mm**2\n        )\n\n        params_brace = dict(\n            E = 200 * GPa,\n            A = 50 * mm**2\n        )\n\n        EI = params_vert['E'] * params_vert['A'] * W**2 / 2\n        Py = EI * np.pi**2 / (2*H)**2\n\n        # initialize a system model\n        model = System()\n        model.setSolver(NewtonRaphsonSolver())\n\n        # create floor nodes\n        h = 0.0\n        nd0 = Node(0.0, h)\n        nd1 = Node(  W, h)\n\n        nd_00 = nd0\n        nd_01 = nd1\n\n        model.addNode(nd0, nd1)\n\n        for layer in range(Ny):\n            h += H / Ny\n            nd_10 = Node(0.0, h)\n            nd_11 = Node(  W, h)\n\n            model.addNode(nd_10, nd_11)\n\n            # create elements\n            model += Truss(nd_00, nd_10, FiberMaterial(params_vert))\n            model += Truss(nd_01, nd_11, FiberMaterial(params_vert))\n            model += Truss(nd_00, nd_11, FiberMaterial(params_diag))\n            model += Truss(nd_10, nd_11, FiberMaterial(params_brace))\n\n            # prep for the next level\n            nd_00 = nd_10\n            nd_01 = nd_11\n\n        # apply boundary conditions\n        nd0.fixDOF(['ux','uy'])\n        nd1.fixDOF(['ux','uy'])\n\n        # build reference load\n        nd_10.addLoad([-Py/2],['uy'])\n        nd_11.addLoad([-Py/2],['uy'])\n        nd_10.addLoad([ Px/2],['ux'])\n        nd_11.addLoad([ Px/2],['ux'])\n\n        # write out report\n        model.report()\n\n        # create plots\n        model.setLoadFactor(1.0)    # needed to show the reference load\n        model.plot(factor=0., filename=\"truss07_undeformed.png\", show_loads=1, show_bc=1, title=\"Undeformed System\")\n\n        #\n        # performing the analysis\n        #\n        model.resetDisp()\n\n        # setting target load levels\n        levels = np.linspace(0.0, 1.50, 15)\n        levels = np.linspace(0.0, 2.00, 30)\n\n        # set up data collection\n        data_list = []\n\n        # reset the analysis\n        model.resetDisp()\n\n        # apply all load steps\n        for lam in levels:\n\n            model.setLoadFactor(lam)\n            model.solve()\n\n            # collect data\n            data_list.append(nd_11.getDisp())\n\n        # plot the deformed shape\n        model.plot(factor=1.0, filename=\"truss07_deformed.png\", show_loads=False, show_reactions=False)\n\n        data = np.array(data_list)\n\n        plt.figure()\n        plt.plot(data, levels, '--o')\n        plt.grid(True)\n        plt.xlabel('displacements $ u_i $')\n        plt.ylabel('load factor $ \\lambda $')\n        plt.legend(['$ u_x $','$ u_y $'])\n        plt.savefig(\"truss07_deformation_history.png\")\n        plt.show()"
      ]
    },
    {
      "cell_type": "markdown",
      "metadata": {},
      "source": [
        "Run the example by creating an instance of the problem and executing it by calling :py:meth:`Example.run()`\n\n\n"
      ]
    },
    {
      "cell_type": "code",
      "execution_count": null,
      "metadata": {
        "collapsed": false
      },
      "outputs": [],
      "source": [
        "if __name__ == \"__main__\":\n    ex = ExampleTruss07()\n    ex.run()"
      ]
    }
  ],
  "metadata": {
    "kernelspec": {
      "display_name": "Python 3",
      "language": "python",
      "name": "python3"
    },
    "language_info": {
      "codemirror_mode": {
        "name": "ipython",
        "version": 3
      },
      "file_extension": ".py",
      "mimetype": "text/x-python",
      "name": "python",
      "nbconvert_exporter": "python",
      "pygments_lexer": "ipython3",
      "version": "3.11.6"
    }
  },
  "nbformat": 4,
  "nbformat_minor": 0
}