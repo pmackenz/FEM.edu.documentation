{
  "cells": [
    {
      "cell_type": "markdown",
      "metadata": {},
      "source": [
        "\n# Patch test for triangular plate under in-plane loading\n\nThe patch test is an empirical minimum test which every finite element has to pass to ensure convergence with mesh refinement.\n\nIt consists of a problem for which a known homogeneous solution exists.\nFor plates, we commonly use a rectangular plate subject to homogeneous edge loading,\ne.g., constant tension in the x-direction, or constant shear, etc.\n\nThe mesh must contain distorted elements and at least one element not attached to any node on the boundary.\n\nAuthor: Peter Mackenzie-Helnwein\n"
      ]
    },
    {
      "cell_type": "code",
      "execution_count": null,
      "metadata": {
        "collapsed": false
      },
      "outputs": [],
      "source": [
        "import numpy as np\n\nfrom femedu.examples import Example\n\nfrom femedu.domain import System, Node\nfrom femedu.solver import NewtonRaphsonSolver\nfrom femedu.elements.linear import Triangle\nfrom femedu.materials import PlaneStress\n\n\nclass ExamplePlate03(Example):\n\n    def problem(self):\n        # ========== setting mesh parameters ==============\n\n        N = 8         # number of elements in the mesh\n        Lx = 100.0    # length of plate in the x-direction\n        Ly =  80.0    # length of plate in the y-direction\n\n        # ========== setting material parameters ==============\n\n        params = dict(\n            E  = 20000.,    # Young's modulus\n            nu = 0.250,     # Poisson's ratio\n            t  = 1.00       # thickness of the plate\n        )\n\n        # ========== setting load parameters ==============\n\n        px  = 10.0         # uniform load normal to x=const\n        py  =  0.0         # uniform load normal to y=const\n        pxy =  0.0         # uniform shear load on x=const and y=const\n\n        # ========== setting analysis parameters ==============\n\n        target_load_level = 1.00     # reference load\n        max_steps = 2                # number of load steps: 2 -> [0.0, 1.0]\n\n        # define a list of target load levels\n        load_levels = np.linspace(0, target_load_level, max_steps)\n\n        #\n        # ==== Build the system model ====\n        #\n\n        model = System()\n        model.setSolver(NewtonRaphsonSolver())\n\n        # create nodes\n\n        nodes = (\n            Node(0.0*Lx, 0.0*Ly),  # nd 0\n            Node(0.2*Lx, 0.0*Ly),  # nd 1\n            Node(0.5*Lx, 0.0*Ly),  # nd 2\n            Node(0.7*Lx, 0.0*Ly),  # nd 3\n            Node(1.0*Lx, 0.0*Ly),  # nd 4\n            #\n            Node(0.0*Lx, 0.2*Ly),  # nd 5\n            Node(0.15*Lx,0.3*Ly),  # nd 6\n            Node(0.5*Lx, 0.2*Ly),  # nd 7\n            Node(0.8*Lx, 0.3*Ly),  # nd 8\n            Node(1.0*Lx, 0.2*Ly),  # nd 9\n            #\n            Node(0.0*Lx, 0.6*Ly),  # nd 10\n            Node(0.2*Lx, 0.5*Ly),  # nd 11\n            Node(0.7*Lx, 0.7*Ly),  # nd 12\n            Node(0.9*Lx, 0.6*Ly),  # nd 13\n            Node(1.0*Lx, 0.8*Ly),  # nd 14\n            #\n            Node(0.0*Lx, 1.0*Ly),  # nd 15\n            Node(0.3*Lx, 1.0*Ly),  # nd 16\n            Node(0.55*Lx,1.0*Ly),  # nd 17\n            Node(0.8*Lx, 1.0*Ly),  # nd 18\n            Node(1.0*Lx, 1.0*Ly),  # nd 19\n        )\n\n        elements = (\n            Triangle(nodes[0],nodes[1],nodes[5],PlaneStress(params)),  # elem 0\n            Triangle(nodes[1],nodes[2],nodes[6],PlaneStress(params)),  # elem 1\n            Triangle(nodes[2],nodes[3],nodes[7],PlaneStress(params)),  # elem 2\n            Triangle(nodes[3],nodes[4],nodes[8],PlaneStress(params)),  # elem 3\n            #\n            Triangle(nodes[6],nodes[5],nodes[1],PlaneStress(params)),  # elem 4\n            Triangle(nodes[7],nodes[6],nodes[2],PlaneStress(params)),  # elem 5\n            Triangle(nodes[8],nodes[7],nodes[3],PlaneStress(params)),  # elem 6\n            Triangle(nodes[9],nodes[8],nodes[4],PlaneStress(params)),  # elem 7\n            #\n            Triangle(nodes[5],nodes[6],nodes[10],PlaneStress(params)),  # elem 8\n            Triangle(nodes[6],nodes[7],nodes[11],PlaneStress(params)),  # elem 9\n            Triangle(nodes[7],nodes[8],nodes[12],PlaneStress(params)),  # elem 10\n            Triangle(nodes[8],nodes[9],nodes[13],PlaneStress(params)),  # elem 11\n            #\n            Triangle(nodes[11],nodes[10],nodes[6],PlaneStress(params)),  # elem 12\n            Triangle(nodes[12],nodes[11],nodes[7],PlaneStress(params)),  # elem 13\n            Triangle(nodes[13],nodes[12],nodes[8],PlaneStress(params)),  # elem 14\n            Triangle(nodes[14],nodes[13],nodes[9],PlaneStress(params)),  # elem 15\n            #\n            Triangle(nodes[10],nodes[11],nodes[15],PlaneStress(params)),  # elem 16\n            Triangle(nodes[11],nodes[12],nodes[16],PlaneStress(params)),  # elem 17\n            Triangle(nodes[12],nodes[13],nodes[17],PlaneStress(params)),  # elem 18\n            Triangle(nodes[13],nodes[14],nodes[18],PlaneStress(params)),  # elem 19\n            #\n            Triangle(nodes[16],nodes[15],nodes[11],PlaneStress(params)),  # elem 20\n            Triangle(nodes[17],nodes[16],nodes[12],PlaneStress(params)),  # elem 21\n            Triangle(nodes[18],nodes[17],nodes[13],PlaneStress(params)),  # elem 22\n            Triangle(nodes[19],nodes[18],nodes[14],PlaneStress(params)),  # elem 23\n        )\n\n        model.addNode(*nodes)\n        model.addElement(*elements)\n\n        # define support(s)\n\n        fix_x = (0,)\n        fix_y = (0,4)\n\n        for idx in fix_x:\n            nodes[idx].fixDOF('ux')    # horizontal support left end\n        for idx in fix_y:\n            nodes[idx].fixDOF('uy')          # vertical support right end\n\n        # ==== complete the reference load ====\n\n        # surface loads on the left side\n        elements[ 0].setSurfaceLoad(2,px)\n        elements[ 8].setSurfaceLoad(2,px)\n        elements[16].setSurfaceLoad(2,px)\n\n        # surface loads on the right side\n        elements[ 7].setSurfaceLoad(2,px)\n        elements[15].setSurfaceLoad(2,px)\n        elements[23].setSurfaceLoad(2,px)\n\n        # these are only nodal forces as part of the reference load\n        # .. load only the upper node\n        #print(model)\n\n        model.report()\n\n        model.plotSystem()\n\n        model.setLoadFactor(10.0)\n        model.solve()\n\n        model.solver.showKt()\n\n        model.report()\n\n        model.plot(factor=25., filename=\"plate08_deformed.png\")\n\n        # tmpl = \"{:12.4f} {:12.4f}\"\n        # for elem in model.elements:\n        #     print(tmpl.format(elem.area, elem.material.getStress()['xx']))\n\n        # requires femedu-1.0.25 or newer\n        model.valuePlot('sxx', show_mesh=True)\n\n        # tmpl = \"{:>12} {:>5} {:12.4f} {:12.4f} {:12.4f}\"\n        # for node in model.nodes:\n        #     print(tmpl.format(node.getID(), node._mapped_variable, node._weighted_value, node._weight, node.getMappedValue('sxx')))\n\n        model.valuePlot('syy', show_mesh=True)\n        model.valuePlot('sxy', show_mesh=True)"
      ]
    },
    {
      "cell_type": "markdown",
      "metadata": {},
      "source": [
        "Run the example by creating an instance of the problem and executing it by calling :py:meth:`Example.run()`\n\n\n"
      ]
    },
    {
      "cell_type": "code",
      "execution_count": null,
      "metadata": {
        "collapsed": false
      },
      "outputs": [],
      "source": [
        "if __name__ == \"__main__\":\n    ex = ExamplePlate03()\n    ex.run()"
      ]
    }
  ],
  "metadata": {
    "kernelspec": {
      "display_name": "Python 3",
      "language": "python",
      "name": "python3"
    },
    "language_info": {
      "codemirror_mode": {
        "name": "ipython",
        "version": 3
      },
      "file_extension": ".py",
      "mimetype": "text/x-python",
      "name": "python",
      "nbconvert_exporter": "python",
      "pygments_lexer": "ipython3",
      "version": "3.13.1"
    }
  },
  "nbformat": 4,
  "nbformat_minor": 0
}