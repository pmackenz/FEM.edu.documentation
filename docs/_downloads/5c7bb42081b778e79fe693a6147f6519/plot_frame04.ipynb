{
  "cells": [
    {
      "cell_type": "markdown",
      "metadata": {},
      "source": [
        "\n# Frame with inclined support\n\nmodeled using\n* a linear 2D frame element\n* inclined boundary condition (using Transformation)\n* element loading\n\n.. list-table:: setting given parameters\n\n    * - N  = 8\n      - number of elements\n    * - L  = 10.0 ft\n      - segment length\n    * - MOE = 29000 ksi\n      - modulus of elasticity\n    * - A = 1.04828 in^2\n      - cross section area\n    * - I = 5.5908 in^4\n      - moment of inertia\n    * - w = 0.333 * kip / ft\n      - applied lateral load\n\nAuthor: Peter Mackenzie-Helnwein\n"
      ]
    },
    {
      "cell_type": "code",
      "execution_count": null,
      "metadata": {
        "collapsed": false
      },
      "outputs": [],
      "source": [
        "from random import betavariate\n\nimport numpy as np\n\nfrom femedu.examples.Example import *\n\nfrom femedu.domain import *\nfrom femedu.solver import LinearSolver, NewtonRaphsonSolver\nfrom femedu.elements.linear import Frame2D\nfrom femedu.domain import Frame2dTransformation\nfrom femedu.materials import ElasticSection\n\n\nclass ExampleFrame04(Example):\n\n\n    def createMesh(self, nelem=4):\n        \"\"\"\n        Creates a mesh using `nelem` elements for each of the straight segments.\n        \"\"\"\n        if (not isinstance(nelem, int)) or nelem % 4:\n            msg = \"nelem must be an integer multiple of 4 (4,8,12,...)\"\n            raise TypeError(msg)\n\n        # units\n        inch = 1\n        ft = 12 * inch\n        kip = 1\n        kips = kip\n        lb = kip / 1000\n        psi = lb / inch ** 2\n        ksi = kip / inch ** 2\n        degrees = np.pi / 180.\n\n        # problem parameters\n        MOE  =  29000 * ksi\n        EI   = 162133 * kips * inch ** 2\n        EA   =  30400 * kips\n        L    =     10 * ft\n        w0   =  0.333 * kip / ft\n        beta = 30.0 * degrees  # slope of the upper support\n\n        #\n        # start meshing\n        #\n        s = np.linspace(0.0, 1.0, nelem // 2 + 1)\n\n        params = dict(\n            E = MOE,\n            A = EA/MOE,\n            I = EI/MOE,\n        )\n\n        material = ElasticSection(params)\n\n        # nodes\n        nodes  = [ Node(0.0, si * L) for si in s]\n        nodes += [ Node(si * L * np.cos(np.radians(30.)), L + si * L * np.sin(np.radians(30.))) for si in s[1:]]\n\n        # elements\n        elements = [Frame2D(nodes[i], nodes[i+1], material) for i in range(nelem)]\n\n        # fixities\n        # ... the first node\n        nodes[0].fixDOF(['ux','uy','rz'])\n        # ... the last node\n        nvec = [np.cos(beta), np.sin(beta)]            # vector parallel to the sliding plane of the upper support\n\n        transform = Frame2dTransformation(nvec)        # an in-plane rotation\n        nodes[-1].addTransformation(transform)         # defining a local frame for the last node\n\n        nodes[-1].fixDOF(['uy', ])                     # fixing the LOCAL y-direction\n\n        # load the top half of the vertical member\n        # and the first half of the inclined member\n        for i in range(nelem//4, 3*nelem//4):\n            elements[i].setDistLoad(-w0)\n\n        return (nodes, elements)\n\n    def problem(self):\n        # initialize a system model\n\n        N  = 4     # number of elements\n\n        # ========== setting global parameters ==============\n\n        target_load_level = 1.\n\n        # ========= build your structural model =============\n\n        model = System()\n        model.setSolver(NewtonRaphsonSolver())\n        # model.setSolver(LinearSolver())\n\n        nodes, elements = self.createMesh(N)\n\n        model.addNode(*nodes)\n        model.addElement(*elements)\n\n        # show model information\n        print(model)\n\n        print(\"\\n==== perform the analysis ===\\n\")\n\n        # solve\n        model.setLoadFactor(target_load_level)\n        model.solve(verbose=True, max_steps=10)\n\n        #\n        # ==== create some nice plots ===\n        #\n\n        model.report()\n\n        model.plot(factor=10.0, filename=\"frame4_deformed.png\", show_bc=1)\n\n        model.beamValuePlot(\"F\", filename=\"frame4_force.png\")\n        model.beamValuePlot(\"V\", filename=\"frame4_shear.png\")\n        model.beamValuePlot(\"M\", filename=\"frame4_moment.png\")"
      ]
    },
    {
      "cell_type": "markdown",
      "metadata": {},
      "source": [
        "Run the example by creating an instance of the problem and executing it by calling :py:meth:`Example.run()`\n\n\n"
      ]
    },
    {
      "cell_type": "code",
      "execution_count": null,
      "metadata": {
        "collapsed": false
      },
      "outputs": [],
      "source": [
        "if __name__ == \"__main__\":\n    ex = ExampleFrame04()\n    ex.run()"
      ]
    }
  ],
  "metadata": {
    "kernelspec": {
      "display_name": "Python 3",
      "language": "python",
      "name": "python3"
    },
    "language_info": {
      "codemirror_mode": {
        "name": "ipython",
        "version": 3
      },
      "file_extension": ".py",
      "mimetype": "text/x-python",
      "name": "python",
      "nbconvert_exporter": "python",
      "pygments_lexer": "ipython3",
      "version": "3.13.2"
    }
  },
  "nbformat": 4,
  "nbformat_minor": 0
}