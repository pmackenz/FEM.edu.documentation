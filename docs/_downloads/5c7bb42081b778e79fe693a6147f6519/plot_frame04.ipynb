{
  "cells": [
    {
      "cell_type": "markdown",
      "metadata": {},
      "source": [
        "\n# Buckling of a building frame\n\nmodeled using a 2D frame element\n\n.. list-table:: setting given parameters\n\n    * - N  = 2\n      - number of elements\n    * - L  = 100.0\n      - column length\n    * - EA = 2000000.0\n      - axial stiffness\n    * - EI = 21000.0\n      - flexural stiffness\n    * - w  = 0.1\n      - applied lateral load\n\nAuthor: Peter Mackenzie-Helnwein\n"
      ]
    },
    {
      "cell_type": "code",
      "execution_count": null,
      "metadata": {
        "collapsed": false
      },
      "outputs": [],
      "source": [
        "from femedu.examples.Example import *\n\nfrom femedu.domain import *\nfrom femedu.solver.NewtonRaphsonSolver import *\nfrom femedu.elements.finite.Frame2D import *\nfrom femedu.materials.ElasticSection import *\n\n\nclass ExampleFrame04(Example):\n\n    def problem(self):\n        # initialize a system model\n\n        N  = 8     # number of elements\n\n        B = 720.\n        H = 720.\n\n        E  = 29000.0\n        A = 150.0\n        I = 250.0\n\n        w = 0.10\n        load_at_nodes_only = False # set to True to apply equivalent nodal forces and moments\n\n        Ph = 0.01      # additional horizontal load per floor\n        Ph = 0.10      # additional horizontal load per floor\n        Ph = 1.00      # additional horizontal load per floor\n        Ph = 0.00      # additional horizontal load per floor\n\n        # ========== setting global parameters ==============\n\n        target_load_level = 33.\n        max_steps = 10\n        load_levels = np.linspace(0, target_load_level, max_steps)\n\n        # ========= build your structural model =============\n\n        model = System()\n        model.setSolver(NewtonRaphsonSolver())\n\n        x0 = 0.0\n        x1 = B / 3\n        x2 = 2 * B / 3\n        x3 = B\n\n        y0 = 0.0\n        y1 = H / 4\n        y2 = 2 * H / 4\n        y3 = 3 * H / 4\n        y4 = H\n\n        X10 = Node(x0, y0)\n        X11 = Node(x0, y1)\n        X12 = Node(x0, y2)\n        X13 = Node(x0, y3)\n        X14 = Node(x0, y4)\n\n        X20 = Node(x1, y0)\n        X21 = Node(x1, y1)\n        X22 = Node(x1, y2)\n        X23 = Node(x1, y3)\n        X24 = Node(x1, y4)\n\n        X30 = Node(x2, y0)\n        X31 = Node(x2, y1)\n        X32 = Node(x2, y2)\n        X33 = Node(x2, y3)\n        X34 = Node(x2, y4)\n\n        X40 = Node(x3, y0)\n        X41 = Node(x3, y1)\n        X42 = Node(x3, y2)\n        X43 = Node(x3, y3)\n        X44 = Node(x3, y4)\n\n        model.addNode(X10,X11,X12,X13,X14)\n        model.addNode(X20,X21,X22,X23,X24)\n        model.addNode(X30,X31,X32,X33,X34)\n        model.addNode(X40,X41,X42,X43,X44)\n\n        # columns\n\n        params = {'E': E, 'A': A, 'I': I}\n\n        C11 = Frame2D(X10, X11, ElasticSection(params))\n        C12 = Frame2D(X11, X12, ElasticSection(params))\n        C13 = Frame2D(X12, X13, ElasticSection(params))\n        C14 = Frame2D(X13, X14, ElasticSection(params))\n\n        model.addElement(C11,C12,C13,C14)\n\n        params = {'E': E, 'A': 2*A, 'I': 1.5*I}\n\n        C21 = Frame2D(X20, X21, ElasticSection(params))\n        C22 = Frame2D(X21, X22, ElasticSection(params))\n        C23 = Frame2D(X22, X23, ElasticSection(params))\n        C24 = Frame2D(X23, X24, ElasticSection(params))\n\n        model.addElement(C21,C22,C23,C24)\n\n        C31 = Frame2D(X30, X31, ElasticSection(params))\n        C32 = Frame2D(X31, X32, ElasticSection(params))\n        C33 = Frame2D(X32, X33, ElasticSection(params))\n        C34 = Frame2D(X33, X34, ElasticSection(params))\n\n        model.addElement(C31,C32,C33,C34)\n\n        params = {'E': E, 'A': A, 'I': I}\n\n        C41 = Frame2D(X40, X41, ElasticSection(params))\n        C42 = Frame2D(X41, X42, ElasticSection(params))\n        C43 = Frame2D(X42, X43, ElasticSection(params))\n        C44 = Frame2D(X43, X44, ElasticSection(params))\n\n        model.addElement(C41,C42,C43,C44)\n\n        # floors\n\n        params = {'E': E, 'A': A, 'I': 3*I}\n\n        F11 = Frame2D(X11, X21, ElasticSection(params))\n        F12 = Frame2D(X21, X31, ElasticSection(params))\n        F13 = Frame2D(X31, X41, ElasticSection(params))\n\n        model.addElement(F11,F12,F13)\n\n        F21 = Frame2D(X12, X22, ElasticSection(params))\n        F22 = Frame2D(X22, X32, ElasticSection(params))\n        F23 = Frame2D(X32, X42, ElasticSection(params))\n\n        model.addElement(F21,F22,F23)\n\n        F31 = Frame2D(X13, X23, ElasticSection(params))\n        F32 = Frame2D(X23, X33, ElasticSection(params))\n        F33 = Frame2D(X33, X43, ElasticSection(params))\n\n        model.addElement(F31,F32,F33)\n\n        F41 = Frame2D(X14, X24, ElasticSection(params))\n        F42 = Frame2D(X24, X34, ElasticSection(params))\n        F43 = Frame2D(X34, X44, ElasticSection(params))\n\n        model.addElement(F41,F42,F43)\n\n        # fixities\n        X10.fixDOF('ux','uy','rz')   # fixed\n        X20.fixDOF('ux','uy','rz')   # fixed\n        X30.fixDOF('ux','uy','rz')   # fixed\n        X40.fixDOF('ux','uy','rz')   # fixed\n\n        # reference load\n        #Pcr = np.pi**2 * EI / L**2\n        model.resetLoad()            # size load vector and initialize\n        #model.addLoad(Xn, -Pcr, dof=0) # add a horizontal force (first dof only) ; remember C-style indexing: 0,1,...,(n-1)\n\n        if load_at_nodes_only:\n\n            # floor loading as nodal loads ...\n\n            Pe = w * B/3\n            Mi = w * (B/3)**2 /12\n\n            X11.addLoad([-Pe/2., -Mi],['uy','rz'])\n            X21.addLoad([-Pe/2.,  0.],['uy','rz'])\n            X31.addLoad([-Pe/2.,  0.],['uy','rz'])\n            X41.addLoad([-Pe/2.,  Mi],['uy','rz'])\n\n            X12.addLoad([-Pe/2., -Mi],['uy','rz'])\n            X22.addLoad([-Pe/2.,  0.],['uy','rz'])\n            X32.addLoad([-Pe/2.,  0.],['uy','rz'])\n            X42.addLoad([-Pe/2.,  Mi],['uy','rz'])\n\n            X13.addLoad([-Pe/2., -Mi],['uy','rz'])\n            X23.addLoad([-Pe/2.,  0.],['uy','rz'])\n            X33.addLoad([-Pe/2.,  0.],['uy','rz'])\n            X43.addLoad([-Pe/2.,  Mi],['uy','rz'])\n\n            X14.addLoad([-Pe/2., -Mi],['uy','rz'])\n            X24.addLoad([-Pe/2.,  0.],['uy','rz'])\n            X34.addLoad([-Pe/2.,  0.],['uy','rz'])\n            X44.addLoad([-Pe/2.,  Mi],['uy','rz'])\n\n        else:\n\n            # floor loading as distributed loads ...\n\n            F11.setDistLoad(-w)\n            F12.setDistLoad(-w)\n            F13.setDistLoad(-w)\n\n            F21.setDistLoad(-w)\n            F22.setDistLoad(-w)\n            F23.setDistLoad(-w)\n\n            F31.setDistLoad(-w)\n            F32.setDistLoad(-w)\n            F33.setDistLoad(-w)\n\n            F41.setDistLoad(-w)\n            F42.setDistLoad(-w)\n            F43.setDistLoad(-w)\n\n\n        # wind load ...\n\n        X11.addLoad([Ph],['ux'])   # horizontal load\n        X12.addLoad([Ph],['ux'])   # horizontal load\n        X13.addLoad([Ph],['ux'])   # horizontal load\n        X14.addLoad([Ph/2],['ux']) # horizontal load\n\n\n        # show model information\n        print(model)\n\n        print(\"\\n==== perform the analysis ===\\n\")\n\n        # * apply the load in multiple smaller load steps\n\n        # set up data recorder\n        model.initRecorder()\n        model.trackStability(True)\n\n        # initialize the analysis:\n        model.resetDisplacements()   # set U to all zeros\n        model.setLoadFactor(0.0)     # define a known equilibrium solution\n\n        model.startRecorder()\n\n        detKt   = []\n        lambdas = []\n\n        # solve for all load_levels\n        for loadfactor in load_levels:\n\n            # define node X2 as the controled node; downward direction is prescribed:\n            model.setLoadFactor(loadfactor)\n            model.solve(verbose=True)\n\n            # stability check\n            lambdas.append(model.loadfactor)\n            detKt.append(model.solver.checkStability())\n\n            # report results\n            print('+')\n            #model.report()\n\n            print(\"\\n=== next load level ===\\n\")\n\n\n        #\n        # ==== create some nice plots ===\n        #\n\n        model.report()\n\n        model.plot(factor=10.0, filename=\"frame4_deformed.png\", show_bc=1)\n\n        fig, ax = plt.subplots()\n\n        ax.plot(lambdas,detKt,'--*r')\n        ax.grid(True)\n        ax.set_xlabel('Load factor, $ \\lambda $')\n        ax.set_ylabel(\"Stability index, $ {det}\\: {\\\\bf K}_t $\")\n\n        fig.savefig(\"frame4_stability.png\")\n        fig.show()\n\n        model.beamValuePlot(\"F\", filename=\"frame4_force.png\")\n        model.beamValuePlot(\"V\", filename=\"frame4_shear.png\")\n        model.beamValuePlot(\"M\", filename=\"frame4_moment.png\")\n\n        model.plotBucklingMode(factor=100., mode=0, filename=\"frame4_buckling_mode0.png\")\n        model.plotBucklingMode(factor=100., mode=1, filename=\"frame4_buckling_mode1.png\")\n        model.plotBucklingMode(factor=100., mode=2, filename=\"frame4_buckling_mode2.png\")\n        model.plotBucklingMode(factor=100., mode=3, filename=\"frame4_buckling_mode3.png\")"
      ]
    },
    {
      "cell_type": "markdown",
      "metadata": {},
      "source": [
        "Run the example by creating an instance of the problem and executing it by calling :py:meth:`Example.run()`\n\n\n"
      ]
    },
    {
      "cell_type": "code",
      "execution_count": null,
      "metadata": {
        "collapsed": false
      },
      "outputs": [],
      "source": [
        "if __name__ == \"__main__\":\n    ex = ExampleFrame04()\n    ex.run()"
      ]
    }
  ],
  "metadata": {
    "kernelspec": {
      "display_name": "Python 3",
      "language": "python",
      "name": "python3"
    },
    "language_info": {
      "codemirror_mode": {
        "name": "ipython",
        "version": 3
      },
      "file_extension": ".py",
      "mimetype": "text/x-python",
      "name": "python",
      "nbconvert_exporter": "python",
      "pygments_lexer": "ipython3",
      "version": "3.11.6"
    }
  },
  "nbformat": 4,
  "nbformat_minor": 0
}