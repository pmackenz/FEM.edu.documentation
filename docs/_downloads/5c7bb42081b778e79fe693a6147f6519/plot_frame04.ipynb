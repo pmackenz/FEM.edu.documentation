{
  "cells": [
    {
      "cell_type": "markdown",
      "metadata": {},
      "source": [
        "\n# Buckling of a building frame\n\nmodeled using\n* a 2D frame element\n* inclined boundary condition (using Transformation)\n* element loading\n\n.. list-table:: setting given parameters\n\n    * - N  = 2\n      - number of elements\n    * - L  = 100.0\n      - column length\n    * - EA = 2000000.0\n      - axial stiffness\n    * - EI = 21000.0\n      - flexural stiffness\n    * - w  = 0.1\n      - applied lateral load\n\nAuthor: Peter Mackenzie-Helnwein\n"
      ]
    },
    {
      "cell_type": "code",
      "execution_count": null,
      "metadata": {
        "collapsed": false
      },
      "outputs": [],
      "source": [
        "import numpy as np\n\nfrom femedu.examples.Example import *\n\nfrom femedu.domain import *\nfrom femedu.solver.NewtonRaphsonSolver import *\nfrom femedu.elements.finite.Frame2D import *\nfrom femedu.materials.ElasticSection import *\n\n\nclass ExampleFrame04(Example):\n\n\n    def createMesh(self, nelem=4):\n        \"\"\"\n        Creates a mesh using `nelem` elements for each of the straight segments.\n        \"\"\"\n        if (not isinstance(nelem, int)) or nelem % 4:\n            msg = \"nelem must be an integer multiple of 4 (4,8,12,...)\"\n            raise TypeError(msg)\n\n        # units\n        inch = 1\n        ft = 12 * inch\n        kip = 1\n        kips = kip\n        lb = kip / 1000\n        psi = lb / inch ** 2\n        ksi = kip / inch ** 2\n        degrees = np.pi / 180.\n\n        # problem parameters\n        MOE =  29000 * ksi\n        EI  = 162133 * kips * inch ** 2\n        EA  =  30400 * kips\n        L   =     10 * ft\n        w0  =  0.333 * kip / ft\n\n        s = np.linspace(0.0, 1.0, nelem // 2 + 1)\n\n        params = dict(\n            E = MOE,\n            A = EA/MOE,\n            I = EI/MOE,\n        )\n\n        material = ElasticSection(params)\n\n        # nodes\n        nodes  = [ Node(0.0, si * L) for si in s]\n        nodes += [ Node(si * L * np.cos(np.radians(30.)), L + si * L * np.sin(np.radians(30.))) for si in s[1:]]\n\n        # elements\n        elements = [Frame2D(nodes[i], nodes[i+1], material) for i in range(nelem)]\n\n        # fixities\n        # ... the first node\n        nodes[0].fixDOF(['ux','uy','rz'])\n        # ... the last node\n        nvec = nodes[1].getPos() - nodes[0].getPos()   # vector parallel to the member axis\n        svec = np.array([[0, 1],[-1, 0]]) @ nvec       # vector perpendicular to the member axis\n\n        try:\n            transform = Frame2dTransformation(nvec, svec)  # an in-plane rotation\n            nodes[-1].addTransformation(transform)         # defining a local frame for the last node\n        except:\n            print(\"no transformation class found\")\n        nodes[-1].fixDOF(['uy', ])                     # fixing the LOCAL y-direction\n\n        # load the top half of the vertical member\n        # and the first half of the inclined member\n        for i in range(nelem//4, 3*nelem//4):\n            elements[i].setDistLoad(-w0)\n\n        return (nodes, elements)\n\n    def problem(self):\n        # initialize a system model\n\n        N  = 8     # number of elements\n\n        # ========== setting global parameters ==============\n\n        target_load_level = 1.\n\n        # ========= build your structural model =============\n\n        model = System()\n        model.setSolver(NewtonRaphsonSolver())\n\n        nodes, elements = self.createMesh(N)\n\n        model.addNode(*nodes)\n        model.addElement(*elements)\n\n        # show model information\n        print(model)\n\n        print(\"\\n==== perform the analysis ===\\n\")\n\n        # solve\n        model.setLoadFactor(target_load_level)\n        model.solve(verbose=True)\n\n        #\n        # ==== create some nice plots ===\n        #\n\n        model.report()\n\n        model.plot(factor=10.0, filename=\"frame4_deformed.png\", show_bc=1)\n\n        model.beamValuePlot(\"F\", filename=\"frame4_force.png\")\n        model.beamValuePlot(\"V\", filename=\"frame4_shear.png\")\n        model.beamValuePlot(\"M\", filename=\"frame4_moment.png\")"
      ]
    },
    {
      "cell_type": "markdown",
      "metadata": {},
      "source": [
        "Run the example by creating an instance of the problem and executing it by calling :py:meth:`Example.run()`\n\n\n"
      ]
    },
    {
      "cell_type": "code",
      "execution_count": null,
      "metadata": {
        "collapsed": false
      },
      "outputs": [],
      "source": [
        "if __name__ == \"__main__\":\n    ex = ExampleFrame04()\n    ex.run()"
      ]
    }
  ],
  "metadata": {
    "kernelspec": {
      "display_name": "Python 3",
      "language": "python",
      "name": "python3"
    },
    "language_info": {
      "codemirror_mode": {
        "name": "ipython",
        "version": 3
      },
      "file_extension": ".py",
      "mimetype": "text/x-python",
      "name": "python",
      "nbconvert_exporter": "python",
      "pygments_lexer": "ipython3",
      "version": "3.13.1"
    }
  },
  "nbformat": 4,
  "nbformat_minor": 0
}