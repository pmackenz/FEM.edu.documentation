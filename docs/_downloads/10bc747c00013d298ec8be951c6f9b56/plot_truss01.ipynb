{
  "cells": [
    {
      "cell_type": "code",
      "execution_count": null,
      "metadata": {
        "collapsed": false
      },
      "outputs": [],
      "source": [
        "%matplotlib inline"
      ]
    },
    {
      "cell_type": "markdown",
      "metadata": {},
      "source": [
        "\n# Simple triangular truss.\n\nThe system is statically determined and allows for easy validation of\ncalculated deformation, reactions and internal forces.\n\nAuthor: Peter Mackenzie-Helnwein\n"
      ]
    },
    {
      "cell_type": "markdown",
      "metadata": {},
      "source": [
        "Setup\n\n"
      ]
    },
    {
      "cell_type": "code",
      "execution_count": null,
      "metadata": {
        "collapsed": false
      },
      "outputs": [],
      "source": [
        "from femedu.examples import Example\n\nfrom femedu.domain import System, Node\nfrom femedu.elements.linear import Truss\nfrom femedu.materials import FiberMaterial"
      ]
    },
    {
      "cell_type": "markdown",
      "metadata": {},
      "source": [
        "Create the example by subclassing the :py:class:`Example`\n\n"
      ]
    },
    {
      "cell_type": "code",
      "execution_count": null,
      "metadata": {
        "collapsed": false
      },
      "outputs": [],
      "source": [
        "class ExampleTruss01(Example):\n\n    def problem(self):\n        # initialize a system model\n        B = 6.0 * 12\n        H = 3.0 * 12\n        params = {'E': 10., 'A': 1., 'nu': 0.0, 'fy': 1.e30}\n\n        model = System()\n\n        # create nodes\n        nd0 = Node(0.0, 0.0)\n        nd1 = Node(  B, 0.0)\n        nd2 = Node(0.5*B, H)\n\n        model.addNode(nd0, nd1, nd2)\n\n        # create elements\n        model.addElement(Truss(nd0, nd1, FiberMaterial(params)))  # bottom 1\n        model.addElement(Truss(nd0, nd2, FiberMaterial(params)))  # up right diag 1\n        model.addElement(Truss(nd1, nd2, FiberMaterial(params)))  # up left diag 1\n\n        # define support(s)\n        nd0.fixDOF('ux', 'uy')    # pin support left end\n        nd1.fixDOF('uy')            # roller support right end\n\n        # add loads\n        # .. load only the upper nodes\n        nd2.setLoad([0.0, -1.0], ('ux', 'uy'))\n\n        # analyze the model\n        model.solve()\n\n        # write out report\n        model.report()\n\n        # create plots\n        model.plot(factor=1., filename=\"truss01_deformed.png\")\n        model.beamValuePlot('f',filename=\"truss01_forces.png\")"
      ]
    },
    {
      "cell_type": "markdown",
      "metadata": {},
      "source": [
        "Run the example by creating an instance of the problem and executing it by calling :py:meth:`Example.run()`\n\n\n"
      ]
    },
    {
      "cell_type": "code",
      "execution_count": null,
      "metadata": {
        "collapsed": false
      },
      "outputs": [],
      "source": [
        "if __name__ == \"__main__\":\n    ex = ExampleTruss01()\n    ex.run()"
      ]
    }
  ],
  "metadata": {
    "kernelspec": {
      "display_name": "Python 3",
      "language": "python",
      "name": "python3"
    },
    "language_info": {
      "codemirror_mode": {
        "name": "ipython",
        "version": 3
      },
      "file_extension": ".py",
      "mimetype": "text/x-python",
      "name": "python",
      "nbconvert_exporter": "python",
      "pygments_lexer": "ipython3",
      "version": "3.10.8"
    }
  },
  "nbformat": 4,
  "nbformat_minor": 0
}