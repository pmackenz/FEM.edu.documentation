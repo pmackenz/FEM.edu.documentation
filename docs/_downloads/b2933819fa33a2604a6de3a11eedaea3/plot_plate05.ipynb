{
  "cells": [
    {
      "cell_type": "code",
      "execution_count": null,
      "metadata": {
        "collapsed": false
      },
      "outputs": [],
      "source": [
        "%matplotlib inline"
      ]
    },
    {
      "cell_type": "markdown",
      "metadata": {},
      "source": [
        "\n# Pulling a plate with a circular hole\n\nUsing PatchMesher to model a quarter of the plate\n"
      ]
    },
    {
      "cell_type": "code",
      "execution_count": null,
      "metadata": {
        "collapsed": false
      },
      "outputs": [],
      "source": [
        "import math\nimport sys\nimport numpy as np\n\nfrom femedu.examples import Example\n\nfrom femedu.domain import System, Node\nfrom femedu.solver import NewtonRaphsonSolver\nfrom femedu.elements.linear import Triangle\nfrom femedu.materials import PlaneStress\nfrom femedu.mesher import *\n\n\nclass ExamplePlate05(Example):\n\n    def problem(self):\n        # ========== setting mesh parameters ==============\n\n        Nx = 10        # number of elements in the mesh\n        Ny = 8        # number of elements in the mesh\n        Lx = 120.0    # length of plate in the x-direction\n        Ly =  80.0    # length of plate in the y-direction\n        R  = Ly / 2.\n\n        # ========== setting material parameters ==============\n\n        params = dict(\n            E  = 20000.,    # Young's modulus\n            nu = 0.250,     # Poisson's ratio\n            t  = 1.00       # thickness of the plate\n        )\n\n        # ========== setting load parameters ==============\n\n        px  = 10.0         # uniform load normal to x=const\n        py  =  0.0         # uniform load normal to y=const\n        pxy =  0.0         # uniform shear load on x=const and y=const\n\n        # ========== setting analysis parameters ==============\n\n        target_load_level = 1.00     # reference load\n        max_steps = 2                # number of load steps: 2 -> [0.0, 1.0]\n\n        # define a list of target load levels\n        load_levels = np.linspace(0, target_load_level, max_steps)\n\n        #\n        # ==== Build the system model ====\n        #\n\n        model = System()\n        model.setSolver(NewtonRaphsonSolver())\n\n        # create nodes\n\n        #  5--------------6--------------7\n        #  |             / \\             |\n        #  |            /   \\            |\n        #  |           /     \\           |\n        #  3----8----4        \\          |\n        #             \\        \\         |\n        #              9        \\        |\n        #               \\        \\       |\n        #                0--------1------2\n\n        pts = (\n            ( R, 0),\n            (0.5*(R+Lx), 0),\n            (Lx, 0),\n            (0, R),\n            (R*np.cos(np.radians(45.)), R*np.sin(np.radians(45.))),\n            (0, Ly),\n            (0.5*Lx, Ly),\n            (Lx, Ly),\n            (R*np.cos(np.radians(67.5)), R*np.sin(np.radians(67.5))),\n            (R*np.cos(np.radians(22.5)), R*np.sin(np.radians(22.5))),\n        )\n\n        mesher1 = PatchMesher(model, pts[3], pts[4], pts[6], pts[5], pts[8])\n        nodes1, elements1 = mesher1.triangleMesh(Nx, Ny, Triangle, PlaneStress(params))\n\n        mesher2 = PatchMesher(model, pts[0], pts[1], pts[6], pts[4], None, None, None, pts[9])                                               # center node\n        nodes2, elements2 = mesher2.triangleMesh(Ny, Nx, Triangle, PlaneStress(params))\n\n        mesher3 = PatchMesher(model, pts[1], pts[2], pts[7], pts[6])\n        nodes3, elements3 = mesher3.triangleMesh(Nx, Nx, Triangle, PlaneStress(params))\n\n        mesher1.tie(mesher2)\n        mesher2.tie(mesher3)\n\n        nodes    = nodes1    + nodes2    + nodes3\n        elements = elements1 + elements2 + elements3\n\n        # define support(s)\n\n        ## find nodes at y==0 and x==0\n\n        for node in nodes:\n            X = node.getPos()\n            if math.isclose(X[0], 0.0):\n                node.fixDOF('ux')    # horizontal support left side\n            if math.isclose(X[1], 0.0):\n                node.fixDOF('uy')    # vertical support at y==0\n\n        # ==== complete the reference load ====\n\n        Xo = np.array([Lx, 0.0])\n        No = np.array([1.0, 0.0])\n\n        for node in nodes:\n            X = node.getPos()\n            if math.isclose(X[0],Lx):\n                print(node)\n                for elem in node.elements:\n                    print('+', elem)\n                    for face in elem.faces:\n                        for x, area in zip(face.pos, face.area):\n                            if np.abs( (x - Xo) @ No ) < 1.0e-2 and  No @ area / np.linalg.norm(area):\n                                face.setLoad(px, 0.0)\n\n        model.report()\n\n        model.plot(factor=0, title=\"undeformed system\", filename=\"plate05_undeformed.png\", show_bc=1, show_loads=1)\n\n        model.setLoadFactor(10.0)\n        model.solve()\n\n        model.report()\n\n        model.plot(factor=10., filename=\"plate05_deformed.png\", show_bc=1, show_loads=1, show_reactions=1)"
      ]
    },
    {
      "cell_type": "markdown",
      "metadata": {},
      "source": [
        "Run the example by creating an instance of the problem and executing it by calling :py:meth:`Example.run()`\n\n\n"
      ]
    },
    {
      "cell_type": "code",
      "execution_count": null,
      "metadata": {
        "collapsed": false
      },
      "outputs": [],
      "source": [
        "if __name__ == \"__main__\":\n    ex = ExamplePlate05()\n    ex.run()"
      ]
    }
  ],
  "metadata": {
    "kernelspec": {
      "display_name": "Python 3",
      "language": "python",
      "name": "python3"
    },
    "language_info": {
      "codemirror_mode": {
        "name": "ipython",
        "version": 3
      },
      "file_extension": ".py",
      "mimetype": "text/x-python",
      "name": "python",
      "nbconvert_exporter": "python",
      "pygments_lexer": "ipython3",
      "version": "3.10.8"
    }
  },
  "nbformat": 4,
  "nbformat_minor": 0
}