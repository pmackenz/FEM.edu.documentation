{
  "cells": [
    {
      "cell_type": "code",
      "execution_count": null,
      "metadata": {
        "collapsed": false
      },
      "outputs": [],
      "source": [
        "%matplotlib inline"
      ]
    },
    {
      "cell_type": "markdown",
      "metadata": {},
      "source": [
        "\n\n# Tutorial 1 - Creating a Model\nThis tutorial shows how to create a simple finite element model\nfrom scratch\n"
      ]
    },
    {
      "cell_type": "markdown",
      "metadata": {},
      "source": [
        "## The preparation stage\nBefore building a model, we need to load the used components.\nEvery model needs one :py:class:`System` instance.  Furthermore,\nwe are going to use several :py:class:`Node` and :py:class:`Element` instances.\n\nLoading those class definitions requires the following:\n\n"
      ]
    },
    {
      "cell_type": "code",
      "execution_count": null,
      "metadata": {
        "collapsed": false
      },
      "outputs": [],
      "source": [
        "from femedu.domain import System, Node\nfrom femedu.elements.linear.Truss import *\nfrom femedu.materials.ElasticSection import *"
      ]
    },
    {
      "cell_type": "markdown",
      "metadata": {},
      "source": [
        "The first line imports the :py:class:`System` and :py:class:`Node` class definitions,\nthe second line imports the :py:class:`Truss` from the **linear** package, i.e., the\nsmall deformation finite element on variational base.\n\n\n"
      ]
    },
    {
      "cell_type": "markdown",
      "metadata": {},
      "source": [
        "Start by creating a :py:class:`System` instance.\n\n"
      ]
    },
    {
      "cell_type": "code",
      "execution_count": null,
      "metadata": {
        "collapsed": false
      },
      "outputs": [],
      "source": [
        "model = System()"
      ]
    },
    {
      "cell_type": "markdown",
      "metadata": {},
      "source": [
        "The `model` object will hold all information forming your finite element model, as well as provide the interface for\nanalysis control, plotting, and data gathering.\n\nNext, we are creating nodes as :py:class:`Node` objects.\n\n"
      ]
    },
    {
      "cell_type": "code",
      "execution_count": null,
      "metadata": {
        "collapsed": false
      },
      "outputs": [],
      "source": [
        "nd0 = Node( 0.0, 0.0)\nnd1 = Node( 8.0, 6.0)\nnd2 = Node(16.0, 0.0)"
      ]
    },
    {
      "cell_type": "markdown",
      "metadata": {},
      "source": [
        "It is important to understand that `nd0`, `nd1`, `nd2` are instances of :py:class:`Node` and provide\na permanent pointer to those nodes and all their information throughout the entire analysis. We will\nuse those pointers to collect data or make control decisions.\n\nWe also need to add those node objects to our model.\n\n"
      ]
    },
    {
      "cell_type": "code",
      "execution_count": null,
      "metadata": {
        "collapsed": false
      },
      "outputs": [],
      "source": [
        "model.addNode(nd0, nd1, nd2)"
      ]
    },
    {
      "cell_type": "markdown",
      "metadata": {},
      "source": [
        "nodes can be added one at a time or, as shown above, as a group of nodes.\n\n"
      ]
    },
    {
      "cell_type": "markdown",
      "metadata": {},
      "source": [
        "Every node holds information about\n\n.. list-table::\n   :widths: 25 50 25\n   :header-rows: 1\n\n   * - Type\n     - Description\n     - Access through\n   * - Position\n     - initial coordinates of the node\n     - `getPos()`\n   * - Displacement\n     - current displacement components\n     - `getDisp(['ux', ...])`\n   * - Attached elements\n     - Pointers to all connected elements\n     - internal\n   * - Available dofs\n     - Union of dofs used by any of the attached elements\n     - internal\n   * - Index for a dof\n     - Global index for locating each nodal dof in system arrays.\n     - `getIdx4DOFs(dof-list)`\n   * - Index for one attached element\n     - Global index array for locating element-specific dofs in system arrays.\n     - `getIdx4Element(elem)`\n\n\n"
      ]
    },
    {
      "cell_type": "markdown",
      "metadata": {},
      "source": [
        "Once nodes have been created, we can create and add elements to the model.\nThis can be done by creating an element as\n\n"
      ]
    },
    {
      "cell_type": "code",
      "execution_count": null,
      "metadata": {
        "collapsed": false
      },
      "outputs": [],
      "source": [
        "# define material parameters\nparams = dict(\n    E = 1000.,   # Young's modulus\n    A = 1.0,     # cross section area\n)\n\nelem0 = Truss(nd0, nd1, ElasticSection(params))"
      ]
    },
    {
      "cell_type": "markdown",
      "metadata": {},
      "source": [
        "and adding that element to the model using\n\n"
      ]
    },
    {
      "cell_type": "code",
      "execution_count": null,
      "metadata": {
        "collapsed": false
      },
      "outputs": [],
      "source": [
        "model.addElement(elem0)"
      ]
    },
    {
      "cell_type": "markdown",
      "metadata": {},
      "source": [
        "or by creating and adding elements in one single step\n\n"
      ]
    },
    {
      "cell_type": "code",
      "execution_count": null,
      "metadata": {
        "collapsed": false
      },
      "outputs": [],
      "source": [
        "model.addElement(Truss(nd1, nd2, ElasticSection(params)))"
      ]
    },
    {
      "cell_type": "markdown",
      "metadata": {},
      "source": [
        "The first option allows us to keep `elem0` as element pointer for later access to that element.\nThe second option is sufficient in most cases.\n\n|Application| also provides a short version for the :py:meth:`addElement(...)` function in the form\n\n"
      ]
    },
    {
      "cell_type": "code",
      "execution_count": null,
      "metadata": {
        "collapsed": false
      },
      "outputs": [],
      "source": [
        "model += Truss(nd0, nd2, ElasticSection(params))"
      ]
    },
    {
      "cell_type": "markdown",
      "metadata": {},
      "source": [
        "<div class=\"alert alert-info\"><h4>Note</h4><p>In |Application|, every material instance holds information about the current state of the material,\n   including strain, stress, plastic strain, hardening parameters, and more.  Since these are private\n   to any particular material point, each element requires its own material instance.\n\n   Creating one instance of :py:meth:`AnyMaterial(params)` and handing that instance\n   to the element constructor will most likely lead to a faulty model.</p></div>\n\n\n"
      ]
    },
    {
      "cell_type": "markdown",
      "metadata": {},
      "source": [
        "Geometric boundary conditions are applied at nodes.  In order to add a geometric boundary condition to a node,\nwe need to use the node pointer, i.e., the variable holding the :py:class:`Node` instance.\n\nIn this example, we shall model `nd0` as **fixed** and `nd2` as a **horizontal roller**.\n\n"
      ]
    },
    {
      "cell_type": "code",
      "execution_count": null,
      "metadata": {
        "collapsed": false
      },
      "outputs": [],
      "source": [
        "nd0.fixDOF(['ux','uy'])   # pin\nnd2.fixDOF(['uy'])        # horizontal roller"
      ]
    },
    {
      "cell_type": "markdown",
      "metadata": {},
      "source": [
        "|Application| always identifies degrees of freedom (dofs) using a short name string.  Several dofs\nare predefined and used by the standard elements, though user elements and user algorithms may define\nadditional variables as long as their respective name remains unique. Built-in standard dofs are shown\nin the following table.\n\n.. list-table::\n   :widths: 25 75\n   :header-rows: 1\n\n   * - Name\n     - Description\n   * - **ux**\n     - component of displacement in the x-direction\n   * - **uy**\n     - component of displacement in the y-direction\n   * - **uz**\n     - component of displacement in the z-direction\n   * - **rx**\n     - component of (linearized) rotation about the x-axis\n   * - **ry**\n     - component of (linearized) rotation about the y-axis\n   * - **rz**\n     - component of (linearized) rotation about the z-axis\n\n\n"
      ]
    },
    {
      "cell_type": "markdown",
      "metadata": {},
      "source": [
        "Now we are ready to load the model.  This example shall be limited to simple nodal loads.\nFor examples of more complex load patters refer to `model_creation_02`\n\n"
      ]
    },
    {
      "cell_type": "code",
      "execution_count": null,
      "metadata": {
        "collapsed": false
      },
      "outputs": [],
      "source": [
        "nd1.addLoad([-1.0],['uy'])"
      ]
    },
    {
      "cell_type": "markdown",
      "metadata": {},
      "source": [
        "We may want to review the model status before engaging in any analysis.  The easiest way is to request a\nreport about the current state of the model as follows.\n\n<div class=\"alert alert-danger\"><h4>Warning</h4><p>A call to `model.report()` may result in a lot of output if you are working on a large model.</p></div>\n\n"
      ]
    },
    {
      "cell_type": "code",
      "execution_count": null,
      "metadata": {
        "collapsed": false
      },
      "outputs": [],
      "source": [
        "model.report()"
      ]
    },
    {
      "cell_type": "markdown",
      "metadata": {},
      "source": [
        "Things to note in this report:\n\n* |Application| assigns unique names to nodes and elements.  These are mostly internal identifiers\n  but may be used by the user when analyzing/debugging program output.\n  **It is recommended to use your own node and element references to access node and element data.**\n* Nodes always report their reference position, but will also report fixed dofs or applied\n  nodal loads if either was assigned to a node.\n* Once an analysis has been performed, nodes will also show their current state of displacement.\n\n"
      ]
    },
    {
      "cell_type": "markdown",
      "metadata": {},
      "source": [
        "Another easy validation of your input can be obtained using the built-in system plot.\n\n"
      ]
    },
    {
      "cell_type": "code",
      "execution_count": null,
      "metadata": {
        "collapsed": false
      },
      "outputs": [],
      "source": [
        "#model.resetDisp()\nmodel.plot(factor=0.0,\n           title=\"Tutorial 1: Undeformed System\",\n           show_bc=True, show_loads=True, show_reactions=False)"
      ]
    },
    {
      "cell_type": "markdown",
      "metadata": {},
      "source": [
        "At this point we are ready for the analysis.\nSince this is a linear model, we will use the default solver, which is a :py:class:`LinearSolver` object.\n\nAll we need to perform the analysis is\n\n"
      ]
    },
    {
      "cell_type": "code",
      "execution_count": null,
      "metadata": {
        "collapsed": false
      },
      "outputs": [],
      "source": [
        "model.solve()"
      ]
    },
    {
      "cell_type": "markdown",
      "metadata": {},
      "source": [
        "At this point, we may just plot the deformed system\n\n"
      ]
    },
    {
      "cell_type": "code",
      "execution_count": null,
      "metadata": {
        "collapsed": false
      },
      "outputs": [],
      "source": [
        "model.plot(factor=25.0,\n           title=\"Tutorial 1: Deformed System (factor=25.0)\",\n           filename=\"tutorial01_deformed.png\",\n           show_loads=True, show_reactions=True)"
      ]
    },
    {
      "cell_type": "markdown",
      "metadata": {},
      "source": [
        "<div class=\"alert alert-info\"><h4>Note</h4><p>Providing the *filename=* option will save the generated figure a file with the given name.\n   The name may include a full path, specifying a destination folder and filename. If no path is\n   given, the figure file will be saved to the current runtime folder.\n\n   The image file type is determined from the extension in the *filename* option.  It is recommended\n   to used \".pdf\" for best quality (vector graphics for use in publications) or \".png\" for web presentation.\n   Avoid \".jpg\" for line-graphics like this one.</p></div>\n\n"
      ]
    },
    {
      "cell_type": "code",
      "execution_count": null,
      "metadata": {
        "collapsed": false
      },
      "outputs": [],
      "source": [
        "model.report()"
      ]
    }
  ],
  "metadata": {
    "kernelspec": {
      "display_name": "Python 3",
      "language": "python",
      "name": "python3"
    },
    "language_info": {
      "codemirror_mode": {
        "name": "ipython",
        "version": 3
      },
      "file_extension": ".py",
      "mimetype": "text/x-python",
      "name": "python",
      "nbconvert_exporter": "python",
      "pygments_lexer": "ipython3",
      "version": "3.10.8"
    }
  },
  "nbformat": 4,
  "nbformat_minor": 0
}