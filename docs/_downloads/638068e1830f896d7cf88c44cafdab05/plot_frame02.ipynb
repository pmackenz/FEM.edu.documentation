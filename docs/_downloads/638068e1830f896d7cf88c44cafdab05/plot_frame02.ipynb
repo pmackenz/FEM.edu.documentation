{
  "cells": [
    {
      "cell_type": "code",
      "execution_count": null,
      "metadata": {
        "collapsed": false
      },
      "outputs": [],
      "source": [
        "%matplotlib inline"
      ]
    },
    {
      "cell_type": "markdown",
      "metadata": {},
      "source": [
        "\n# Buckling of a vertical beam with pin-pin support\n\nmodeled using a 2D frame element\n\n.. code::\n\n    |\n    | P\n    v\n    x o ... support\n    I\n    x   ... node\n    I\n    x   ... node\n    ^   ... support\n\n    x ..... node\n    I ... frame element\n    <-- ... applied force\n    ^ ..... pin support\n    o ..... roller support\n\n    degrees of freedom:\n    0 ... horizontal displacement\n    1 ... vertical displacement\n    2 ... rotation, theta\n\n\n.. list-table:: setting given parameters\n\n    * - N  = 2\n      - number of elements\n    * - L  = 100.0\n      - column length\n    * - EA = 2000000.0\n      - axial stiffness\n    * - EI = 21000.0\n      - flexural stiffness\n    * - w  = 0.1\n      - applied lateral load\n\nAuthor: Peter Mackenzie-Helnwein\n"
      ]
    },
    {
      "cell_type": "code",
      "execution_count": null,
      "metadata": {
        "collapsed": false
      },
      "outputs": [],
      "source": [
        "from femedu.examples.Example import *\n\nfrom femedu.domain import *\nfrom femedu.solver.NewtonRaphsonSolver import *\nfrom femedu.elements.finite.Frame2D import *\nfrom femedu.materials.ElasticSection import *\n\n\nclass ExampleFrame02(Example):\n\n    def problem(self):\n        # initialize a system model\n\n        N  = 8     # number of elements\n        L  = 100.0\n        E  = 20000.\n        EA = 2000000.0\n        EI = 210000.0\n        w  = -0.1\n\n        params = {'E': E, 'A': EA/E, 'I': EI/E}\n\n        model = System()\n        model.setSolver(NewtonRaphsonSolver())\n\n        # create nodes\n\n        nd0 = Node(0.0, 0.0)\n        model += nd0\n\n        ndi = nd0\n        for i in range(N):\n            # nodes\n            ndj = Node( 0.0, (i+1)*L/N )\n            model += ndj\n\n            # elements\n            elem = Frame2D(ndi, ndj, ElasticSection(params))\n            elem.setDistLoad(w)\n            model += elem\n\n            ndi = ndj\n\n        # define support(s)\n        nd0.fixDOF('ux', 'uy')    # horizontal and vertical support bottom end\n        ndi.fixDOF('ux')          # horizontal support top end\n\n        # add loads\n        # .. load only the upper nodes\n        Pcr = np.pi**2 * EI / L**2\n        ndi.setLoad((-0.5*Pcr,), ('uy',))\n\n        # show model information\n        print(model)\n\n        model.solve(verbose=True)\n\n        model.report()\n\n        model.plot(factor=10.0, filename=\"frame2_deformed.png\")\n\n        model.beamValuePlot(\"F\", filename=\"frame2_force.png\")\n        model.beamValuePlot(\"V\", filename=\"frame2_shear.png\")\n        model.beamValuePlot(\"M\", filename=\"frame2_moment.png\")\n\n        return"
      ]
    },
    {
      "cell_type": "markdown",
      "metadata": {},
      "source": [
        "Run the example by creating an instance of the problem and executing it by calling :py:meth:`Example.run()`\n\n\n"
      ]
    },
    {
      "cell_type": "code",
      "execution_count": null,
      "metadata": {
        "collapsed": false
      },
      "outputs": [],
      "source": [
        "if __name__ == \"__main__\":\n    ex = ExampleFrame02()\n    ex.run()"
      ]
    }
  ],
  "metadata": {
    "kernelspec": {
      "display_name": "Python 3",
      "language": "python",
      "name": "python3"
    },
    "language_info": {
      "codemirror_mode": {
        "name": "ipython",
        "version": 3
      },
      "file_extension": ".py",
      "mimetype": "text/x-python",
      "name": "python",
      "nbconvert_exporter": "python",
      "pygments_lexer": "ipython3",
      "version": "3.10.8"
    }
  },
  "nbformat": 4,
  "nbformat_minor": 0
}