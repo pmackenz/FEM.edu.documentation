{
  "cells": [
    {
      "cell_type": "markdown",
      "metadata": {},
      "source": [
        "\n# A square patch made of two triangular plate elements\n\nBasic implementation test with applied loads.\n    Testing the tangent stiffness computation\n    for a :func:`Triangle6` (using quadratic shape functions).\n\nUsing\n\n* :py:class:`elements.linear.Triangle6` (see `triangle6_class`)\n* :py:class:`materials.PlaneStress`  (see `plane_stress_material_class`)\n\n.. code::\n\n    free   free\n     ^     ^\n     |     |\n     3--6--2 -> free\n     |\\  b | >\n     | \\   | >\n     7  8  5 > (w = 1.0)\n     |   \\ | >\n     | a  \\| >\n     0--4--1 -> free\n\n    width:  10.\n    height: 10.\n\n    Material parameters: St. Venant-Kirchhoff, plane stress\n        E  = 10.0\n        nu =  0.30\n        t  =  1.0\n\n    Element loads:\n        node 0: [ 0.0, 0.0]\n        node 1: [ 10./6, 0.0]\n        node 2: [ 10./6, 0.0]\n        node 3: [ 0.0, 0.0]\n        node 4: [ 0.0, 0.0]\n        node 5: [ 10.*2/3, 0.0]\n        node 6: [ 0.0, 0.0]\n        node 7: [ 0.0, 0.0]\n        node 8: [ 0.0, 0.0]\n\n    2nd Piola-Kirchhoff stress:\n        S_XX =  w                  =  1.000\n        S_YY = S_XY = S_YX = S_ZZ  =  0.000\n\n    Green Lagrange strain:\n        eps_XX = (1/E) ((1.000) - (0.30)(0.000)) =  0.100\n        eps_YY = (1/E) ((0.000) - (0.30)(1.000)) = -0.030\n        eps_XY = eps_YX                          =  0.000\n        eps_ZZ = -nu * (eps_XX + eps_YY)         = -0.021\n\n    Stretches:\n        lam_X = sqrt(1 + 2 eps_XX) = 1.095\n        lam_Y = sqrt(1 + 2 eps_YY) = 0.9695\n\n    Displacements:\n        ux = (lam_X - 1) * x, uy = (lam_Y - 1) * y\n        node 0: [ 0.000,  0.000  ]\n        node 1: [ 0.954,  0.000  ]\n        node 2: [ 0.954, -0.305  ]\n        node 3: [ 0.000, -0.305  ]\n        node 4: [ 0.477,  0.000  ]\n        node 5: [ 0.954, -0.1525 ]\n        node 6: [ 0.477, -0.305  ]\n        node 7: [ 0.954, -0.1525 ]\n        node 8: [ 0.477, -0.1525 ]\n\nAuthor: Peter Mackenzie-Helnwein\n"
      ]
    },
    {
      "cell_type": "code",
      "execution_count": null,
      "metadata": {
        "collapsed": false
      },
      "outputs": [],
      "source": [
        "from femedu.examples import Example\n\nfrom femedu.domain import System, Node\nfrom femedu.solver import NewtonRaphsonSolver\nfrom femedu.elements.linear import Triangle6\nfrom femedu.materials import PlaneStress\n\n\nclass ExamplePlate02b(Example):\n\n    def problem(self):\n\n        params = dict(\n            E  = 10.,   # Young's modulus\n            nu = 0.3,   # Poisson's ratio\n            t  = 1.0,   # thickness of the plate\n            fy = 1.e30  # yield stress\n        )\n\n        a = 10.     # length of the plate in the x-direction\n        b = 10.     # length of the plate in the y-direction\n\n        model = System()\n        model.setSolver(NewtonRaphsonSolver())\n\n        nd0 = Node( 0.0, 0.0)\n        nd1 = Node(   a, 0.0)\n        nd2 = Node(   a,   b)\n        nd3 = Node( 0.0,   b)\n        nd4 = Node( a/2, 0.0)\n        nd5 = Node(   a, b/2)\n        nd6 = Node( a/2,   b)\n        nd7 = Node( 0.0, b/2)\n        nd8 = Node( a/2, b/2)\n\n        nd0.fixDOF('ux', 'uy')\n        nd1.fixDOF('uy')\n        nd3.fixDOF('ux')\n\n        model.addNode(nd0, nd1, nd2, nd3, nd4, nd5, nd6, nd7, nd8)\n\n        elemA = Triangle6(nd0, nd1, nd3, nd4, nd8, nd7, PlaneStress(params))\n        elemB = Triangle6(nd2, nd3, nd1, nd6, nd8, nd5, PlaneStress(params))\n\n        model.addElement(elemA, elemB)\n\n        elemA.setSurfaceLoad(face=2, pn=1.0)\n        elemB.setSurfaceLoad(face=2, pn=1.0)\n\n        model.setLoadFactor(1.0)\n\n        nd0.setDisp([0.0,  0.0])\n        nd1.setDisp([5.0,  0.0])\n        nd2.setDisp([5.0, -5.0])\n        nd3.setDisp([0.0, -5.0])\n        nd4.setDisp([2.5,  0.0])\n        nd5.setDisp([5.0, -2.5])\n        nd6.setDisp([2.5, -5.0])\n        nd7.setDisp([0.0, -2.5])\n        nd8.setDisp([2.5, -2.5])\n\n        elemA.updateState()\n        elemB.updateState()\n\n        model.report()\n\n        model.plot(factor=1.0, filename=\"plate02b_deformed.png\")\n\n\n\n\n        model.setLoadFactor(0.0)\n\n        # model.solver.assemble()\n        # model.solver.showKt()\n        #\n        model.solve()\n\n        model.report()  # activate this line for lots of debug info\n        model.plot(factor=0.0, title=\"Undeformed system\", filename=\"plate02b_undeformed.png\", show_bc=1)\n\n\n\n\n\n        model.setLoadFactor(1.0)\n        model.solve()\n        model.plot(factor=1.0, filename=\"plate02b_deformed.png\")\n\n        model.report()"
      ]
    },
    {
      "cell_type": "markdown",
      "metadata": {},
      "source": [
        "Run the example by creating an instance of the problem and executing it by calling :py:meth:`Example.run()`\n\n\n"
      ]
    },
    {
      "cell_type": "code",
      "execution_count": null,
      "metadata": {
        "collapsed": false
      },
      "outputs": [],
      "source": [
        "if __name__ == \"__main__\":\n    ex = ExamplePlate02b()\n    ex.run()"
      ]
    }
  ],
  "metadata": {
    "kernelspec": {
      "display_name": "Python 3",
      "language": "python",
      "name": "python3"
    },
    "language_info": {
      "codemirror_mode": {
        "name": "ipython",
        "version": 3
      },
      "file_extension": ".py",
      "mimetype": "text/x-python",
      "name": "python",
      "nbconvert_exporter": "python",
      "pygments_lexer": "ipython3",
      "version": "3.11.6"
    }
  },
  "nbformat": 4,
  "nbformat_minor": 0
}