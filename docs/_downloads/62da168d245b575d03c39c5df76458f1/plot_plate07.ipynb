{
  "cells": [
    {
      "cell_type": "markdown",
      "metadata": {},
      "source": [
        "\n# A square patch made of one quadrilateral plate elements\n\nBasic implementation test with applied loads.\n    Testing the tangent stiffness computation.\n\n.. code::\n\n    free   free\n     ^     ^\n     |     |\n     3-----2 -> free\n     |     | >\n     |  a  | > (w = 1.0)\n     |     | >\n     0-----1 -> free\n\n    width:  10.\n    height: 10.\n\n    Material parameters: St. Venant-Kirchhoff, plane stress\n        E  = 10.0\n        nu =  0.30\n        t  =  1.0\n\n    Element loads:\n        node 0: [ 0.0, 0.0]\n        node 1: [ 5.0, 0.0]\n        node 2: [ 5.0, 0.0]\n        node 3: [ 0.0, 0.0]\n\nAuthor: Peter Mackenzie-Helnwein\n"
      ]
    },
    {
      "cell_type": "code",
      "execution_count": null,
      "metadata": {
        "collapsed": false
      },
      "outputs": [],
      "source": [
        "import numpy as np\n\nfrom femedu.examples import Example\n\nfrom femedu.domain import System, Node\nfrom femedu.solver import NewtonRaphsonSolver\nfrom femedu.elements.linear import Quad\nfrom femedu.materials import PlaneStress\n\n\nclass ExamplePlate07(Example):\n\n    def problem(self):\n\n        params = dict(\n            E  = 10., # Young's modulus\n            nu = 0.3,   # Poisson's ratio\n            t  = 1.0,   # thickness of the plate\n            fy = 1.e30  # yield stress\n        )\n\n        a = 10.     # length of the plate in the x-direction\n        b = 10.     # length of the plate in the y-direction\n\n        model = System()\n        model.setSolver(NewtonRaphsonSolver())\n\n        nd0 = Node( 0.0, 0.0)\n        nd1 = Node(   a, 0.0)\n        nd2 = Node(   a,   b)\n        nd3 = Node( 0.0,   b)\n\n        # nd0.fixDOF('ux', 'uy')\n        # nd1.fixDOF('uy')\n        # nd3.fixDOF('ux')\n\n        model.addNode(nd0, nd1, nd2, nd3)\n\n        elemA = Quad(nd0, nd1, nd2, nd3, PlaneStress(params))\n\n        model.addElement(elemA)\n\n        elemA.setSurfaceLoad(face=1, pn=1.0)\n\n        model.plot(factor=0.0, title=\"Undeformed system\", filename=\"plate07_undeformed.png\", show_bc=1)\n\n        # %%\n        # We can have a quick look at the stiffness mode shapes using the\n        # buckling-mode plotter.  These are simply eigenvalues and eigenvectors of Kt\n        # at the current load level (0.0)\n        #\n        model.setLoadFactor(0.0)\n        model.solve()\n\n        np.save('../../../Kplate.npy', model.solver.Kt)\n\n        for k in range(8):\n            name = f\"plate07_mode{k:2d}.png\"\n            model.plotBucklingMode(mode=k,filename=name,factor=1.0)\n\n        # %%\n        # Note the three rigid body modes (lam=0.0). It can be shown that all three\n        # are limear combinations of translations in x and y-directions and a\n        # rigid body rotation.\n        #\n\n        # %%\n        # Now it is time to add boundary conditions, apply loads\n        # and check the convergence behavior.\n        #\n\n        nd0.fixDOF('ux', 'uy')\n        nd1.fixDOF('uy')\n        nd3.fixDOF('ux')\n\n        model.setLoadFactor(1.0)\n        model.solve()\n\n        # %%\n        # The output shows that we do have a quadratic rate of convergence.\n\n        # %%\n        # Let's finish off with a nice plot of the deformed system.\n\n        model.plot(factor=1.0, filename=\"plate07_deformed.png\")\n\n        model.report()"
      ]
    },
    {
      "cell_type": "markdown",
      "metadata": {},
      "source": [
        "Run the example by creating an instance of the problem and executing it by calling :py:meth:`Example.run()`\n\n\n"
      ]
    },
    {
      "cell_type": "code",
      "execution_count": null,
      "metadata": {
        "collapsed": false
      },
      "outputs": [],
      "source": [
        "if __name__ == \"__main__\":\n    ex = ExamplePlate07()\n    ex.run()"
      ]
    }
  ],
  "metadata": {
    "kernelspec": {
      "display_name": "Python 3",
      "language": "python",
      "name": "python3"
    },
    "language_info": {
      "codemirror_mode": {
        "name": "ipython",
        "version": 3
      },
      "file_extension": ".py",
      "mimetype": "text/x-python",
      "name": "python",
      "nbconvert_exporter": "python",
      "pygments_lexer": "ipython3",
      "version": "3.11.6"
    }
  },
  "nbformat": 4,
  "nbformat_minor": 0
}