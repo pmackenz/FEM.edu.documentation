{
  "cells": [
    {
      "cell_type": "code",
      "execution_count": null,
      "metadata": {
        "collapsed": false
      },
      "outputs": [],
      "source": [
        "%matplotlib inline"
      ]
    },
    {
      "cell_type": "markdown",
      "metadata": {},
      "source": [
        "\n# Patch test for triangular plate under in-plane loading\n\nPatchMesher test for the LinearTriangle (Constant Strain Triangle)\n"
      ]
    },
    {
      "cell_type": "code",
      "execution_count": null,
      "metadata": {
        "collapsed": false
      },
      "outputs": [],
      "source": [
        "from femedu.examples.Example import *\n\nfrom femedu.domain import *\nfrom femedu.solver.NewtonRaphsonSolver import *\nfrom femedu.elements.LinearTriangle import *\nfrom femedu.elements.Quad import *\nfrom femedu.materials.PlaneStress import *\nfrom femedu.mesher import *\n\n\nclass ExamplePlate04(Example):\n\n    def problem(self):\n        # ========== setting mesh parameters ==============\n\n        Nx = 6        # number of elements in the mesh\n        Ny = 5        # number of elements in the mesh\n        Lx = 100.0    # length of plate in the x-direction\n        Ly =  80.0    # length of plate in the y-direction\n\n        # ========== setting material parameters ==============\n\n        params = dict(\n            E  = 20000.,    # Young's modulus\n            nu = 0.250,     # Poisson's ratio\n            t  = 1.00       # thickness of the plate\n        )\n\n        # ========== setting load parameters ==============\n\n        px  = 10.0         # uniform load normal to x=const\n        py  =  0.0         # uniform load normal to y=const\n        pxy =  0.0         # uniform shear load on x=const and y=const\n\n        # ========== setting analysis parameters ==============\n\n        target_load_level = 1.00     # reference load\n        max_steps = 2                # number of load steps: 2 -> [0.0, 1.0]\n\n        # define a list of target load levels\n        load_levels = np.linspace(0, target_load_level, max_steps)\n\n        #\n        # ==== Build the system model ====\n        #\n\n        model = System()\n        model.setSolver(NewtonRaphsonSolver())\n\n        # create nodes\n\n        mesher1 = PatchMesher(model,\n                             (0,0), (Lx,0), (Lx,Ly), (0,Ly),                                     # corner nodes\n                             (Lx/2, -0.05*Ly), (1.2*Lx, Ly/2), (Lx/2, 0.90*Ly), (0.05*Lx, Ly/2), # mid-side nodes\n                             (0.55*Lx, 0.45*Ly))                                                 # center node\n        #nodes1, elements1 = mesher1.triangleMesh(Nx, Ny, LinearTriangle, PlaneStress(params))\n        nodes1, elements1 = mesher1.quadMesh(Nx, Ny, Quad, PlaneStress(params))\n\n        mesher2 = TriPatchMesher(model,\n                                 (0,0), (Lx,0), (Lx/2,Ly),                                       # corner nodes\n                                 (Lx/2,0.15*Ly), (0.85*Lx,0.8*Ly), (0.20*Lx,0.6*Ly) # mid-side nodes\n                                 )\n        mesher2.shift(1.25*Lx, Ly/2)\n        #nodes2, elements2 = mesher2.triangleMesh(Nx, LinearTriangle, PlaneStress(params))\n        nodes2, elements2 = mesher2.quadMesh(Nx, LinearTriangle, PlaneStress(params))\n\n        nodes    = nodes1    + nodes2\n        elements = elements1 + elements2\n\n        # define support(s)\n\n        fix_x = (0,)\n        fix_y = (0,4)\n\n        for idx in fix_x:\n            nodes[idx].fixDOF('ux')    # horizontal support left end\n        for idx in fix_y:\n            nodes[idx].fixDOF('uy')          # vertical support right end\n\n        # ==== complete the reference load ====\n\n        # surface loads on the left side\n        elements[ 0].setSurfaceLoad(2,px)\n        elements[8].setSurfaceLoad(2,px)\n        elements[16].setSurfaceLoad(2,px)\n\n        # surface loads on the right side\n        elements[ 7].setSurfaceLoad(2,px)\n        elements[15].setSurfaceLoad(2,px)\n        elements[23].setSurfaceLoad(2,px)\n\n        # these are only nodal forces as part of the reference load\n        # .. load only the upper node\n        #print(model)\n\n        model.report()\n\n        model.plot(factor=10., title=\"undeformed system\", filename=\"plate04_undeformed.png\")\n\n        model.setLoadFactor(10.0)\n        model.solve()\n\n        model.report()\n\n        model.plot(factor=10., filename=\"plate04_deformed.png\")"
      ]
    },
    {
      "cell_type": "markdown",
      "metadata": {},
      "source": [
        "Run the example by creating an instance of the problem and executing it by calling :py:meth:`Example.run()`\n\n\n"
      ]
    },
    {
      "cell_type": "code",
      "execution_count": null,
      "metadata": {
        "collapsed": false
      },
      "outputs": [],
      "source": [
        "if __name__ == \"__main__\":\n    ex = ExamplePlate04()\n    ex.run()"
      ]
    }
  ],
  "metadata": {
    "kernelspec": {
      "display_name": "Python 3",
      "language": "python",
      "name": "python3"
    },
    "language_info": {
      "codemirror_mode": {
        "name": "ipython",
        "version": 3
      },
      "file_extension": ".py",
      "mimetype": "text/x-python",
      "name": "python",
      "nbconvert_exporter": "python",
      "pygments_lexer": "ipython3",
      "version": "3.10.8"
    }
  },
  "nbformat": 4,
  "nbformat_minor": 0
}