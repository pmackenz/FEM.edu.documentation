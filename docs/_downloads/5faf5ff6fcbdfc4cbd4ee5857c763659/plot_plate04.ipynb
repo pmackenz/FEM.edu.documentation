{
  "cells": [
    {
      "cell_type": "markdown",
      "metadata": {},
      "source": [
        "\n# Patch test for triangular plate under in-plane loading\n\nPatchMesher test for the LinearTriangle (Constant Strain Triangle)\n"
      ]
    },
    {
      "cell_type": "code",
      "execution_count": null,
      "metadata": {
        "collapsed": false
      },
      "outputs": [],
      "source": [
        "import math\nimport numpy as np\n\nfrom femedu.examples import Example\n\nfrom femedu.domain import System, Node\nfrom femedu.solver import NewtonRaphsonSolver\nfrom femedu.elements.linear import Quad, Triangle\nfrom femedu.materials import PlaneStress\nfrom femedu.mesher import *\n\n\nclass ExamplePlate04(Example):\n\n    def problem(self):\n        # ========== setting mesh parameters ==============\n\n        Nx = 7        # number of elements in the mesh\n        Ny = 6        # number of elements in the mesh\n        Lx = 100.0    # length of plate in the x-direction\n        Ly =  80.0    # length of plate in the y-direction\n\n        # ========== setting material parameters ==============\n\n        params = dict(\n            E  = 20000.,    # Young's modulus\n            nu = 0.250,     # Poisson's ratio\n            t  = 1.00       # thickness of the plate\n        )\n\n        # ========== setting load parameters ==============\n\n        px  = 10.0         # uniform load normal to x=const\n        py  =  0.0         # uniform load normal to y=const\n        pxy =  0.0         # uniform shear load on x=const and y=const\n\n        # ========== setting analysis parameters ==============\n\n        target_load_level = 1.00     # reference load\n        max_steps = 2                # number of load steps: 2 -> [0.0, 1.0]\n\n        # define a list of target load levels\n        load_levels = np.linspace(0, target_load_level, max_steps)\n\n        #\n        # ==== Build the system model ====\n        #\n\n        model = System()\n        model.setSolver(NewtonRaphsonSolver())\n\n        # create reference points\n        pt0 = (0,0)\n        pt1 = (0.5*Lx,0)\n        pt2 = (Lx,Ly)\n        pt3 = (0,Ly)\n        pt4 = (0.25*Lx, 0.0)\n        pt5 = (0.65*Lx, Ly/2)\n        pt6 = (0.55*Lx, Ly)\n        pt7 = (0.0, Ly/2)\n        pt8 = (0.325*Lx, 0.55*Ly)\n        pt9 = (Lx,0.0)\n\n        mesher1 = PatchMesher(model,\n                             pt0, pt1, pt2, pt3, # corner nodes\n                             pt4, pt5, pt6, pt7, # mid-side nodes\n                             pt8)                # center node\n        #nodes1, elements1 = mesher1.triangleMesh(Nx, Ny, LinearTriangle, PlaneStress(params))\n        nodes1, elements1 = mesher1.quadMesh(Nx, Ny, Quad, PlaneStress(params))\n\n        mesher2 = TriPatchMesher(model,\n                                 pt1, pt9, pt2, # corner nodes\n                                 None, None, pt5, # mid-side nodes\n                                 )\n        #mesher2.shift(1.25*Lx, Ly/2)\n        nodes2, elements2 = mesher2.triangleMesh(Ny, Triangle, PlaneStress(params))\n        #nodes2, elements2 = mesher2.quadMesh(Ny, Triangle, PlaneStress(params))\n\n        # tie the patches together\n        mesher1.tie(mesher2)\n\n        nodes    = nodes1    + nodes2\n        elements = elements1 + elements2\n\n        # define support(s)\n\n        ## find nodes at y==0 and x==0\n\n        for node in nodes:\n            X = node.getPos()\n            if math.isclose(X[0], 0.0):\n                node.fixDOF('ux')    # horizontal support left side\n            if math.isclose(X[1], 0.0):\n                node.fixDOF('uy')    # vertical support at y==0\n\n        # ==== complete the reference load ====\n\n        Xo = np.array([Lx, 0.0])\n        No = np.array([1.0, 0.0])\n\n        for node in nodes:\n            X = node.getPos()\n            if math.isclose(X[0],Lx):\n                print(node)\n                for elem in node.elements:\n                    print('+', elem)\n                    for face in elem.faces:\n                        for x, area in zip(face.pos, face.area):\n                            if np.abs( (x - Xo) @ No ) < 1.0e-2 and  No @ area / np.linalg.norm(area):\n                                face.setLoad(px, 0.0)\n\n\n        #model.report()\n\n        model.plot(factor=0, title=\"undeformed system\", filename=\"plate04_undeformed.png\", show_bc=1, show_loads=1)\n\n        model.setLoadFactor(10.0)\n        model.solve()\n\n        #model.report()\n\n        model.plot(factor=10., filename=\"plate04_deformed.png\")"
      ]
    },
    {
      "cell_type": "markdown",
      "metadata": {},
      "source": [
        "Run the example by creating an instance of the problem and executing it by calling :py:meth:`Example.run()`\n\n\n"
      ]
    },
    {
      "cell_type": "code",
      "execution_count": null,
      "metadata": {
        "collapsed": false
      },
      "outputs": [],
      "source": [
        "if __name__ == \"__main__\":\n    ex = ExamplePlate04()\n    ex.run()"
      ]
    }
  ],
  "metadata": {
    "kernelspec": {
      "display_name": "Python 3",
      "language": "python",
      "name": "python3"
    },
    "language_info": {
      "codemirror_mode": {
        "name": "ipython",
        "version": 3
      },
      "file_extension": ".py",
      "mimetype": "text/x-python",
      "name": "python",
      "nbconvert_exporter": "python",
      "pygments_lexer": "ipython3",
      "version": "3.11.6"
    }
  },
  "nbformat": 4,
  "nbformat_minor": 0
}