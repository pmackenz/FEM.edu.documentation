{
  "cells": [
    {
      "cell_type": "markdown",
      "metadata": {},
      "source": [
        "\n# Bending a cantilever beam using a mixed mesh of Quad and Frame2D elements\n\n* Using PatchMesher to model the 2d model portion\n* Using Frame2D to model the beam/frame model portion\n* Using BeamSolidLink to connect the two model types\n\n.. dropdown::  Background Theory\n\n    This problem can be approximately validated using Bernoulli-Euler theory for\n    small deformations. The given problem shall be modeled using\n\n    .. list-table::\n        :widths: 20 30 50\n        :header-rows: 1\n\n        * - parameter\n          - value\n          - description\n        * - $E$\n          - 20000.\n          - modulus of elasticity (in ksi)\n        * - $I$\n          - 666.667\n          - area moment of inertia (in $inches^4$)\n        * - $L$\n          - 120.\n          - length of the cantilever (in inches)\n        * - $P$\n          - 30.\n          - force at $x=L$ (in kips)\n\n    The general solution then yields\n\n    .. math::\n        v(x) = -\\frac{P L^3}{6 EI}\\left( \\frac{x}{L} \\right)^2\\left( 3 - \\frac{x}{L} \\right)\n\n    .. math::\n        \\theta(x) = \\frac{d}{dx} v(x) = -\\frac{P L^2}{2 EI}\\left( \\frac{x}{L} \\right)\\left( 2 - \\frac{x}{L} \\right)\n\n    .. math::\n        M(x) = EI \\frac{d}{dx} \\theta(x) = -\\frac{P L}{6} \\left( 1 - \\frac{x}{L} \\right)\n\n    .. math::\n        V(x) = \\frac{d}{dx} M(x) = P\n\n    For small displacement theory, the horizontal movement at the centerline is zero.\n\n\n    .. list-table:: Reference values for a load factor of $\\lambda=1.0$\n        :widths: 20 30 50\n        :header-rows: 1\n\n        * - variable\n          - value\n          - description\n        * - $u(L)$\n          - 0.000\n          - end displacement (in inches). $u>0$ means moving to the right.\n        * - $v(L)$\n          - -1.296\n          - end displacement (in inches). $v>0$ means moving up.\n        * - $\\theta(L)$\n          - $-16.20 * 10^{-3}$\n          - end displacement (in radians). $\\theta >0$ means counter-clockwise rotation.\n\n\n\n    .. list-table:: Reference values for a load factor of $\\lambda=10.0$\n        :widths: 20 30 50\n        :header-rows: 1\n\n        * - variable\n          - value\n          - description\n        * - $u(L)$\n          - 0.000\n          - end displacement (in inches). $u>0$ means moving to the right.\n        * - $v(L)$\n          - -12.96\n          - end displacement (in inches). $v>0$ means moving up.\n        * - $\\theta(L)$\n          - $-162.0 * 10^{-3}$\n          - end displacement (in radians). $\\theta >0$ means counter-clockwise rotation.\n"
      ]
    },
    {
      "cell_type": "code",
      "execution_count": null,
      "metadata": {
        "collapsed": false
      },
      "outputs": [],
      "source": [
        "import numpy as np\n\nfrom femedu.examples import Example\n\nfrom femedu.domain import System, Node\nfrom femedu.solver import NewtonRaphsonSolver\nfrom femedu.elements.linear import Quad, Frame2D, BeamSolidLink\nfrom femedu.materials import PlaneStress, ElasticSection\nfrom femedu.mesher import PatchMesher, CurveMesher\n\n\nclass ExampleMixed10(Example):\n\n    def problem(self):\n        # ========== setting mesh parameters ==============\n\n        Nx = 12  # number of elements in the mesh\n        Ny = 8  # number of elements in the mesh\n        Lx = 120.0  # length of plate in the x-direction\n        Ly = 20.0  # length of plate in the y-direction\n\n        # ========== setting material parameters ==============\n\n        params2d = dict(\n            E = 20000., # Young's modulus\n            nu= 0.250,  # Poisson's ratio\n            t =  1.00   # thickness of the plate\n        )\n\n        beamParams = dict(\n            E = 20000.,    # Young's modulus\n            A = Ly,        # cross section area\n            I = Ly**3/12.  # cross section moment of inertia\n        )\n\n        # ========== setting load parameters ==============\n\n        px = 0.0  # uniform load normal to x=Lx\n        py = 0.0  # uniform load normal to y=Ly\n        pxy = 1.5  # uniform shear load on x=L\n\n        # ========== setting analysis parameters ==============\n\n        target_load_level = 10.00  # reference load\n        max_steps = 2  # number of load steps: 2 -> [0.0, 1.0]\n\n        # define a list of target load levels\n        load_levels = np.linspace(0, target_load_level, max_steps + 1)\n\n        #\n        # ==== Build the system model ====\n        #\n\n        model = System()\n        model.setSolver(NewtonRaphsonSolver())\n\n        # create the 2d portion\n        mesher = PatchMesher(model, (0.,-Ly/2), (Lx/2,-Ly/2), (Lx/2, Ly/2), (0., Ly/2))\n        nodes, quads = mesher.quadMesh(Nx, Ny, Quad, PlaneStress(params2d))\n\n        # create a list of nodes on the interface\n        # .. we do this before we create the frame elements\n        # .. to avoid checking for the one frame node along that line\n        section = model.findNodesAlongLine((Lx/2, 0.0), (0.0, 1.0))\n\n        # create the beam portion\n        frameMesher = CurveMesher(model, (Lx/2, 0.0), (Lx, 0.0))\n        frameNodes, beams = frameMesher.lineMesh(Nx, Frame2D, ElasticSection(beamParams))\n\n        # find the lead node\n        for lead_node in frameNodes:\n            if lead_node.isClose((Lx/2,0.0)):\n                break\n\n        # create the links\n        for plate_node, _ in section:\n            model.addElement(BeamSolidLink(lead_node, plate_node))\n\n        # define support(s)\n\n        ## find nodes at x==0\n        for node, _ in model.findNodesAlongLine((0.0, 0.0), (0.0, 1.0)):\n            node.fixDOF('ux', 'uy')\n\n        # find the node on the beam axis (y==0.0) at the end of the beam (x==Lx)\n        end_node, _ = model.findNodesAt((Lx, 0.0))[0]\n\n        # ==== complete the reference load ====\n\n        # the section at the right end (Frame model)\n        # .. this must be the integral over the end section, i.e., traction multiplied by the height.\n        end_node.setLoad([px * Ly, -pxy * Ly], ['ux', 'uy'])\n\n        # surface loading on the top face\n        # .. 2d portion\n        for _, face in model.findFacesAlongLine((0.0, Ly), (1.0, 0.0), orientation=-1):\n            face.setLoad(-py, 0.0)\n        # .. frame portion\n        for elem in beams:\n            elem.setDistLoad(-py)\n\n        model.plot(factor=0, title=\"undeformed system\", show_bc=1, show_loads=1)\n\n        for lf in load_levels:\n            model.setLoadFactor(lf)\n            model.solve(verbose=True)\n\n        #model.report()\n\n        model.plot(factor=1., show_bc=1, show_loads=1, show_reactions=1)\n\n        model.valuePlot('sxx', show_mesh=True)\n        model.valuePlot('sxy', show_mesh=True)\n        model.beamValuePlot('M')\n        model.beamValuePlot('V')\n\n        msg = r\"\"\"\n        The applied load at a load factor of 10.0 is:\n          * horizontal force at the right end node:             {:8.3f} kips\n          * vertical force at the right end node:               {:8.3f} kips\n          * distributed vertical load along the upper boundary: {:8.5f} k/in\n          \n        The end deflection of the cantilever at this load is:\n          * horizontal displacement: {:8.3f} in\n          * vertical displacement:   {:8.3f} in\n          * rotation (CCW): {:8.1f} * 10^-3 rad\n        \"\"\".format(\n            lf*px*Ly,\n            lf*pxy*Ly,\n            py,\n            *end_node.getDisp(['ux','uy']),\n            1.0e3*end_node.getDisp(['rz'])[0]\n        )\n        print(msg)"
      ]
    },
    {
      "cell_type": "markdown",
      "metadata": {},
      "source": [
        "Run the example by creating an instance of the problem and executing it by calling :py:meth:`Example.run()`\n\n\n"
      ]
    },
    {
      "cell_type": "code",
      "execution_count": null,
      "metadata": {
        "collapsed": false
      },
      "outputs": [],
      "source": [
        "if __name__ == \"__main__\":\n    ex = ExampleMixed10()\n    ex.run()"
      ]
    }
  ],
  "metadata": {
    "kernelspec": {
      "display_name": "Python 3",
      "language": "python",
      "name": "python3"
    },
    "language_info": {
      "codemirror_mode": {
        "name": "ipython",
        "version": 3
      },
      "file_extension": ".py",
      "mimetype": "text/x-python",
      "name": "python",
      "nbconvert_exporter": "python",
      "pygments_lexer": "ipython3",
      "version": "3.13.2"
    }
  },
  "nbformat": 4,
  "nbformat_minor": 0
}