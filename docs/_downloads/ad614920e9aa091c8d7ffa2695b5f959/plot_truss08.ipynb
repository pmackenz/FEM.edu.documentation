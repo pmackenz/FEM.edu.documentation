{
  "cells": [
    {
      "cell_type": "code",
      "execution_count": null,
      "metadata": {
        "collapsed": false
      },
      "outputs": [],
      "source": [
        "%matplotlib inline"
      ]
    },
    {
      "cell_type": "markdown",
      "metadata": {},
      "source": [
        "\n# Post-buckling of a truss column using displacement Control.\n\nThis is the same structure as in problem `sphx_glr_auto_examples_trusses_plot_truss07.py` but\nusing a mix of load control and displacement control.\n\nAuthor: Peter Mackenzie-Helnwein\n"
      ]
    },
    {
      "cell_type": "markdown",
      "metadata": {},
      "source": [
        "Setup\n\n"
      ]
    },
    {
      "cell_type": "code",
      "execution_count": null,
      "metadata": {
        "collapsed": false
      },
      "outputs": [],
      "source": [
        "import numpy as np\nimport matplotlib.pyplot as plt\n\nfrom femedu.examples import Example\n\nfrom femedu.domain import System, Node\nfrom femedu.elements.finite import Truss\nfrom femedu.materials import FiberMaterial\nfrom femedu.solver import NewtonRaphsonSolver"
      ]
    },
    {
      "cell_type": "markdown",
      "metadata": {},
      "source": [
        "Create the example by subclassing the :py:class:`Example`\n\n"
      ]
    },
    {
      "cell_type": "code",
      "execution_count": null,
      "metadata": {
        "collapsed": false
      },
      "outputs": [],
      "source": [
        "class ExampleTruss08(Example):\n\n    def problem(self):\n        # units\n        mm = 1.\n        m = 1000. * mm\n        N  = 1.0\n        kN = 1000. * N\n        MN = 1000. * kN\n        Pa = N / m**2\n        MPa = 1.e6 * Pa\n        GPa = 1000. * MPa\n\n        # mesh parameters\n        H = 5.00 * m\n        W = H / 20\n\n        Px = 0.05 * kN\n\n        #Ny = 11\n        Ny = 20\n\n        params_vert = dict(\n            E = 200 * GPa,\n            A = 10 * mm**2\n        )\n\n        params_diag = dict(\n            E = 200 * GPa,\n            A = 50 * mm**2\n        )\n\n        params_brace = dict(\n            E = 200 * GPa,\n            A = 50 * mm**2\n        )\n\n        EI = params_vert['E'] * params_vert['A'] * W**2 / 2\n        Py = EI * np.pi**2 / (2*H)**2\n\n        # initialize a system model\n        model = System()\n        model.setSolver(NewtonRaphsonSolver())\n\n        # create floor nodes\n        h = 0.0\n        nd0 = Node(0.0, h)\n        nd1 = Node(  W, h)\n\n        nd_00 = nd0\n        nd_01 = nd1\n\n        model.addNode(nd0, nd1)\n\n        for layer in range(Ny):\n            h += H / Ny\n            nd_10 = Node(0.0, h)\n            nd_11 = Node(  W, h)\n\n            model.addNode(nd_10, nd_11)\n\n            # create elements\n            model += Truss(nd_00, nd_10, FiberMaterial(params_vert))\n            model += Truss(nd_01, nd_11, FiberMaterial(params_vert))\n            model += Truss(nd_00, nd_11, FiberMaterial(params_diag))\n            model += Truss(nd_10, nd_11, FiberMaterial(params_brace))\n\n            # prep for the next level\n            nd_00 = nd_10\n            nd_01 = nd_11\n\n        # apply boundary conditions\n        nd0.fixDOF(['ux','uy'])\n        nd1.fixDOF(['ux','uy'])\n\n        # build reference load\n        nd_10.addLoad([-Py/2],['uy'])\n        nd_11.addLoad([-Py/2],['uy'])\n        nd_10.addLoad([ Px/2],['ux'])\n        nd_11.addLoad([ Px/2],['ux'])\n\n        # write out report\n        model.report()\n\n        # create plots\n        model.setLoadFactor(1.0)    # needed to show the reference load\n        model.plot(factor=0., filename=\"truss08_undeformed.png\", show_loads=1, show_bc=1, title=\"Undeformed System\")\n\n        #\n        # performing the analysis\n        #\n        model.resetDisp()\n        model.setLoadFactor(0.0)\n\n        # setting target load levels\n        levels = np.linspace(0.0, 2.00, 30)\n\n        # set up data collection\n        load_list = []\n        data_list = []\n\n        # reset the analysis\n        model.resetDisp()\n\n        # apply all load steps\n        for lam in levels:\n\n            model.setLoadFactor(lam)\n            model.solve()\n\n            # collect data\n            load_list.append(lam)\n            data_list.append(nd_11.getDisp())\n\n            # stop load control once lateral displacement of the top node exceeds 75 mm\n            if nd_11.getDisp('ux')[0] > 75 * mm:\n                break\n\n        # plot the deformed shape\n        model.plot(factor=1.0,\n                   title=\"Deformed Sytem at Transition to Displacement Control\",\n                   filename=\"truss08_deformed_end_load_control.png\",\n                   show_loads=False, show_reactions=False)\n\n        #\n        # switching to displacement control\n        #\n\n        # remember displacement at which we switched to displacement control\n        disp_switch = nd_11.getDisp('ux')[0]\n\n        # let's start the displacement control at the current level to verify\n        # functionality.\n        target = disp_switch\n\n        while True:\n\n            model.setDisplacementControl(nd_11, 'ux', target)\n            model.solve()\n\n            # collect data\n            lam = model.loadfactor\n            load_list.append(lam)\n            data_list.append(nd_11.getDisp())\n\n            # increase the target displacement by 200 mm\n            target += 200 * mm\n\n            # stop displacement control once lateral displacement of the top node exceeds 3500 mm\n            if nd_11.getDisp('ux')[0] > 3500 * mm:\n                break\n\n        model.plot(factor=1.0,\n                   title=\"Deformed Sytem at Transition back to Load Control\",\n                   filename=\"truss08_deformed_end_disp_control.png\",\n                   show_loads=False, show_reactions=False)\n\n        #\n        # returning to load control\n        #\n\n        # remember displacement at which we switched to displacement control\n        lam_switch = model.loadfactor\n\n        # let's start the load control at the current level to verify\n        # functionality.\n        lam = lam_switch\n\n        while True:\n\n            model.setLoadFactor(lam)\n            model.solve()\n\n            # collect data\n            load_list.append(lam)\n            data_list.append(nd_11.getDisp())\n\n            # increase the target load level by $ \\Delta \\lambda = 0.10 $\n            lam += 0.10\n\n            # stop load control once the load level exceeds 2.0\n            if lam > 2.0:\n                break\n\n        # plot the deformed shape\n        model.plot(factor=1.0,\n                   title=\"Deformed Sytem at $ \\\\lambda={:.2f} $\".format(lam),\n                   filename=\"truss08_deformed_end_load_2_control.png\",\n                   show_loads=False, show_reactions=False)\n\n        levels = np.array(load_list)\n        data   = np.array(data_list)\n\n        plt.figure()\n        plt.plot(data, levels, '--o')\n\n        plt.plot([disp_switch, disp_switch], [0.0,1.1],'-r')\n        plt.text(2.0*disp_switch, 1.05, \"transition to\\ndisplacement control\", rotation=90.)\n\n        plt.plot([0.5*target,1.1*target], [lam_switch, lam_switch], '-g')\n        plt.text(0.5*target, 1.05 * lam_switch, \"transition to\\nload control\" , ha='left')\n\n        plt.grid(True)\n        plt.xlabel('displacements $ u_i $')\n        plt.ylabel('load factor $ \\lambda $')\n        plt.legend(['$ u_x $','$ u_y $'])\n        plt.savefig(\"truss08_deformation_history.png\")\n        plt.show()"
      ]
    },
    {
      "cell_type": "markdown",
      "metadata": {},
      "source": [
        "Run the example by creating an instance of the problem and executing it by calling :py:meth:`Example.run()`\n\n\n"
      ]
    },
    {
      "cell_type": "code",
      "execution_count": null,
      "metadata": {
        "collapsed": false
      },
      "outputs": [],
      "source": [
        "if __name__ == \"__main__\":\n    ex = ExampleTruss08()\n    ex.run()"
      ]
    }
  ],
  "metadata": {
    "kernelspec": {
      "display_name": "Python 3",
      "language": "python",
      "name": "python3"
    },
    "language_info": {
      "codemirror_mode": {
        "name": "ipython",
        "version": 3
      },
      "file_extension": ".py",
      "mimetype": "text/x-python",
      "name": "python",
      "nbconvert_exporter": "python",
      "pygments_lexer": "ipython3",
      "version": "3.10.8"
    }
  },
  "nbformat": 4,
  "nbformat_minor": 0
}