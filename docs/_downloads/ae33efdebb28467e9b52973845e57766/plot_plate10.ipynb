{
  "cells": [
    {
      "cell_type": "markdown",
      "metadata": {},
      "source": [
        "\n# Profiling the code\n\nUsing PatchMesher to model a quarter of the plate\n"
      ]
    },
    {
      "cell_type": "code",
      "execution_count": null,
      "metadata": {
        "collapsed": false
      },
      "outputs": [],
      "source": [
        "# sphinx_gallery_thumbnail_path = '_static/profiler.png'\n\nSPARSE = False\n\nimport math\nimport sys\nimport numpy as np\n\nfrom femedu.examples import Example\n\nfrom femedu.domain import System, Node\nfrom femedu.solver import NewtonRaphsonSolver, SparseSolver\nfrom femedu.elements.linear import Triangle\nfrom femedu.materials import PlaneStress\nfrom femedu.mesher import *\n\n\nclass ExamplePlate10(Example):\n\n    def problem(self):\n        # ========== setting mesh parameters ==============\n\n        Nx = 60        # number of elements in the mesh\n        Ny = 40        # number of elements in the mesh\n\n        Lx = 120.0    # length of plate in the x-direction\n        Ly =  80.0    # length of plate in the y-direction\n        R  = Ly / 2.\n\n        # ========== setting material parameters ==============\n\n        params = dict(\n            E  = 200.,      # Young's modulus\n            nu = 0.450,     # Poisson's ratio\n            t  = 1.00       # thickness of the plate\n        )\n\n        # ========== setting load parameters ==============\n\n        px  = 20.0         # uniform load normal to x=const\n        py  =  0.0         # uniform load normal to y=const\n        pxy =  0.0         # uniform shear load on x=const and y=const\n\n        # ========== setting analysis parameters ==============\n\n        target_load_level = 1.00     # reference load\n        max_steps = 2                # number of load steps: 2 -> [0.0, 1.0]\n\n        # define a list of target load levels\n        load_levels = np.linspace(0, target_load_level, max_steps)\n\n        #\n        # ==== Build the system model ====\n        #\n\n        model = System()\n        if SPARSE:\n            model.setSolver(SparseSolver())\n        else:\n            model.setSolver(NewtonRaphsonSolver())\n\n        # create nodes\n\n        #  3---------2\n        #  |         |\n        #  |         |\n        #  |         |\n        #  1---------1\n\n        pts = (\n            ( 0, 0),\n            (Lx, 0),\n            (Lx, Ly),\n            (0, Ly),\n        )\n\n        mesher = PatchMesher(model, pts[0], pts[1], pts[2], pts[3])\n        nodes, elements = mesher.triangleMesh(Nx, Ny, Triangle, PlaneStress(params))\n\n        # define support(s)\n\n        ## find nodes at y==0 and x==0\n\n        for node in nodes:\n            X = node.getPos()\n            if math.isclose(X[0], 0.0):\n                node.fixDOF('ux')    # horizontal support left side\n            if math.isclose(X[1], 0.0):\n                node.fixDOF('uy')    # vertical support at y==0\n\n        # ==== build the reference load ====\n\n        # nodal loads\n        dir = np.array([1.,0.])    # normal to surface\n        x0  = np.array([Lx,0.0])   # reference point on the surface\n        for node in nodes:\n            X = node.getPos()\n            if math.isclose(X[0],Lx):\n                print(node.getID(), node.getPos())\n                for elem in node.elements:\n                    print('+', elem.getID(), end=' ')\n                    for face in elem.faces:\n                        dist = np.allclose( [ (x - x0) @ dir for x in face.pos ], 0.0 ) \\\n                            and np.allclose( [ t @ dir for t in face.tangent ], 0.0, atol=0.05)\n                        if dist:\n                            print(face.id, \":\", face.area, end=' ')\n                            face_idx = int(face.id[-1])\n                            elem.setSurfaceLoad(face_idx, px, pxy)\n                    print()\n\n        #model.plot(factor=0, title=\"undeformed system\", filename=\"plate06_undeformed.png\", show_bc=1, show_loads=1)\n\n        model.setLoadFactor(1.0)\n        model.solve()\n\n        #model.plot(factor=1., filename=\"plate06_deformed.png\")\n\n        #model.solver.showKt(filename=\"plate06_spy_Kt.png\")\n        #np.save(\"plate6_Kt.npy\",model.solver.Kt)"
      ]
    },
    {
      "cell_type": "markdown",
      "metadata": {},
      "source": [
        "Run the example by creating an instance of the problem and executing it by calling :py:meth:`Example.run()`\n\nThis time, we are running the example in the profiler, writing profiling data to file.\n\n\n"
      ]
    },
    {
      "cell_type": "code",
      "execution_count": null,
      "metadata": {
        "collapsed": false
      },
      "outputs": [],
      "source": [
        "import cProfile\n\n    ex = ExamplePlate10()\n\n    if SPARSE:\n        cProfile.run('ex.run()','profile_data_sparse.txt')\n    else:\n        cProfile.run('ex.run()','profile_data_full.txt')"
      ]
    },
    {
      "cell_type": "markdown",
      "metadata": {},
      "source": [
        "Now it's time to process the profiling data\n\n\n"
      ]
    },
    {
      "cell_type": "code",
      "execution_count": null,
      "metadata": {
        "collapsed": false
      },
      "outputs": [],
      "source": [
        "import pstats\n    from pstats import SortKey\n\n    if SPARSE:\n        p = pstats.Stats('profile_data_sparse.txt')\n        p.strip_dirs() #.sort_stats(-1).print_stats()\n        p.sort_stats(SortKey.NAME)\n        #p.print_stats()\n\n        p.sort_stats(SortKey.CUMULATIVE).print_stats(20)\n        p.sort_stats(SortKey.TIME).print_stats(20)\n\n    else:\n        p = pstats.Stats('profile_data_full.txt')\n        p.strip_dirs() #.sort_stats(-1).print_stats()\n        p.sort_stats(SortKey.NAME)\n        #p.print_stats()\n\n        p.sort_stats(SortKey.CUMULATIVE).print_stats(20)\n        p.sort_stats(SortKey.TIME).print_stats(20)"
      ]
    }
  ],
  "metadata": {
    "kernelspec": {
      "display_name": "Python 3",
      "language": "python",
      "name": "python3"
    },
    "language_info": {
      "codemirror_mode": {
        "name": "ipython",
        "version": 3
      },
      "file_extension": ".py",
      "mimetype": "text/x-python",
      "name": "python",
      "nbconvert_exporter": "python",
      "pygments_lexer": "ipython3",
      "version": "3.11.6"
    }
  },
  "nbformat": 4,
  "nbformat_minor": 0
}