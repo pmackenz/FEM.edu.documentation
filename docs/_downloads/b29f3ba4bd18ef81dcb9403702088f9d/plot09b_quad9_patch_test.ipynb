{
  "cells": [
    {
      "cell_type": "markdown",
      "metadata": {},
      "source": [
        "\n# Patch test for mixed mesh of triangular and quadrilateral plate elements under in-plane loading\n\nPatchMesher test for the mixed mesh of triangular and quadrilateral plate elements.\n"
      ]
    },
    {
      "cell_type": "code",
      "execution_count": null,
      "metadata": {
        "collapsed": false
      },
      "outputs": [],
      "source": [
        "import math\nimport numpy as np\n\nfrom femedu.examples import Example\n\nfrom femedu.domain import System, Node\nfrom femedu.solver import NewtonRaphsonSolver\n#from femedu.elements.linear import Quad, Quad9\nfrom femedu.elements.finite import Quad, Quad9\nfrom femedu.materials import PlaneStress\nfrom femedu.mesher import *\n\n\nclass ExamplePlate09b(Example):\n\n    def problem(self):\n        # ========== setting mesh parameters ==============\n\n        Nx = 3  # number of elements in the mesh\n        Ny = 3  # number of elements in the mesh\n        Lx = 100.0  # length of plate in the x-direction\n        Ly = 80.0  # length of plate in the y-direction\n\n        # ========== setting material parameters ==============\n\n        params = dict(\n            E=20000.,  # Young's modulus\n            nu=0.250,  # Poisson's ratio\n            t=1.00  # thickness of the plate\n        )\n\n        # ========== setting load parameters ==============\n\n        px = 10.0  # uniform load normal to x=const\n        py = 0.0  # uniform load normal to y=const\n        pxy = 0.0  # uniform shear load on x=const and y=const\n\n        # ========== setting analysis parameters ==============\n\n        target_load_level = 1.00  # reference load\n        max_steps = 1  # number of load steps: 1 -> [0.0, 1.0]\n\n        # define a list of target load levels\n        load_levels = np.linspace(0, target_load_level, max_steps+1)\n\n        #\n        # ==== Build the system model ====\n        #\n\n        model = System()\n        model.setSolver(NewtonRaphsonSolver())\n\n        # create reference points\n        pt0 = (0, 0)\n        pt1 = (Lx, 0.0)\n        pt2 = (Lx, Ly)\n        pt3 = (0, Ly)\n        pt4 = (0.4 * Lx, 0)\n        pt5 = (Lx, 0.5 * Ly)\n        pt6 = (0.5 * Lx, Ly)\n        pt7 = (0.0, 0.4 * Ly)\n        pt8 = (0.6 * Lx, 0.55 * Ly)\n\n        mesher = PatchMesher(model,\n                              pt0, pt1, pt2, pt3,  # corner nodes\n                              pt4, pt5, pt6, pt7,  # mid-side nodes\n                              pt8)  # center node\n        #nodes, elements = mesher.quadMesh(Nx, Ny, Quad, PlaneStress(params))\n        nodes, elements = mesher.quadMesh(Nx, Ny, Quad9, PlaneStress(params))\n\n        # define support(s)\n\n        ## find nodes at y==0 and x==0\n\n        for node in nodes:\n            X = node.getPos()\n            if math.isclose(X[0], 0.0):\n                node.fixDOF('ux')  # horizontal support left side\n            if math.isclose(X[1], 0.0):\n                node.fixDOF('uy')  # vertical support at y==0\n\n        # ==== complete the reference load ====\n\n        for elem, face in model.findFacesAlongLine((Lx, 0.0), (0.0, 1.0)):\n            face.setLoad(px, 0.0)\n\n        # model.report()\n\n        model.plot(factor=0, title=\"undeformed system\", show_bc=1, show_loads=1)\n\n        model.setLoadFactor(1.0)\n        model.solve(verbose=1)\n\n        model.report()\n\n        model.plot(factor=25.)\n        model.valuePlot('sxx', show_mesh=1)\n        model.valuePlot('syy', show_mesh=1)\n        model.valuePlot('sxy', show_mesh=1)"
      ]
    },
    {
      "cell_type": "markdown",
      "metadata": {},
      "source": [
        "Run the example by creating an instance of the problem and executing it by calling :py:meth:`Example.run()`\n\n\n"
      ]
    },
    {
      "cell_type": "code",
      "execution_count": null,
      "metadata": {
        "collapsed": false
      },
      "outputs": [],
      "source": [
        "if __name__ == \"__main__\":\n    ex = ExamplePlate09b()\n    ex.run()"
      ]
    }
  ],
  "metadata": {
    "kernelspec": {
      "display_name": "Python 3",
      "language": "python",
      "name": "python3"
    },
    "language_info": {
      "codemirror_mode": {
        "name": "ipython",
        "version": 3
      },
      "file_extension": ".py",
      "mimetype": "text/x-python",
      "name": "python",
      "nbconvert_exporter": "python",
      "pygments_lexer": "ipython3",
      "version": "3.13.1"
    }
  },
  "nbformat": 4,
  "nbformat_minor": 0
}