{
  "cells": [
    {
      "cell_type": "code",
      "execution_count": null,
      "metadata": {
        "collapsed": false
      },
      "outputs": [],
      "source": [
        "%matplotlib inline"
      ]
    },
    {
      "cell_type": "markdown",
      "metadata": {},
      "source": [
        "\n# Three-span continuous beam under uniform load.\n\nThe system is statically indeterminate but simple enough to validate\ndeformation, reactions and internal forces.\n\nAuthor: Peter Mackenzie-Helnwein\n"
      ]
    },
    {
      "cell_type": "code",
      "execution_count": null,
      "metadata": {
        "collapsed": false
      },
      "outputs": [],
      "source": [
        "from femedu.examples.Example import *\n\nfrom femedu.domain.System import *\nfrom femedu.domain.Node import *\nfrom femedu.elements.linear import Beam2D\nfrom femedu.materials.ElasticSection import *\n\nclass ExampleBeam02(Example):\n\n    def problem(self):\n        # initialize a system model\n        SpanLengths = [ 8.0 * 12, 10.0 * 12, 8.0 * 12 ]\n        Nelems = 2     # number of elements\n        params = {'E': 29000., 'A': 5, 'I':50}\n\n        # define load\n        w = -1.00\n\n        model = System()\n\n        # meshing parameters\n        Xnode  = 0.0\n        Ynode  = 0.0\n        Offset = 0.0\n\n        # create left node\n        nd0 = Node(Xnode, Ynode)\n        nd0.fixDOF('ux', 'uy')     # pin support left end\n        model += nd0\n\n        # initialization for node and element creation\n        ndi = nd0\n\n        for SpanLength in SpanLengths:\n\n            Le = SpanLength / Nelems\n\n            for e in range(Nelems):\n                # create next node\n                Xnode += Le\n                ndj = Node(Xnode, Ynode)\n                model += ndj\n\n                # create elements\n                elem = Beam2D(ndi, ndj, ElasticSection(params))\n                model += elem\n\n                # load the element with a uniform load\n                elem.setDistLoad(w)\n\n                # shift one node to the right\n                ndi = ndj\n\n            # define support(s)\n            ndj.fixDOF('uy')           # roller support right end\n\n            # move on to the next span\n            Offset = Xnode\n\n        # done building the model\n\n        # analyze the model\n        model.solve()\n\n        # write out report\n        model.report()\n\n        # create plots\n        model.plot(factor=100., filename=\"beam02_deformed.png\", show_bc=1, show_reactions=1)\n\n        model.beamValuePlot('V', filename=\"beam02_shear.png\")\n        model.beamValuePlot('M', filename=\"beam02_moment.png\")"
      ]
    },
    {
      "cell_type": "markdown",
      "metadata": {},
      "source": [
        "Run the example by creating an instance of the problem and executing it by calling :py:meth:`Example.run()`\n\n\n"
      ]
    },
    {
      "cell_type": "code",
      "execution_count": null,
      "metadata": {
        "collapsed": false
      },
      "outputs": [],
      "source": [
        "if __name__ == \"__main__\":\n    ex = ExampleBeam02()\n    ex.run()"
      ]
    }
  ],
  "metadata": {
    "kernelspec": {
      "display_name": "Python 3",
      "language": "python",
      "name": "python3"
    },
    "language_info": {
      "codemirror_mode": {
        "name": "ipython",
        "version": 3
      },
      "file_extension": ".py",
      "mimetype": "text/x-python",
      "name": "python",
      "nbconvert_exporter": "python",
      "pygments_lexer": "ipython3",
      "version": "3.10.8"
    }
  },
  "nbformat": 4,
  "nbformat_minor": 0
}