{
  "cells": [
    {
      "cell_type": "markdown",
      "metadata": {},
      "source": [
        "\n# A square patch: element comparison\nBasic implementation test with all prescribed displacements.\n    Testing the internal force computation.\n\n.. code::\n\n    v=-5   v=-5\n     |     |\n     v     v\n     3-----2 -> u=5\n     |\\  b | >\n     | \\   | >\n     |  \\  | > (w = 1.0)\n     |   \\ | >\n     | a  \\| >\n     0-----1 -> u=5\n\n    width:  10.\n    height: 10.\n\n    Material parameters: St. Venant-Kirchhoff, plane stress\n        E  = 10.0\n        nu =  0.30\n        t  =  1.0\n\n    Element loads:\n        node 0: [ 0.0, 0.0]\n        node 1: [ 5.0, 0.0]\n        node 2: [ 5.0, 0.0]\n        node 3: [ 0.0, 0.0]\n\n    Green Lagrange strain:\n        eps_XX = 0.5 * ((1.5)^2 - 1)      =  0.625\n        eps_YY = 0.5 * ((0.5)^2 - 1)      = -0.375\n        eps_XY = eps_YX                   =  0.000\n        eps_ZZ = - nu * (eps_XX + eps_YY) = -0.075\n\n    2nd Piola-Kirchhoff stress:\n        D = E t/(1 - nu^2) = 10.989\n        S_XX = (10.989) * ((0.625) + (0.30)(-0.375)) =  5.632\n        S_YY = (10.989) * ((-0.375) + (0.30)(0.625)) = -2.060\n        S_XY = S_YX = S_ZZ                           =  0.000\n\n\nAuthor: Peter Mackenzie-Helnwein\n"
      ]
    },
    {
      "cell_type": "code",
      "execution_count": null,
      "metadata": {
        "collapsed": false
      },
      "outputs": [],
      "source": [
        "from femedu.examples import Example\n\nfrom femedu.domain import System, Node\nfrom femedu.elements.linear import Triangle\nfrom femedu.elements.linear import Triangle6\nfrom femedu.elements.linear import Quad\nfrom femedu.elements.linear import Quad9\nfrom femedu.materials import PlaneStress\n\n\nclass ExamplePlate07(Example):\n\n    # sphinx_gallery_thumbnail_number = 2\n    def problem(self):\n        params = dict(\n            E=10.,  # Young's modulus\n            nu=0.3,  # Poisson's ratio\n            t=1.0,  # thickness of the plate\n            fy=1.e30  # yield stress\n        )\n\n        a = 10.  # length of the plate in the x-direction\n        b = 10.  # length of the plate in the y-direction\n\n        model = System()\n\n        # made of Triangle elements\n        \"\"\"\n        Nodes:\n        03   02\n        00   01\n        \"\"\"\n        nd00 = Node(0.0, 0.0)\n        nd01 = Node(a, 0.0)\n        nd02 = Node(a, b)\n        nd03 = Node(0.0, b)\n\n        model.addNode(nd00, nd01, nd02, nd03)\n\n        elemA0 = Triangle(nd00, nd01, nd03, PlaneStress(params))\n        elemA1 = Triangle(nd02, nd03, nd01, PlaneStress(params))\n\n        model.addElement(elemA0, elemA1)\n\n        elemA1.setSurfaceLoad(face=2, pn=1.0)\n\n\n        # made of Triangle6 elements\n        xo=22.\n        yo= 0.\n\n        \"\"\"\n        Nodes:\n        16   17   18\n        13   14   15\n        10   11   12\n        \"\"\"\n        nd10 = Node(xo+0.0, yo+0.0)\n        nd11 = Node(xo+a/2, yo+0.0)\n        nd12 = Node(xo+a,   yo+0.0)\n        nd13 = Node(xo+0.0, yo+b/2)\n        nd14 = Node(xo+a/2, yo+b/2)\n        nd15 = Node(xo+a,   yo+b/2)\n        nd16 = Node(xo+0.0, yo+b  )\n        nd17 = Node(xo+a/2, yo+b  )\n        nd18 = Node(xo+a,   yo+b  )\n\n        model.addNode(nd10,nd11,nd12,nd13,nd14,nd15,nd16,nd17,nd18)\n\n        elemB0 = Triangle6(nd10, nd12, nd16, nd11, nd14, nd13, PlaneStress(params))\n        elemB1 = Triangle6(nd16, nd12, nd18, nd14, nd15, nd17, PlaneStress(params))\n\n        model.addElement(elemB0, elemB1)\n\n        elemB1.setSurfaceLoad(face=1, pn=1.0)\n\n\n        # made of Quad9 elements\n        xo=22.\n        yo=15.\n\n        \"\"\"\n        Nodes:\n        26   27   28\n        23   24   25\n        20   21   22\n        \"\"\"\n        nd20 = Node(xo+0.0, yo+0.0)\n        nd21 = Node(xo+a/2, yo+0.0)\n        nd22 = Node(xo+a,   yo+0.0)\n        nd23 = Node(xo+0.0, yo+b/2)\n        nd24 = Node(xo+a/2, yo+b/2)\n        nd25 = Node(xo+a,   yo+b/2)\n        nd26 = Node(xo+0.0, yo+b  )\n        nd27 = Node(xo+a/2, yo+b  )\n        nd28 = Node(xo+a,   yo+b  )\n\n        model.addNode(nd20,nd21,nd22,nd23,nd24,nd25,nd26,nd27,nd28)\n\n        elemC0 = Quad9(nd20, nd22, nd28, nd26, nd21, nd25, nd27, nd23, nd24, PlaneStress(params))\n\n        model.addElement(elemC0)\n\n        elemC0.setSurfaceLoad(face=1, pn=1.0)\n\n\n        # made of Quad elements\n        xo=0.\n        yo=15.\n\n        \"\"\"\n        Nodes:\n        32   33\n        30   31\n        \"\"\"\n        nd30 = Node(xo+0.0, yo+0.0)\n        nd31 = Node(xo+a,   yo+0.0)\n        nd32 = Node(xo+0.0, yo+b  )\n        nd33 = Node(xo+a,   yo+b  )\n\n        model.addNode(nd30,nd31,nd32,nd33)\n\n        elemD0 = Quad(nd30, nd31, nd33, nd32, PlaneStress(params))\n\n        model.addElement(elemD0)\n\n        elemD0.setSurfaceLoad(face=1, pn=1.0)\n\n        # show the model\n        model.plot(factor=0, title=\"Undeformed system\", filename=\"plate07_undeformed.png\", show_bc=1)\n\n        model.report()\n\n        # analyze the model\n        model.setLoadFactor(1.0)\n\n        nd00.setDisp([0.0, 0.0])\n        nd01.setDisp([5.0, 0.0])\n        nd02.setDisp([5.0, -5.0])\n        nd03.setDisp([0.0, -5.0])\n\n        nd10.setDisp([0.0,  0.0])\n        nd13.setDisp([0.0, -2.5])\n        nd16.setDisp([0.0, -5.0])\n        #\n        nd11.setDisp([2.5,  0.0])\n        nd14.setDisp([2.5, -2.5])\n        nd17.setDisp([2.5, -5.0])\n        #\n        nd12.setDisp([5.0,  0.0])\n        nd15.setDisp([5.0, -2.5])\n        nd18.setDisp([5.0, -5.0])\n\n        nd20.setDisp([0.0,  0.0])\n        nd23.setDisp([0.0, -2.5])\n        nd26.setDisp([0.0, -5.0])\n        #\n        nd21.setDisp([2.5,  0.0])\n        nd24.setDisp([2.5, -2.5])\n        nd27.setDisp([2.5, -5.0])\n        #\n        nd22.setDisp([5.0,  0.0])\n        nd25.setDisp([5.0, -2.5])\n        nd28.setDisp([5.0, -5.0])\n\n        nd30.setDisp([0.0, 0.0])\n        nd31.setDisp([5.0, 0.0])\n        nd32.setDisp([0.0, -5.0])\n        nd33.setDisp([5.0, -5.0])\n\n        for elem in model.elements:\n            elem.updateState()\n\n        model.report()\n\n        model.plot(factor=1.0)\n        model.valuePlot('sxx', show_mesh=1)\n        model.valuePlot('syy', show_mesh=1)\n        model.valuePlot('sxy', show_mesh=1)"
      ]
    },
    {
      "cell_type": "markdown",
      "metadata": {},
      "source": [
        "Run the example by creating an instance of the problem and executing it by calling :py:meth:`Example.run()`\n\n\n"
      ]
    },
    {
      "cell_type": "code",
      "execution_count": null,
      "metadata": {
        "collapsed": false
      },
      "outputs": [],
      "source": [
        "if __name__ == \"__main__\":\n    ex = ExamplePlate07()\n    ex.run()"
      ]
    }
  ],
  "metadata": {
    "kernelspec": {
      "display_name": "Python 3",
      "language": "python",
      "name": "python3"
    },
    "language_info": {
      "codemirror_mode": {
        "name": "ipython",
        "version": 3
      },
      "file_extension": ".py",
      "mimetype": "text/x-python",
      "name": "python",
      "nbconvert_exporter": "python",
      "pygments_lexer": "ipython3",
      "version": "3.13.1"
    }
  },
  "nbformat": 4,
  "nbformat_minor": 0
}