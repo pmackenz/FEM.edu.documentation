{
  "cells": [
    {
      "cell_type": "code",
      "execution_count": null,
      "metadata": {
        "collapsed": false
      },
      "outputs": [],
      "source": [
        "%matplotlib inline"
      ]
    },
    {
      "cell_type": "markdown",
      "metadata": {},
      "source": [
        "\n# Simple triangular truss.\n\nStudy of snap-through behavior using finite deformation truss elements.\n\nWe shall be using load stepping to illustrate the limitation of this control technique.\n\nAuthor: Peter Mackenzie-Helnwein\n"
      ]
    },
    {
      "cell_type": "markdown",
      "metadata": {},
      "source": [
        "Setup\n\n"
      ]
    },
    {
      "cell_type": "code",
      "execution_count": null,
      "metadata": {
        "collapsed": false
      },
      "outputs": [],
      "source": [
        "import numpy as np\nimport matplotlib.pyplot as plt\n\nfrom femedu.examples import Example\n\nfrom femedu.domain import System, Node\nfrom femedu.elements.finite import Truss\nfrom femedu.materials import FiberMaterial\nfrom femedu.solver import NewtonRaphsonSolver"
      ]
    },
    {
      "cell_type": "markdown",
      "metadata": {},
      "source": [
        "Create the example by subclassing the :py:class:`Example`\n\n"
      ]
    },
    {
      "cell_type": "code",
      "execution_count": null,
      "metadata": {
        "collapsed": false
      },
      "outputs": [],
      "source": [
        "class ExampleTruss05(Example):\n\n    def problem(self):\n        # initialize a system model\n        model = System()\n        model.setSolver(NewtonRaphsonSolver())\n\n        # create notes\n        x1=Node(0.0,0.0)\n        x2=Node(5.5,0.5)\n        x3=Node(9.5,0.0)\n\n        model.addNode(x1,x2,x3)\n\n        params = dict(\n            E = 2100.,   # MOE\n            A = 1.       # cross section area\n        )\n\n        # create elements\n        elemA = Truss(x1,x2, FiberMaterial(params))\n        elemB = Truss(x3,x2, FiberMaterial(params))\n\n        model += elemA\n        model += elemB\n\n        # apply boundary conditions\n        x1.fixDOF(['ux','uy'])\n        x3.fixDOF(['ux','uy'])\n\n        # build reference load\n        x2.addLoad([-1.],['uy'])\n\n        # write out report\n        model.report()\n\n        # create plots\n        model.plot(factor=1., filename=\"truss05_deformed.png\")\n\n        #\n        # performing the analysis\n        #\n        model.resetDisp()\n\n        # setting target load levels\n        levels = [0., .2, .4, .6, .7, .8, .9, .95, .975,  1.05, 1.1, 1.2]\n\n        # set up data collection\n        data_list = []\n\n        # reset the analysis\n        model.resetDisp()\n\n        # apply all load steps\n        for lam in levels:\n\n            model.setLoadFactor(lam)\n            model.solve()\n\n            # collect data\n            data_list.append(x2.getDisp())\n\n            # adding a plot\n            if np.isclose(lam, .975):\n                # plot the deformed shape\n                model.plot(factor=1.0, show_loads=False, show_reactions=False)\n\n        # plot the deformed shape\n        model.plot(factor=1.0, show_loads=False, show_reactions=False)\n\n        data = np.array(data_list)\n\n        plt.figure()\n        plt.plot(levels, data)\n        plt.grid(True)\n        plt.xlabel('load factor $ \\lambda $')\n        plt.ylabel('displacements $ u_i $')\n        plt.legend(['$ u_x $','$ u_y $'])\n        plt.show()\n\n        #\n        #  adding some unloading steps\n        #\n\n        # setting additional target load levels\n        more_levels = [1.1, 1., .9, .8, .6, .4, .2, 0.0 ]\n\n        # apply all load steps\n        for lam in more_levels:\n\n            model.setLoadFactor(lam)\n            model.solve()\n\n            # collect data\n            data_list.append(x2.getDisp())\n\n        # plot the deformed shape\n        model.plot(factor=1.0, show_loads=False, show_reactions=False)\n\n        data = np.array(data_list)\n\n        plt.figure()\n        plt.plot(levels + more_levels, data, linestyle=':', marker='o')\n        plt.grid(True)\n        plt.xlabel('load factor $ \\lambda $')\n        plt.ylabel('displacements $ u_i $')\n        plt.legend(['$ u_x $','$ u_y $'])\n        plt.savefig(\"load-displacement.png\")\n        plt.show()"
      ]
    },
    {
      "cell_type": "markdown",
      "metadata": {},
      "source": [
        "Run the example by creating an instance of the problem and executing it by calling :py:meth:`Example.run()`\n\n\n"
      ]
    },
    {
      "cell_type": "code",
      "execution_count": null,
      "metadata": {
        "collapsed": false
      },
      "outputs": [],
      "source": [
        "if __name__ == \"__main__\":\n    ex = ExampleTruss05()\n    ex.run()"
      ]
    }
  ],
  "metadata": {
    "kernelspec": {
      "display_name": "Python 3",
      "language": "python",
      "name": "python3"
    },
    "language_info": {
      "codemirror_mode": {
        "name": "ipython",
        "version": 3
      },
      "file_extension": ".py",
      "mimetype": "text/x-python",
      "name": "python",
      "nbconvert_exporter": "python",
      "pygments_lexer": "ipython3",
      "version": "3.10.8"
    }
  },
  "nbformat": 4,
  "nbformat_minor": 0
}