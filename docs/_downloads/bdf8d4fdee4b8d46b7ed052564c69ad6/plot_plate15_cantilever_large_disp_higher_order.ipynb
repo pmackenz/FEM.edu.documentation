{
  "cells": [
    {
      "cell_type": "markdown",
      "metadata": {},
      "source": [
        "\n# Bending a cantilever beam using Quad9 elements\n\nUsing PatchMesher to model the beam\n\n.. dropdown::  Background Theory\n\n    This problem can be approximately validated using Bernoulli-Euler theory for\n    small deformations. The given problem shall be modeled using\n\n    .. list-table::\n        :widths: 20 30 50\n        :header-rows: 1\n\n        * - parameter\n          - value\n          - description\n        * - $E$\n          - 20000.\n          - modulus of elasticity (in ksi)\n        * - $I$\n          - 666.667\n          - area moment of inertia (in $inches^4$)\n        * - $L$\n          - 120.\n          - length of the cantilever (in inches)\n        * - $P$\n          - 30.\n          - force at $x=L$ (in kips)\n\n    The general solution then yields\n\n    .. math::\n        v(x) = -\\frac{P L^3}{6 EI}\\left( \\frac{x}{L} \\right)^2\\left( 3 - \\frac{x}{L} \\right)\n\n    .. math::\n        \\theta(x) = \\frac{d}{dx} v(x) = -\\frac{P L^2}{2 EI}\\left( \\frac{x}{L} \\right)\\left( 2 - \\frac{x}{L} \\right)\n\n    .. math::\n        M(x) = EI \\frac{d}{dx} \\theta(x) = -\\frac{P L}{6} \\left( 1 - \\frac{x}{L} \\right)\n\n    .. math::\n        V(x) = \\frac{d}{dx} M(x) = P\n\n    The horizontal movement follows as ($2^{nd}$ order accurate)\n\n    .. math::\n        u(x) = \\int\\limits_{0}^{x} -\\frac{1}{2} \\theta^2(s) \\: ds\n             = -\\frac{P^2 L^5}{120 (EI)^2}\\left( \\frac{x}{L} \\right)^3\\left( 20 - 15\\:\\frac{x}{L}+3 \\left( \\frac{x}{L} \\right)^2 \\right)\n\n\n\n    .. list-table:: Reference values for a load factor of $\\lambda=1.0$\n        :widths: 20 30 50\n        :header-rows: 1\n\n        * - variable\n          - value\n          - description\n        * - $u(L)$\n          - -0.0083981\n          - end displacement (in inches). $u>0$ means moving to the right.\n        * - $v(L)$\n          - -1.296\n          - end displacement (in inches). $v>0$ means moving up.\n\n\n\n    .. list-table:: Reference values for a load factor of $\\lambda=10.0$\n        :widths: 20 30 50\n        :header-rows: 1\n\n        * - variable\n          - value\n          - description\n        * - $u(L)$\n          - -0.83981\n          - end displacement (in inches). $u>0$ means moving to the right.\n        * - $v(L)$\n          - -12.96\n          - end displacement (in inches). $v>0$ means moving up.\n"
      ]
    },
    {
      "cell_type": "code",
      "execution_count": null,
      "metadata": {
        "collapsed": false
      },
      "outputs": [],
      "source": [
        "import numpy as np\n\nfrom femedu.examples import Example\n\nfrom femedu.domain import System\nfrom femedu.solver import NewtonRaphsonSolver\nfrom femedu.elements.linear import Quad9\n#from femedu.elements.finite import Quad9\nfrom femedu.materials import PlaneStress\nfrom femedu.mesher import *\n\n\nclass ExamplePlate15(Example):\n\n    def problem(self):\n        # ========== setting mesh parameters ==============\n\n        Nx = 4  # number of elements in the mesh\n        Ny = 4  # number of elements in the mesh\n        Lx = 120.0  # length of plate in the x-direction\n        Ly = 20.0  # length of plate in the y-direction\n\n        # ========== setting material parameters ==============\n\n        params = dict(\n            E=20000.,  # Young's modulus\n            nu=0.250,  # Poisson's ratio\n            t=1.00  # thickness of the plate\n        )\n\n        # ========== setting load parameters ==============\n\n        px = 0.0  # uniform load normal to x=Lx\n        py = 0.0  # uniform load normal to y=Ly\n        pxy = 1.5  # uniform shear load on x=L\n\n        # ========== setting analysis parameters ==============\n\n        target_load_level = 10.00  # reference load\n        max_steps = 10  # number of load steps: 2 -> [0.0, 1.0]\n\n        # define a list of target load levels\n        load_levels = np.linspace(0, target_load_level, max_steps+1)\n\n        #\n        # ==== Build the system model ====\n        #\n\n        model = System()\n        model.setSolver(NewtonRaphsonSolver())\n\n        # create nodes\n\n        mesher = PatchMesher(model, (0., 0.), (Lx, 0.), (Lx, Ly), (0., Ly))\n        nodes, elements = mesher.quadMesh(Nx, Ny, Quad9, PlaneStress(params))\n\n        # define support(s)\n\n        ## find nodes at x==0\n        for node, _ in model.findNodesAlongLine((0.0, 0.0), (0.0, 1.0)):\n            node.fixDOF('ux', 'uy')\n\n        # ==== complete the reference load ====\n\n        # the section at the right end\n        for _, face in model.findFacesAlongLine((Lx, 0.0), (0.0, 1.0), orientation=+1):\n            face.setLoad(px, -pxy)\n\n        # durface loading on the top face\n        for _, face in model.findFacesAlongLine((0.0, Ly), (1.0, 0.0), orientation=-1):\n            face.setLoad(-py, 0.0)\n\n        # find the node on the beam axis (y==Ly/2) at the end of the beam (x==Lx)\n        end_node, _ = model.findNodesAt((Lx, Ly / 2))[0]\n\n        # set up a recorder\n        model.initRecorder(variables=['ux', 'uy'], nodes=[end_node])\n        model.startRecorder()\n\n        model.plot(factor=0, title=\"undeformed system\", filename=\"plate11_undeformed.png\", show_bc=1, show_loads=1)\n\n        for lf in load_levels:\n            model.setLoadFactor(lf)\n\n            for node, _ in model.findNodesAlongLine((Lx, 0.), (0., 1.)):\n                print(node)\n\n            for _, face in model.findFacesAlongLine((Lx, 0.), (0., 1.)):\n                print(face)\n\n\n            model.solve(verbose=True)\n\n            # model.report()\n\n        model.plot(factor=1., filename=f\"plate11_deformed_lf{lf:.2f}.png\", show_bc=1, show_loads=1, show_reactions=1)\n\n        model.valuePlot('sxx', show_mesh=True)\n        model.valuePlot('sxy', show_mesh=True)\n\n        # create a history plot for the end node\n\n        model.historyPlot('lam', ['ux', 'uy'], nodes=[end_node, end_node])\n        model.historyPlot(('ux', end_node), 'uy', node=end_node)"
      ]
    },
    {
      "cell_type": "markdown",
      "metadata": {},
      "source": [
        "Run the example by creating an instance of the problem and executing it by calling :py:meth:`Example.run()`\n\n\n"
      ]
    },
    {
      "cell_type": "code",
      "execution_count": null,
      "metadata": {
        "collapsed": false
      },
      "outputs": [],
      "source": [
        "if __name__ == \"__main__\":\n    ex = ExamplePlate15()\n    ex.run()"
      ]
    }
  ],
  "metadata": {
    "kernelspec": {
      "display_name": "Python 3",
      "language": "python",
      "name": "python3"
    },
    "language_info": {
      "codemirror_mode": {
        "name": "ipython",
        "version": 3
      },
      "file_extension": ".py",
      "mimetype": "text/x-python",
      "name": "python",
      "nbconvert_exporter": "python",
      "pygments_lexer": "ipython3",
      "version": "3.13.1"
    }
  },
  "nbformat": 4,
  "nbformat_minor": 0
}