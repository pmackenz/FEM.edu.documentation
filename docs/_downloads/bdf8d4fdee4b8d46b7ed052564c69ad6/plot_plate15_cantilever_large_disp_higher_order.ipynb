{
  "cells": [
    {
      "cell_type": "markdown",
      "metadata": {},
      "source": [
        "\n# Bending a cantilever beam using Quad9 elements\n\nUsing PatchMesher to model the beam\n"
      ]
    },
    {
      "cell_type": "code",
      "execution_count": null,
      "metadata": {
        "collapsed": false
      },
      "outputs": [],
      "source": [
        "import numpy as np\n\nfrom femedu.examples import Example\n\nfrom femedu.domain import System\nfrom femedu.solver import NewtonRaphsonSolver\n#from femedu.elements.linear import Quad9\nfrom femedu.elements.finite import Quad9\nfrom femedu.materials import PlaneStress\nfrom femedu.mesher import *\n\n\nclass ExamplePlate15(Example):\n\n    def problem(self):\n        # ========== setting mesh parameters ==============\n\n        Nx = 4  # number of elements in the mesh\n        Ny = 1  # number of elements in the mesh\n        Lx = 120.0  # length of plate in the x-direction\n        Ly = 20.0  # length of plate in the y-direction\n\n        # ========== setting material parameters ==============\n\n        params = dict(\n            E=20000.,  # Young's modulus\n            nu=0.250,  # Poisson's ratio\n            t=1.00  # thickness of the plate\n        )\n\n        # ========== setting load parameters ==============\n\n        px = 0.0  # uniform load normal to x=Lx\n        py = 0.0  # uniform load normal to y=Ly\n        pxy = 1.5  # uniform shear load on x=L\n\n        # ========== setting analysis parameters ==============\n\n        target_load_level = 10.00  # reference load\n        max_steps = 10  # number of load steps: 2 -> [0.0, 1.0]\n\n        # define a list of target load levels\n        load_levels = np.linspace(0, target_load_level, max_steps+1)\n\n        #\n        # ==== Build the system model ====\n        #\n\n        model = System()\n        model.setSolver(NewtonRaphsonSolver())\n\n        # create nodes\n\n        mesher = PatchMesher(model, (0., 0.), (Lx, 0.), (Lx, Ly), (0., Ly))\n        nodes, elements = mesher.quadMesh(Nx, Ny, Quad9, PlaneStress(params))\n\n        # define support(s)\n\n        ## find nodes at x==0\n        for node, _ in model.findNodesAlongLine((0.0, 0.0), (0.0, 1.0)):\n            node.fixDOF('ux', 'uy')\n\n        # ==== complete the reference load ====\n\n        # the section at the right end\n        for _, face in model.findFacesAlongLine((Lx, 0.0), (0.0, 1.0), orientation=+1):\n            face.setLoad(px, -pxy)\n\n        # durface loading on the top face\n        for _, face in model.findFacesAlongLine((0.0, Ly), (1.0, 0.0), orientation=-1):\n            face.setLoad(-py, 0.0)\n\n        # find the node on the beam axis (y==Ly/2) at the end of the beam (x==Lx)\n        end_node, _ = model.findNodesAt((Lx, Ly / 2))[0]\n\n        # set up a recorder\n        model.initRecorder(variables=['ux', 'uy'], nodes=[end_node])\n        model.startRecorder()\n\n        model.plot(factor=0, title=\"undeformed system\", filename=\"plate11_undeformed.png\", show_bc=1, show_loads=1)\n\n        for lf in load_levels:\n            model.setLoadFactor(lf)\n\n            for node, _ in model.findNodesAlongLine((Lx, 0.), (0., 1.)):\n                print(node)\n\n            for _, face in model.findFacesAlongLine((Lx, 0.), (0., 1.)):\n                print(face)\n\n\n            model.solve(verbose=True)\n\n            # model.report()\n\n        model.plot(factor=1., filename=f\"plate11_deformed_lf{lf:.2f}.png\", show_bc=1, show_loads=1, show_reactions=1)\n\n        model.valuePlot('ux', filename=f\"plate11_ux_lf{lf:.2f}.png\")\n        model.valuePlot('uy', show_mesh=True, filename=f\"plate11_uy_lf{lf:.2f}.png\")\n\n        # create a history plot for the end node\n\n        model.historyPlot('lam', ['ux', 'uy'], nodes=[end_node, end_node])\n        model.historyPlot(('ux', end_node), 'uy', node=end_node)"
      ]
    },
    {
      "cell_type": "markdown",
      "metadata": {},
      "source": [
        "Run the example by creating an instance of the problem and executing it by calling :py:meth:`Example.run()`\n\n\n"
      ]
    },
    {
      "cell_type": "code",
      "execution_count": null,
      "metadata": {
        "collapsed": false
      },
      "outputs": [],
      "source": [
        "if __name__ == \"__main__\":\n    ex = ExamplePlate15()\n    ex.run()"
      ]
    }
  ],
  "metadata": {
    "kernelspec": {
      "display_name": "Python 3",
      "language": "python",
      "name": "python3"
    },
    "language_info": {
      "codemirror_mode": {
        "name": "ipython",
        "version": 3
      },
      "file_extension": ".py",
      "mimetype": "text/x-python",
      "name": "python",
      "nbconvert_exporter": "python",
      "pygments_lexer": "ipython3",
      "version": "3.13.1"
    }
  },
  "nbformat": 4,
  "nbformat_minor": 0
}