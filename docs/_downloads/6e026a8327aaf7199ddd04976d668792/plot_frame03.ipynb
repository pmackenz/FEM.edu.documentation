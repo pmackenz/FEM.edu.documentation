{
  "cells": [
    {
      "cell_type": "code",
      "execution_count": null,
      "metadata": {
        "collapsed": false
      },
      "outputs": [],
      "source": [
        "%matplotlib inline"
      ]
    },
    {
      "cell_type": "markdown",
      "metadata": {},
      "source": [
        "\n# Buckling of a building frame\n\nmodeled using a 2D frame element\n\n.. list-table:: setting given parameters\n\n    * - N  = 2\n      - number of elements\n    * - L  = 100.0\n      - column length\n    * - EA = 2000000.0\n      - axial stiffness\n    * - EI = 21000.0\n      - flexural stiffness\n    * - w  = 0.1\n      - applied lateral load\n\nAuthor: Peter Mackenzie-Helnwein\n"
      ]
    },
    {
      "cell_type": "code",
      "execution_count": null,
      "metadata": {
        "collapsed": false
      },
      "outputs": [],
      "source": [
        "import matplotlib.pyplot as plt\nfrom femedu.examples.Example import *\n\nfrom femedu.domain import *\nfrom femedu.solver.NewtonRaphsonSolver import *\nfrom femedu.elements.Frame2D import *\nfrom femedu.materials.ElasticSection import *\n\n\nclass ExampleFrame03(Example):\n\n    def problem(self):\n        # initialize a system model\n\n        N  = 8     # number of elements\n\n        B = 240.\n        H = 200.\n\n        E  = 29000.0\n        A = 20.0\n        I = 10.0\n\n        w = 1.0\n        load_at_nodes_only = False # set to True to apply equivalent nodal forces and moments\n\n        Ph = 0.01      # additional horizontal load per floor\n        Ph = 0.10      # additional horizontal load per floor\n        Ph = 1.00      # additional horizontal load per floor\n        Ph = 0.00      # additional horizontal load per floor\n\n        # ========== setting global parameters ==============\n\n        target_load_level = 27\n        max_steps = 10\n        load_levels = np.linspace(0, target_load_level, max_steps)\n\n        # ========= build your structural model =============\n\n        model = System()\n        model.setSolver(NewtonRaphsonSolver())\n\n        x0 = 0.0\n        x1 = B / 3\n        x2 = 2 * B / 3\n        x3 = B\n\n        y0 = 0.0\n        y1 = H / 4\n        y2 = 2 * H / 4\n        y3 = 3 * H / 4\n        y4 = H\n\n        X10 = Node(x0, y0)\n        X11 = Node(x0, y1)\n\n        X20 = Node(x1, y0)\n        X21 = Node(x1, y1)\n\n        model.addNode(X10,X11)\n        model.addNode(X20,X21)\n\n        # columns\n\n        params = {'E': E, 'A': A, 'I': I}\n\n        C11 = Frame2D(X10, X11, ElasticSection(params))\n        C21 = Frame2D(X20, X21, ElasticSection(params))\n\n        model.addElement(C11,C21)\n\n        # floors\n\n        params = {'E': E, 'A': A, 'I': 8*I}\n\n        F11 = Frame2D(X11, X21, ElasticSection(params))\n\n        model.addElement(F11)\n\n        # fixities\n        X10.fixDOF('ux','uy','rz')   # fixed\n        X20.fixDOF('ux','uy','rz')   # fixed\n\n        # reference load\n        #Pcr = np.pi**2 * EI / L**2\n        model.resetLoad()            # size load vector and initialize\n        #model.addLoad(Xn, -Pcr, dof=0) # add a horizontal force (first dof only) ; remember C-style indexing: 0,1,...,(n-1)\n\n        if load_at_nodes_only:\n\n            # floor loading as nodal loads ...\n            Pe = w * B/3\n            Mi = w * (B/3)**2 /12\n\n            X11.addLoad([-Pe/2., -Mi],['uy','rz'])\n            X21.addLoad([-Pe/2.,  0.],['uy','rz'])\n\n        else:\n            # floor loading as distributed loads ...\n            F11.setDistLoad(-w)\n\n        # wind load ...\n        X11.addLoad([Ph],['ux'])   # horizontal load\n\n\n        # show model information\n        print(model)\n\n        print(\"\\n==== perform the analysis ===\\n\")\n\n        # * apply the load in multiple smaller load steps\n\n        # set up data recorder\n        model.initRecorder()\n        model.trackStability(True)\n\n        # initialize the analysis:\n        model.resetDisplacements()   # set U to all zeros\n        model.setLoadFactor(0.0)     # define a known equilibrium solution\n\n        model.startRecorder()\n\n        detKt   = []\n        lambdas = []\n\n        # solve for all load_levels\n        for loadfactor in load_levels:\n\n            # define node X2 as the controled node; downward direction is prescribed:\n            model.setLoadFactor(loadfactor)\n            model.solve(verbose=True)\n\n            # stability check\n            lambdas.append(model.loadfactor)\n            detKt.append(model.solver.checkStability())\n\n            # report results\n            print('+')\n            #model.report()\n\n            print(\"\\n=== next load level ===\\n\")\n\n        #\n        # ==== create some nice plots ===\n        #\n\n        model.report()\n\n        model.plot(factor=1.0, filename=\"frame3_deformed.png\")\n\n        fig, ax = plt.subplots()\n\n        ax.plot(lambdas,detKt,'--*r')\n        ax.grid(True)\n        ax.set_xlabel('Load factor, $ \\lambda $')\n        ax.set_ylabel(\"Stability index, $ {det}\\: {\\\\bf K}_t $\")\n\n        fig.savefig(\"frame3_stability.png\")\n        fig.show()\n\n        model.beamValuePlot(\"F\", filename=\"frame3_force.png\")\n        model.beamValuePlot(\"V\", filename=\"frame3_shear.png\")\n        model.beamValuePlot(\"M\", filename=\"frame3_moment.png\")\n\n        model.plotBucklingMode(factor=25., filename=\"frame3_buckling_mode0.png\")"
      ]
    },
    {
      "cell_type": "markdown",
      "metadata": {},
      "source": [
        "Run the example by creating an instance of the problem and executing it by calling :py:meth:`Example.run()`\n\n\n"
      ]
    },
    {
      "cell_type": "code",
      "execution_count": null,
      "metadata": {
        "collapsed": false
      },
      "outputs": [],
      "source": [
        "if __name__ == \"__main__\":\n    ex = ExampleFrame03()\n    ex.run()"
      ]
    }
  ],
  "metadata": {
    "kernelspec": {
      "display_name": "Python 3",
      "language": "python",
      "name": "python3"
    },
    "language_info": {
      "codemirror_mode": {
        "name": "ipython",
        "version": 3
      },
      "file_extension": ".py",
      "mimetype": "text/x-python",
      "name": "python",
      "nbconvert_exporter": "python",
      "pygments_lexer": "ipython3",
      "version": "3.10.8"
    }
  },
  "nbformat": 4,
  "nbformat_minor": 0
}