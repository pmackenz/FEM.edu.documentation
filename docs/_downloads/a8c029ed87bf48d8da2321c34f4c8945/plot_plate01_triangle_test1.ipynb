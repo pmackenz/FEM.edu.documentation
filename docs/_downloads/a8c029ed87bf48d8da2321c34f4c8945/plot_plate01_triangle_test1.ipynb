{
  "cells": [
    {
      "cell_type": "markdown",
      "metadata": {},
      "source": [
        "\n# A square patch made of two triangular plate elements\nBasic implementation test with all prescribed displacements.\n    Testing the internal force computation.\n\n.. code::\n\n    v=-5   v=-5\n     |     |\n     v     v\n     3-----2 -> u=5\n     |\\  b | >\n     | \\   | >\n     |  \\  | > (w = 1.0)\n     |   \\ | >\n     | a  \\| >\n     0-----1 -> u=5\n\n    width:  10.\n    height: 10.\n\n    Material parameters: St. Venant-Kirchhoff, plane stress\n        E  = 10.0\n        nu =  0.30\n        t  =  1.0\n\n    Element loads:\n        node 0: [ 0.0, 0.0]\n        node 1: [ 5.0, 0.0]\n        node 2: [ 5.0, 0.0]\n        node 3: [ 0.0, 0.0]\n\n    Green Lagrange strain:\n        eps_XX = 0.5 * ((1.5)^2 - 1)      =  0.625\n        eps_YY = 0.5 * ((0.5)^2 - 1)      = -0.375\n        eps_XY = eps_YX                   =  0.000\n        eps_ZZ = - nu * (eps_XX + eps_YY) = -0.075\n\n    2nd Piola-Kirchhoff stress:\n        D = E t/(1 - nu^2) = 10.989\n        S_XX = (10.989) * ((0.625) + (0.30)(-0.375)) =  5.632\n        S_YY = (10.989) * ((-0.375) + (0.30)(0.625)) = -2.060\n        S_XY = S_YX = S_ZZ                           =  0.000\n\n\nAuthor: Peter Mackenzie-Helnwein\n"
      ]
    },
    {
      "cell_type": "code",
      "execution_count": null,
      "metadata": {
        "collapsed": false
      },
      "outputs": [],
      "source": [
        "from femedu.examples import Example\n\nfrom femedu.domain import System, Node\nfrom femedu.elements.linear import Triangle\nfrom femedu.materials import PlaneStress\n\n\nclass ExamplePlate01(Example):\n\n    # sphinx_gallery_thumbnail_number = 2\n    def problem(self):\n\n        params = dict(\n            E  = 10.,   # Young's modulus\n            nu = 0.3,   # Poisson's ratio\n            t  = 1.0,   # thickness of the plate\n            fy = 1.e30  # yield stress\n        )\n\n        a = 10.     # length of the plate in the x-direction\n        b = 10.     # length of the plate in the y-direction\n\n        model = System()\n\n        nd0 = Node( 0.0, 0.0)\n        nd1 = Node(   a, 0.0)\n        nd2 = Node(   a,   b)\n        nd3 = Node( 0.0,   b)\n\n        model.addNode(nd0, nd1, nd2, nd3)\n\n        elemA = Triangle(nd0, nd1, nd3, PlaneStress(params))\n        elemB = Triangle(nd2, nd3, nd1, PlaneStress(params))\n\n        model.addElement(elemA, elemB)\n\n        elemB.setSurfaceLoad(face=2, pn=1.0)\n\n        model.plot(factor=0, title=\"Undeformed system\", filename=\"plate01_undeformed.png\", show_bc=1)\n\n        model.setLoadFactor(1.0)\n\n        nd0.setDisp( [0.0, 0.0] )\n        nd1.setDisp( [5.0, 0.0] )\n        nd2.setDisp( [5.0,-5.0] )\n        nd3.setDisp( [0.0,-5.0] )\n\n        elemA.updateState()\n        elemB.updateState()\n\n        model.report()\n\n        model.plot(factor=1.0, filename=\"plate01_deformed.png\")"
      ]
    },
    {
      "cell_type": "markdown",
      "metadata": {},
      "source": [
        "Run the example by creating an instance of the problem and executing it by calling :py:meth:`Example.run()`\n\n\n"
      ]
    },
    {
      "cell_type": "code",
      "execution_count": null,
      "metadata": {
        "collapsed": false
      },
      "outputs": [],
      "source": [
        "if __name__ == \"__main__\":\n    ex = ExamplePlate01()\n    ex.run()"
      ]
    }
  ],
  "metadata": {
    "kernelspec": {
      "display_name": "Python 3",
      "language": "python",
      "name": "python3"
    },
    "language_info": {
      "codemirror_mode": {
        "name": "ipython",
        "version": 3
      },
      "file_extension": ".py",
      "mimetype": "text/x-python",
      "name": "python",
      "nbconvert_exporter": "python",
      "pygments_lexer": "ipython3",
      "version": "3.13.2"
    }
  },
  "nbformat": 4,
  "nbformat_minor": 0
}