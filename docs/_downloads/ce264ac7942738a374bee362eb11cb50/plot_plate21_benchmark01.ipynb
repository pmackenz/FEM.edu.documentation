{
  "cells": [
    {
      "cell_type": "markdown",
      "metadata": {},
      "source": [
        "\n# Benchmark problem: Wedged Plate - finite deformations\n\n**Features**\n\n* Using PatchMesher to model the plate\n* nodal boundary conditions using location-based search\n* face loads using location-based search\n* finite deformation Triangle6 and Quad9 elements\n* history plot feature\n"
      ]
    },
    {
      "cell_type": "code",
      "execution_count": null,
      "metadata": {
        "collapsed": false
      },
      "outputs": [],
      "source": [
        "import numpy as np\n\nfrom femedu.examples import Example\n\nfrom femedu.domain import System\nfrom femedu.solver import NewtonRaphsonSolver\nfrom femedu.elements.finite import Quad9, Triangle6\nfrom femedu.materials import PlaneStress\nfrom femedu.mesher import *\n\n\nclass Example21_Benchmark01(Example):\n\n    def problem(self):\n        # ========== setting mesh parameters ==============\n\n        Nx = 8  # number of elements in the mesh\n        Ny = 4  # number of elements in the mesh\n        L1 = 48.0\n        L2 = 44.0\n        L3 = 16.0\n\n        # ========== setting material parameters ==============\n\n        params = dict(\n            E=1000.,  # Young's modulus\n            nu=0.3,  # Poisson's ratio\n            t=1.00  # thickness of the plate\n        )\n\n        # ========== setting load parameters ==============\n\n        px = 0.0  # uniform load normal to x=Lx\n        pxy = 100.0 / L3  # uniform shear load on x=L1\n\n        # ========== setting analysis parameters ==============\n\n        target_load_level = 5.00  # reference load\n        max_steps = 25  # number of load steps: 2 -> [0.0, 1.0]\n\n        # define a list of target load levels\n        load_levels = np.linspace(0, target_load_level, max_steps+1)\n\n        #\n        # ==== Build the system model ====\n        #\n\n        model = System()\n        model.setSolver(NewtonRaphsonSolver())\n\n        # create nodes\n\n        mesher = PatchMesher(model, (0., 0.), (L1, L2), (L1, L2 + L3), (0., L2))\n        nodes, elements = mesher.quadMesh(Nx, Ny, Quad9, PlaneStress(params))\n\n        mesher.shift(1.25 * L1, 0.0)\n        nodes2, elements2 = mesher.triangleMesh(Nx, Ny, Triangle6, PlaneStress(params))\n\n        nodes += nodes2\n        elements += elements2\n\n        # ==== Apply boundary conditions ====\n\n        #\n        # the left model\n        #\n\n        ## fix left side\n        for node, _ in model.findNodesAlongLine((0.0, 0.0), (0.0, 1.0)):\n            node.fixDOF('ux', 'uy')\n\n        ## define loads ...\n        for _, face in model.findFacesAlongLine((L1, 0.0), (0.0, 1.0), orientation=+1):\n            face.setLoad(px, pxy)\n\n        ## locate the node at the centerline\n        nodeA, dist = model.findNodesAt((L1, L2 + L3))[0]\n\n        #\n        # the right model\n        #\n\n        ## fix left side\n        for node, _ in model.findNodesAlongLine((1.25 * L1, 0.0), (0.0, 1.0)):\n            node.fixDOF('ux', 'uy')\n\n        ## define loads ...\n        for _, face in model.findFacesAlongLine((2.25 * L1, 0.0), (0.0, 1.0), orientation=+1):\n            face.setLoad(px, pxy)\n\n        ## locate the node at the centerline\n        nodeB, dist = model.findNodesAt((2.25 * L1, L2 + L3))[0]\n\n        # model.report()\n\n        # set up a recorder\n        model.initRecorder(variables=['ux', 'uy'], nodes=[nodeA, nodeB])\n        model.startRecorder()\n\n        model.plot(factor=0, title=\"undeformed system\", filename=\"benchmark01_undeformed.png\", show_bc=1, show_loads=1)\n\n        for lf in load_levels:\n            model.setLoadFactor(lf)\n            model.solve(verbose=True)\n\n            # model.report()\n\n        model.plot(factor=1., filename=f\"benchmark01_deformed_lf{lf:.2f}.png\", show_bc=1, show_loads=1,\n                   show_reactions=1)\n\n        model.valuePlot('ux', filename=f\"benchmark01_ux_lf{lf:.2f}.png\")\n        model.valuePlot('uy', show_mesh=True, filename=f\"benchmark01_uy_lf{lf:.2f}.png\")\n\n        # create a history plot for the end node\n\n        # model.historyPlot('lam', ['ux','uy'], nodes=[nodeA,nodeA])\n        # model.historyPlot('lam', ['ux','uy'], nodes=[nodeB,nodeB])\n        model.historyPlot('lam', ['ux', 'uy', 'ux', 'uy'], nodes=[nodeA, nodeA, nodeB, nodeB])"
      ]
    },
    {
      "cell_type": "markdown",
      "metadata": {},
      "source": [
        "Run the example by creating an instance of the problem and executing it by calling :py:meth:`Example.run()`\n\n\n"
      ]
    },
    {
      "cell_type": "code",
      "execution_count": null,
      "metadata": {
        "collapsed": false
      },
      "outputs": [],
      "source": [
        "if __name__ == \"__main__\":\n    ex = Example21_Benchmark01()\n    ex.run()"
      ]
    }
  ],
  "metadata": {
    "kernelspec": {
      "display_name": "Python 3",
      "language": "python",
      "name": "python3"
    },
    "language_info": {
      "codemirror_mode": {
        "name": "ipython",
        "version": 3
      },
      "file_extension": ".py",
      "mimetype": "text/x-python",
      "name": "python",
      "nbconvert_exporter": "python",
      "pygments_lexer": "ipython3",
      "version": "3.13.1"
    }
  },
  "nbformat": 4,
  "nbformat_minor": 0
}