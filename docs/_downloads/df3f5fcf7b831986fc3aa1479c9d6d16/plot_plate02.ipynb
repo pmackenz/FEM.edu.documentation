{
  "cells": [
    {
      "cell_type": "code",
      "execution_count": null,
      "metadata": {
        "collapsed": false
      },
      "outputs": [],
      "source": [
        "%matplotlib inline"
      ]
    },
    {
      "cell_type": "markdown",
      "metadata": {},
      "source": [
        "\n# A square patch made of two triangular plate elements\n\nBasic implementation test with applied loads.\n    Testing the tangent stiffness computation.\n\n.. code::\n\n    free   free\n     ^     ^\n     |     |\n     3-----2 -> free\n     |\\  b | >\n     | \\   | >\n     |  \\  | > (w = 1.0)\n     |   \\ | >\n     | a  \\| >\n     0-----1 -> free\n\n    width:  10.\n    height: 10.\n\n    Material parameters: St. Venant-Kirchhoff, plane stress\n        E  = 10.0\n        nu =  0.30\n        t  =  1.0\n\n    Element loads:\n        node 0: [ 0.0, 0.0]\n        node 1: [ 5.0, 0.0]\n        node 2: [ 5.0, 0.0]\n        node 3: [ 0.0, 0.0]\n\n    2nd Piola-Kirchhoff stress:\n        S_XX =  w                  =  1.000\n        S_YY = S_XY = S_YX = S_ZZ  =  0.000\n\n    Green Lagrange strain:\n        eps_XX = (1/E) ((1.000) - (0.30)(0.000)) =  0.100\n        eps_YY = (1/E) ((0.000) - (0.30)(1.000)) = -0.030\n        eps_XY = eps_YX                          =  0.000\n        eps_ZZ = -nu * (eps_XX + eps_YY)         = -0.021\n\n    Stretches:\n        lam_X = sqrt(1 + 2 eps_XX) = 1.095\n        lam_Y = sqrt(1 + 2 eps_YY) = 0.9695\n\n    Displacements:\n        ux = (lam_X - 1) * x, uy = (lam_Y - 1) * y\n        node 0: [ 0.000,  0.000 ]\n        node 1: [ 0.954,  0.000 ]\n        node 2: [ 0.954, -0.305 ]\n        node 3: [ 0.000, -0.305 ]\n\nAuthor: Peter Mackenzie-Helnwein\n"
      ]
    },
    {
      "cell_type": "code",
      "execution_count": null,
      "metadata": {
        "collapsed": false
      },
      "outputs": [],
      "source": [
        "from femedu.examples.Example import *\n\nfrom femedu.domain.System import *\nfrom femedu.solver.NewtonRaphsonSolver import *\nfrom femedu.elements.LinearTriangle import *\nfrom femedu.materials.PlaneStress import *\n\n\nclass ExamplePlate02(Example):\n\n    def problem(self):\n\n        params = dict(\n            E  = 10.,   # Young's modulus\n            nu = 0.3,   # Poisson's ratio\n            t  = 1.0,   # thickness of the plate\n            fy = 1.e30  # yield stress\n        )\n\n        a = 10.     # length of the plate in the x-direction\n        b = 10.     # length of the plate in the y-direction\n\n        model = System()\n        model.setSolver(NewtonRaphsonSolver())\n\n        nd0 = Node( 0.0, 0.0)\n        nd1 = Node(   a, 0.0)\n        nd2 = Node(   a,   b)\n        nd3 = Node( 0.0,   b)\n\n        nd0.fixDOF('ux', 'uy')\n        nd1.fixDOF('uy')\n        nd3.fixDOF('ux')\n\n        model.addNode(nd0, nd1, nd2, nd3)\n\n        elemA = LinearTriangle(nd0, nd1, nd3, PlaneStress(params))\n        elemB = LinearTriangle(nd2, nd3, nd1, PlaneStress(params))\n\n        model.addElement(elemA, elemB)\n\n        elemB.setSurfaceLoad(face=2, w=1.0)\n\n        model.setLoadFactor(0.0)\n        model.solve()\n        #model.report()  # activate this line for lots of debug info\n        model.plot(factor=0.0, title=\"Undeformed system\", filename=\"plate02_undeformed.png\", show_bc=1)\n\n        model.setLoadFactor(1.0)\n        model.solve()\n        model.plot(factor=1.0, filename=\"plate02_deformed.png\")\n\n        model.report()"
      ]
    },
    {
      "cell_type": "markdown",
      "metadata": {},
      "source": [
        "Run the example by creating an instance of the problem and executing it by calling :py:meth:`Example.run()`\n\n\n"
      ]
    },
    {
      "cell_type": "code",
      "execution_count": null,
      "metadata": {
        "collapsed": false
      },
      "outputs": [],
      "source": [
        "if __name__ == \"__main__\":\n    ex = ExamplePlate02()\n    ex.run()"
      ]
    }
  ],
  "metadata": {
    "kernelspec": {
      "display_name": "Python 3",
      "language": "python",
      "name": "python3"
    },
    "language_info": {
      "codemirror_mode": {
        "name": "ipython",
        "version": 3
      },
      "file_extension": ".py",
      "mimetype": "text/x-python",
      "name": "python",
      "nbconvert_exporter": "python",
      "pygments_lexer": "ipython3",
      "version": "3.10.8"
    }
  },
  "nbformat": 4,
  "nbformat_minor": 0
}