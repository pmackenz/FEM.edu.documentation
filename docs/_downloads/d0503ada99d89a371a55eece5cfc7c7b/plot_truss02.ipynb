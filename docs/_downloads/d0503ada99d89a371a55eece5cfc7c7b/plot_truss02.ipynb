{
  "cells": [
    {
      "cell_type": "markdown",
      "metadata": {},
      "source": [
        "\n# Statically determinate truss bridge.\n\nThe system is statically determined and allows for relatively easy validation of\ncalculated deformation, reactions and internal forces.\n\nAuthor: Peter Mackenzie-Helnwein\n"
      ]
    },
    {
      "cell_type": "code",
      "execution_count": null,
      "metadata": {
        "collapsed": false
      },
      "outputs": [],
      "source": [
        "from femedu.examples import Example\n\nfrom femedu.domain import System, Node\nfrom femedu.solver import NewtonRaphsonSolver\nfrom femedu.elements.linear import Truss\nfrom femedu.materials import FiberMaterial\n\n\nclass ExampleTruss02(Example):\n\n    def problem(self):\n        # initialize a system model\n        P = -10.0      # reference load on top nodes\n        B = 6.0 * 12   # with of one bay in inches\n        H = 8.0 * 12   # height of one bay in inches\n\n        # material model parameters\n        params = {'E': 10000., 'A': 3., 'nu': 0.0, 'fy': 1.e30}\n\n        model = System()\n        model.setSolver(NewtonRaphsonSolver())\n\n        # create nodes\n        nd0 = Node(0.0, 0.0)\n        nd1 = Node(  B, 0.0)\n        nd2 = Node(2*B, 0.0)\n        nd3 = Node(3*B, 0.0)\n        nd4 = Node(4*B, 0.0)\n        nd5 = Node(0.5*B, H)\n        nd6 = Node(1.5*B, H)\n        nd7 = Node(2.5*B, H)\n        nd8 = Node(3.5*B, H)\n\n        model.addNode(nd0, nd1, nd2, nd3, nd4, nd5, nd6, nd7, nd8)\n\n        # create elements\n        model.addElement(Truss(nd0, nd1, FiberMaterial(params)))  # bottom 1\n        model.addElement(Truss(nd1, nd2, FiberMaterial(params)))  # bottom 2\n        model.addElement(Truss(nd2, nd3, FiberMaterial(params)))  # bottom 3\n        model.addElement(Truss(nd3, nd4, FiberMaterial(params)))  # bottom 4\n\n        model.addElement(Truss(nd5, nd6, FiberMaterial(params)))  # upper 1\n        model.addElement(Truss(nd6, nd7, FiberMaterial(params)))  # upper 2\n        model.addElement(Truss(nd7, nd8, FiberMaterial(params)))  # upper 3\n\n        model.addElement(Truss(nd0, nd5, FiberMaterial(params)))  # up right diag 1\n        model.addElement(Truss(nd1, nd6, FiberMaterial(params)))  # up right diag 2\n        model.addElement(Truss(nd2, nd7, FiberMaterial(params)))  # up right diag 3\n        model.addElement(Truss(nd3, nd8, FiberMaterial(params)))  # up right diag 4\n\n        model.addElement(Truss(nd1, nd5, FiberMaterial(params)))  # up left diag 1\n        model.addElement(Truss(nd2, nd6, FiberMaterial(params)))  # up left diag 2\n        model.addElement(Truss(nd3, nd7, FiberMaterial(params)))  # up left diag 3\n        model.addElement(Truss(nd4, nd8, FiberMaterial(params)))  # up left diag 4\n\n        # define support(s)\n        nd0.fixDOF('ux', 'uy')    # horizontal support left end\n        nd4.fixDOF('uy')            # vertical support right end\n\n        # add loads\n        # .. load only the upper nodes\n        nd5.setLoad((P,), ('uy',))\n        nd6.setLoad((P,), ('uy',))\n        nd7.setLoad((P,), ('uy',))\n        nd8.setLoad((P,), ('uy',))\n\n        model.setLoadFactor(0.0)\n        model.plot(factor=1., filename=\"truss02_undeformed.png\", title=\"Undeformed System\", show_bc=1)\n\n        # analyze the model\n        model.setLoadFactor(1.0)\n        model.solve()\n\n        # write out report\n        model.report()\n\n        # create plots\n        model.plot(factor=50.,  filename=\"truss02_deformed.png\", show_loads=1, show_reactions=1)\n        model.beamValuePlot('f',filename=\"truss02_forces.png\")"
      ]
    },
    {
      "cell_type": "markdown",
      "metadata": {},
      "source": [
        "Run the example by creating an instance of the problem and executing it by calling :py:meth:`Example.run()`\n\n\n"
      ]
    },
    {
      "cell_type": "code",
      "execution_count": null,
      "metadata": {
        "collapsed": false
      },
      "outputs": [],
      "source": [
        "if __name__ == \"__main__\":\n    ex = ExampleTruss02()\n    ex.run()"
      ]
    }
  ],
  "metadata": {
    "kernelspec": {
      "display_name": "Python 3",
      "language": "python",
      "name": "python3"
    },
    "language_info": {
      "codemirror_mode": {
        "name": "ipython",
        "version": 3
      },
      "file_extension": ".py",
      "mimetype": "text/x-python",
      "name": "python",
      "nbconvert_exporter": "python",
      "pygments_lexer": "ipython3",
      "version": "3.11.6"
    }
  },
  "nbformat": 4,
  "nbformat_minor": 0
}