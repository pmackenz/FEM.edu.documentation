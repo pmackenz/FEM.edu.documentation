{
  "cells": [
    {
      "cell_type": "code",
      "execution_count": null,
      "metadata": {
        "collapsed": false
      },
      "outputs": [],
      "source": [
        "%matplotlib inline"
      ]
    },
    {
      "cell_type": "markdown",
      "metadata": {},
      "source": [
        "\n# 3d truss example demonstrating large deformation analysis.\n\nThe system is statically determined and allows for easy validation of\ncalculated deformation, reactions and internal forces.\n\nAuthor: Tatsu Sweet\n"
      ]
    },
    {
      "cell_type": "markdown",
      "metadata": {},
      "source": [
        "Setup\n\n"
      ]
    },
    {
      "cell_type": "code",
      "execution_count": null,
      "metadata": {
        "collapsed": false
      },
      "outputs": [],
      "source": [
        "from femedu.examples.Example import *\n\nfrom femedu.domain.System import *\nfrom femedu.domain.Node import *\nfrom femedu.elements.linear.Truss import *\nfrom femedu.materials.FiberMaterial import *\n\n\nclass ExampleTruss04(Example):\n\n    def problem(self):\n\n        # initialize a system model\n        params = {'E': 2100., 'A': 1., 'nu': 0.0, 'fy': 1.e30}\n\n        model = System()\n\n        # create nodes\n        H = 5\n        nd1 = Node(0.0, 5.0, 0.0)\n        nd2 = Node(9.5, 5.0, 0.0)\n        nd3 = Node(0.0, 0.0, 0.0)\n        nd4 = Node(9.5, 0.0, 0.0)\n        nd5 = Node(5.5, 3.75, H)\n        nd6 = Node(5.5, 1.25, H)\n\n        nodeList = [nd1, nd2, nd3, nd4, nd5, nd6]\n        model.addNode(*nodeList)\n\n\n        # create elements\n        model.addElement(Truss(nd1, nd5, FiberMaterial(params)))  # bottom 1\n        model.addElement(Truss(nd1, nd6, FiberMaterial(params)))  # up right diag 1\n        model.addElement(Truss(nd2, nd5, FiberMaterial(params)))  # up left diag 1\n        model.addElement(Truss(nd3, nd6, FiberMaterial(params)))  # bottom 1\n        model.addElement(Truss(nd4, nd5, FiberMaterial(params)))  # up right diag 1\n        model.addElement(Truss(nd4, nd6, FiberMaterial(params)))  # up left diag 1\n        model.addElement(Truss(nd5, nd6, FiberMaterial(params)))  # bottom 1\n\n\n        # define support(s)\n        translation_dofs = ('ux', 'uy', 'uz')\n        for node in [nd1, nd2, nd3, nd4]:\n            node.fixDOF(*translation_dofs)\n\n        # add loads\n        nd5.setLoad((-100.0,), ('uz',))\n\n        # analyze the model\n        model.solve()\n\n        # write out report\n        model.report()\n\n        # create plots\n        model.plot(factor=1.)"
      ]
    },
    {
      "cell_type": "markdown",
      "metadata": {},
      "source": [
        "Run the example by creating an instance of the problem and executing it by calling :py:meth:`Example.run()`\n\n\n"
      ]
    },
    {
      "cell_type": "code",
      "execution_count": null,
      "metadata": {
        "collapsed": false
      },
      "outputs": [],
      "source": [
        "if __name__ == \"__main__\":\n    ex = ExampleTruss04()\n    ex.run()"
      ]
    }
  ],
  "metadata": {
    "kernelspec": {
      "display_name": "Python 3",
      "language": "python",
      "name": "python3"
    },
    "language_info": {
      "codemirror_mode": {
        "name": "ipython",
        "version": 3
      },
      "file_extension": ".py",
      "mimetype": "text/x-python",
      "name": "python",
      "nbconvert_exporter": "python",
      "pygments_lexer": "ipython3",
      "version": "3.10.8"
    }
  },
  "nbformat": 4,
  "nbformat_minor": 0
}