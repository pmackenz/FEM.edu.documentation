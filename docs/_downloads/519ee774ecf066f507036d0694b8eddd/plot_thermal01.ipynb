{
  "cells": [
    {
      "cell_type": "code",
      "execution_count": null,
      "metadata": {
        "collapsed": false
      },
      "outputs": [],
      "source": [
        "%matplotlib inline"
      ]
    },
    {
      "cell_type": "markdown",
      "metadata": {},
      "source": [
        "\n# Heat transfer at the corner of a building\n\nUsing\n\n* :py:class:`mesher.PatchMesher` (see `PatchMesher class`)\n* :py:class:`diffusion.Triangle` (see `Triangle class`)\n* :py:class:`materials.Thermal` (see `Diffusion Material classes`)\n"
      ]
    },
    {
      "cell_type": "code",
      "execution_count": null,
      "metadata": {
        "collapsed": false
      },
      "outputs": [],
      "source": [
        "import math\nimport sys\nimport numpy as np\n\nfrom femedu.examples.Example import *\n\nfrom femedu.domain import *\nfrom femedu.mesher import PatchMesher\nfrom femedu.elements.diffusion.Triangle import *\nfrom femedu.materials.Thermal import *\n\n\nclass ExampleThermal01(Example):\n\n    def problem(self):\n        # ========== setting mesh parameters ==============\n\n        Nx = 10       # number of elements through the wall\n        Ny = 8        # number of elements parallel to the wall\n        Nx = 1       # number of elements through the wall\n        Ny = 1        # number of elements parallel to the wall\n        L  = 0.30     # wall thickness in m\n        alpha = 0.5   # refinement parameter for placing nodes 8-11\n\n        # ========== setting material parameters ==============\n\n        params = dict(\n            E  = 20000.,    # Young's modulus\n            nu = 0.250,     # Poisson's ratio\n            t  = 1.00       # thickness of the plate\n        )\n\n        # ========== setting load parameters ==============\n\n        qn  = 10.0         # uniform flux normal to x=const\n\n        # ========== setting analysis parameters ==============\n\n        target_load_level = 1.00     # reference load\n        max_steps = 2                # number of load steps: 2 -> [0.0, 1.0]\n\n        # define a list of target load levels\n        load_levels = np.linspace(0, target_load_level, max_steps)\n\n        #\n        # ==== Build the system model ====\n        #\n\n        model = System()\n\n        # create nodes\n\n        #  5 -------- 6 -------- 7\n        #  |          |          |\n        #  |         11          |\n        #  |          |          |\n        #  2----9---- 3 ---10--- 4\n        #             |          |\n        #             8          |\n        #             |          |\n        #             0 -------- 1\n\n        pts = (\n            ( 0, -L),   # 0\n            ( L, -L),   # 1\n            (-L,  0),   # 2\n            ( 0,  0),   # 3\n            ( L,  0),   # 4\n            (-L,  L),   # 5\n            ( 0,  L),   # 6\n            ( L,  L),   # 7\n            ( 0, -alpha*L),   # 8\n            ( -alpha*L, 0),   # 9\n            (  alpha*L, 0),   # 10\n            ( 0,  alpha*L),   # 11\n        )\n\n        mesher1 = PatchMesher(model, pts[2], pts[3], pts[6], pts[5], pts[10], None, None, pts[11])\n        nodes1, elements1 = mesher1.triangleMesh(Ny, Nx, Triangle, Thermal(params))\n\n        mesher2 = PatchMesher(model, pts[3], pts[4], pts[7], pts[6], None, None, None, pts[9])                                               # center node\n        nodes2, elements2 = mesher2.triangleMesh(Nx, Nx, Triangle, Thermal(params))\n\n        mesher3 = PatchMesher(model, pts[0], pts[1], pts[4], pts[3], None, None, None, pts[8])\n        nodes3, elements3 = mesher3.triangleMesh(Nx, Ny, Triangle, Thermal(params))\n\n        mesher1.tie(mesher2)\n        mesher2.tie(mesher3)\n\n        nodes    = nodes1    + nodes2    + nodes3\n        elements = elements1 + elements2 + elements3\n\n        model.plot(factor=0.0,\n                   title='Meshing the corner ina wall',\n                   show_reactions=0, show_bc=0, show_loads=0)\n\n        model.report()\n\n        # define support(s)\n\n        ## find nodes at y==0 and x==0\n\n        for node in nodes:\n            X = node.getPos()\n            if math.isclose(X[0], 0.0) and X[1] <= 0.0:\n                node.fixDOF('T')    # horizontal support left side\n            if math.isclose(X[1], 0.0) and X[0] <= 0.0:\n                node.fixDOF('T')    # vertical support at y==0\n\n        # ==== complete the reference load ====\n\n        Xo = np.array([L, 0.0])\n        No = np.array([1.0, 0.0])\n\n        for node in nodes:\n            X = node.getPos()\n            if math.isclose(X[0],L):\n                print(node)\n                for elem in node.elements:\n                    print('+', elem)\n                    for face in elem.faces:\n                        for x, area in zip(face.pos, face.area):\n                            if np.abs( (x - Xo) @ No ) < 1.0e-2 and  No @ area / np.linalg.norm(area):\n                                face.setLoad(qn, 0.0)\n\n        model.report()\n\n        model.plot(factor=0, title=\"undeformed system\", filename=\"thermal01_undeformed.png\", show_bc=1, show_loads=1)\n\n        model.setLoadFactor(10.0)\n        model.solve()\n\n        model.report()\n\n        model.plot(factor=10., filename=\"thermal01_deformed.png\", show_bc=1, show_loads=1, show_reactions=1)"
      ]
    },
    {
      "cell_type": "markdown",
      "metadata": {},
      "source": [
        "Run the example by creating an instance of the problem and executing it by calling :py:meth:`Example.run()`\n\n\n"
      ]
    },
    {
      "cell_type": "code",
      "execution_count": null,
      "metadata": {
        "collapsed": false
      },
      "outputs": [],
      "source": [
        "if __name__ == \"__main__\":\n    ex = ExampleThermal01()\n    ex.run()"
      ]
    }
  ],
  "metadata": {
    "kernelspec": {
      "display_name": "Python 3",
      "language": "python",
      "name": "python3"
    },
    "language_info": {
      "codemirror_mode": {
        "name": "ipython",
        "version": 3
      },
      "file_extension": ".py",
      "mimetype": "text/x-python",
      "name": "python",
      "nbconvert_exporter": "python",
      "pygments_lexer": "ipython3",
      "version": "3.10.8"
    }
  },
  "nbformat": 4,
  "nbformat_minor": 0
}