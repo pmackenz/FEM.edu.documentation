{
  "cells": [
    {
      "cell_type": "markdown",
      "metadata": {},
      "source": [
        "\n# Heat transfer at the corner of a building\n\nUsing\n\n* :py:class:`mesher.PatchMesher` (see `patch_mesher_class`)\n* :py:class:`diffusion.Triangle` (see `diffusion_triangle_class`)\n* :py:class:`materials.Thermal`  (see `diffusion_material_classes`)\n"
      ]
    },
    {
      "cell_type": "code",
      "execution_count": null,
      "metadata": {
        "collapsed": false
      },
      "outputs": [],
      "source": [
        "import math\nimport sys\nimport numpy as np\n\nfrom femedu.examples.Example import *\n\nfrom femedu.domain import *\nfrom femedu.mesher import PatchMesher\nfrom femedu.elements.diffusion import Triangle\nfrom femedu.materials.Thermal import *\n\n\nclass ExampleThermal01(Example):\n\n    def problem(self):\n        # ========== setting mesh parameters ==============\n\n        Nx = 5  # number of elements through the wall\n        Ny = 1  # number of elements parallel to the wall\n        Lx = 10.00  # wall thickness in m\n        Ly =  1.00  # wall thickness in m\n\n        # ========== setting material parameters ==============\n\n        params = dict(\n            E=20000.,  # Young's modulus\n            nu=0.250,  # Poisson's ratio\n            t=1.00     # thickness of the plate\n        )\n\n        # ========== setting load parameters ==============\n\n        qn = 1.00  # uniform flux normal to x=const\n\n        # ========== setting analysis parameters ==============\n\n        target_load_level = 1.00  # reference load\n        max_steps = 2  # number of load steps: 2 -> [0.0, 1.0]\n\n        # define a list of target load levels\n        load_levels = np.linspace(0, target_load_level, max_steps)\n\n        #\n        # ==== Build the system model ====\n        #\n\n        model = System()\n\n        # create nodes\n\n        #  2 -------- 3\n        #  |          |\n        #  |          |\n        #  |          |          |\n        #  0 -------- 1\n\n        pts = (\n            ( 0,  0),  # 0\n            (Lx,  0),  # 1\n            ( 0, Ly),  # 2\n            (Lx, Ly),  # 3\n        )\n\n        mesher = PatchMesher(model, pts[0], pts[1], pts[3], pts[2])\n        nodes, elements = mesher.triangleMesh(Nx, Ny, Triangle, Thermal(params))\n\n        model.plot(factor=0.0,\n                   title='Uni-directional diffusion',\n                   show_reactions=0, show_bc=0, show_loads=0)\n\n        model.report()\n\n        # boundary condition(s)\n\n        ## find nodes at y==0 and x==0\n\n        for node in nodes:\n            X = node.getPos()\n            if math.isclose(X[0], 0.0):\n                node.fixDOF('T')    # prescribed temperature at x=0.0\n            # if math.isclose(X[0], Lx):\n            #     node.fixDOF('T')  # prescribed temperature at x=Lx\n\n        # ==== complete the reference load ====\n\n        Xo = np.array([Lx, 0.0])\n        No = np.array([1.0, 0.0])\n\n        for node in nodes:\n            X = node.getPos()\n            if math.isclose(X[0], Lx):\n                print(node)\n                for elem in node.elements:\n                    print('+', elem)\n                    for face in elem.faces:\n                        for x, area in zip(face.pos, face.area):\n                            if np.abs((x - Xo) @ No) < 1.0e-2 and No @ area / np.linalg.norm(area) > 1.0e-2:\n                                face.setFlux(qn)\n\n        # perform the analysis\n        model.setLoadFactor(1.0)\n        model.solve()\n\n        model.report()\n\n        model.valuePlot('T', show_mesh=True)"
      ]
    },
    {
      "cell_type": "markdown",
      "metadata": {},
      "source": [
        "Run the example by creating an instance of the problem and executing it by calling :py:meth:`Example.run()`\n\n\n"
      ]
    },
    {
      "cell_type": "code",
      "execution_count": null,
      "metadata": {
        "collapsed": false
      },
      "outputs": [],
      "source": [
        "if __name__ == \"__main__\":\n    ex = ExampleThermal01()\n    ex.run()"
      ]
    }
  ],
  "metadata": {
    "kernelspec": {
      "display_name": "Python 3",
      "language": "python",
      "name": "python3"
    },
    "language_info": {
      "codemirror_mode": {
        "name": "ipython",
        "version": 3
      },
      "file_extension": ".py",
      "mimetype": "text/x-python",
      "name": "python",
      "nbconvert_exporter": "python",
      "pygments_lexer": "ipython3",
      "version": "3.11.6"
    }
  },
  "nbformat": 4,
  "nbformat_minor": 0
}