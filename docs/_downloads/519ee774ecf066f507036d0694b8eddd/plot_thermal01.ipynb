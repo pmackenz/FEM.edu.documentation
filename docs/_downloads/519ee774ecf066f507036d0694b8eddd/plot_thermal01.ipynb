{
  "cells": [
    {
      "cell_type": "markdown",
      "metadata": {},
      "source": [
        "\n# Heat transfer through a wall\n\nThis problem demonstrates a combination of prescribed temperature\non the left and prescribed flux on the right side.\n\nUsing\n\n* :py:class:`mesher.PatchMesher` (see `patch_mesher_class`)\n* :py:class:`diffusion.Triangle` (see `diffusion_triangle_class`)\n* :py:class:`materials.Thermal`  (see `diffusion_material_classes`)\n\n## Theory\nWe shall consider a stationary heat transfer problem within a wall.\nThe inner surface of the wall, $x=0~m$, is heated to $200~K$,\nthe outer surface of the wall, $x=10~m$, to $300~K$.\n\nThe thermal equation for the uni-directional problem can be expressed as\n\n\\begin{align}\\Delta T = \\frac{\\partial^2 T}{\\partial x^2}  = 0\\end{align}\n\nwhere $\\Delta$ is the Laplace operator.\n\nThe analytic solution follows as\n\n\\begin{align}T(x) =  T_i  + \\nabla T \\: x\\end{align}\n\nwith\n\n\\begin{align}\\nabla T = -\\frac{1}{\\lambda} q_x = -\\frac{1}{\\lambda} (-q_n)\\end{align}\n\nThis solution will be compared against the finite element solution in the last figure.\n"
      ]
    },
    {
      "cell_type": "code",
      "execution_count": null,
      "metadata": {
        "collapsed": false
      },
      "outputs": [],
      "source": [
        "import matplotlib.pyplot as plt\n\nimport math\nimport sys\nimport numpy as np\n\nfrom femedu.examples.Example import *\n\nfrom femedu.domain import *\nfrom femedu.mesher import PatchMesher\nfrom femedu.elements.diffusion import Triangle\nfrom femedu.materials import Thermal\n\n\nclass ExampleThermal01(Example):\n\n    def problem(self):\n        # ========== setting mesh parameters ==============\n\n        Nx = 5  # number of elements through the wall\n        Ny = 1  # number of elements parallel to the wall\n\n        Lx = 10.00  # m ... wall thickness in m\n        Ly =  1.00  # m ... wall thickness in m\n        h  =  0.10  # m ... thickness of the 2d model\n\n        # ========== setting material parameters ==============\n\n        params = dict(\n            specific_heat =  900,  # J/kg.K\n            density       = 2700,  # kg/m3\n            conductivity  =  235,  # W/m.K\n            thickness     =    h   # m\n        )\n\n        # ========== setting load parameters ==============\n\n        qn = 1000.00  # W/m^2 ... uniform in-flux normal to x=Lx=const\n\n        # ========== setting analysis parameters ==============\n\n        target_load_level = 1.00  # reference load\n        max_steps = 2  # number of load steps: 2 -> [0.0, 1.0]\n\n        # define a list of target load levels\n        load_levels = np.linspace(0, target_load_level, max_steps)\n\n        #\n        # ==== Build the system model ====\n        #\n\n        model = System()\n\n        # create nodes\n\n        #  2 -------- 3\n        #  |          |\n        #  |          |\n        #  |          |          |\n        #  0 -------- 1\n\n        pts = (\n            ( 0,  0),  # 0\n            (Lx,  0),  # 1\n            ( 0, Ly),  # 2\n            (Lx, Ly),  # 3\n        )\n\n        mesher = PatchMesher(model, pts[0], pts[1], pts[3], pts[2])\n        nodes, elements = mesher.triangleMesh(Nx, Ny, Triangle, Thermal(params))\n\n        model.plot(factor=0.0,\n                   title='Uni-directional diffusion',\n                   show_reactions=0, show_bc=0, show_loads=0)\n\n        model.report()\n\n        # boundary condition(s)\n\n        ## find nodes at x==0\n        left_boundary_nodes = model.findNodesAlongLine((0.0,0.0), (0.0,1.0))\n        for node, dist in left_boundary_nodes:\n            node.fixDOF('T')    # prescribed temperature at x=0.0\n\n        ## complete the reference load at x=Lx (right edge)\n        right_boundary_faces = model.findFacesAlongLine((Lx, 0.0), (0.0, 1.0), orientation=+1)\n        for _, face in right_boundary_faces:\n            face.setFlux(qn*h)  # flux is per length\n\n        # perform the analysis\n        model.setLoadFactor(1.0)\n        model.solve()\n\n        model.report()\n\n        model.valuePlot('T', show_mesh=True)\n        model.valuePlot('qx', show_mesh=True)\n\n        # creating a path plot\n\n        R_list = []\n        T_list = []\n\n        for node in nodes:\n            X = node.getPos()\n            T = node.getDisp('T')\n            R_list.append(X[0])\n            T_list.append(T)\n\n        # the analytic solution for comparison\n        x = np.linspace(0, Lx, 21)\n        delT = -(-qn) / params['conductivity']\n        T = 0.0 * (1 - x/Lx) + delT * x\n\n        fig, axs = plt.subplots()\n        axs.plot(x,T,'-b',label=\"analytic solution\")\n        axs.plot(R_list,T_list,'ro',label=\"FEM\")\n        axs.set_title('Nodal Temperature for ALL Nodes')\n        axs.set_xlabel(\"X distance\")\n        axs.set_ylabel('T')\n        axs.legend()\n        axs.grid(True)\n        plt.show()"
      ]
    },
    {
      "cell_type": "markdown",
      "metadata": {},
      "source": [
        "Run the example by creating an instance of the problem and executing it by calling :py:meth:`Example.run()`\n\n\n"
      ]
    },
    {
      "cell_type": "code",
      "execution_count": null,
      "metadata": {
        "collapsed": false
      },
      "outputs": [],
      "source": [
        "if __name__ == \"__main__\":\n    ex = ExampleThermal01()\n    ex.run()"
      ]
    }
  ],
  "metadata": {
    "kernelspec": {
      "display_name": "Python 3",
      "language": "python",
      "name": "python3"
    },
    "language_info": {
      "codemirror_mode": {
        "name": "ipython",
        "version": 3
      },
      "file_extension": ".py",
      "mimetype": "text/x-python",
      "name": "python",
      "nbconvert_exporter": "python",
      "pygments_lexer": "ipython3",
      "version": "3.13.2"
    }
  },
  "nbformat": 4,
  "nbformat_minor": 0
}