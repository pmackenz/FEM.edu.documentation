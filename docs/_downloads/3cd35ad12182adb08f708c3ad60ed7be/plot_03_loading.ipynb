{
  "cells": [
    {
      "cell_type": "markdown",
      "metadata": {},
      "source": [
        "\n\n# Tutorial 3 - Loading a Model\nThis tutorial demonstrated loading techniques in |Application|.\n"
      ]
    },
    {
      "cell_type": "markdown",
      "metadata": {},
      "source": [
        "## The preparation stage\nBefore building a model, we need to load the used components.\nEvery model needs one :py:class:`System` instance.  Furthermore,\nwe are going to use several :py:class:`Node` and :py:class:`Element` instances.\n\n"
      ]
    }
  ],
  "metadata": {
    "kernelspec": {
      "display_name": "Python 3",
      "language": "python",
      "name": "python3"
    },
    "language_info": {
      "codemirror_mode": {
        "name": "ipython",
        "version": 3
      },
      "file_extension": ".py",
      "mimetype": "text/x-python",
      "name": "python",
      "nbconvert_exporter": "python",
      "pygments_lexer": "ipython3",
      "version": "3.13.1"
    }
  },
  "nbformat": 4,
  "nbformat_minor": 0
}