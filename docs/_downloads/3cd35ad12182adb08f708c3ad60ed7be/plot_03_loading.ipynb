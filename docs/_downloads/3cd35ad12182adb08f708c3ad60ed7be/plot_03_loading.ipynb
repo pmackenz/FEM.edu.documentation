{
  "cells": [
    {
      "cell_type": "markdown",
      "metadata": {},
      "source": [
        "\n\n# Tutorial 3 - Loading a Model\nThis tutorial demonstrated loading techniques in |Application|.\n"
      ]
    },
    {
      "cell_type": "markdown",
      "metadata": {},
      "source": [
        "## The preparation stage\nBefore building a model, we need to load the used components.\nEvery model needs one :py:class:`System` instance.  Furthermore,\nwe are going to use several :py:class:`Node` and :py:class:`Element` instances.\n\n"
      ]
    },
    {
      "cell_type": "code",
      "execution_count": null,
      "metadata": {
        "collapsed": false
      },
      "outputs": [],
      "source": [
        "from femedu.domain import System, Node\nfrom femedu.elements.linear import Quad, Triangle\nfrom femedu.materials import PlaneStress\n\n# create a model domain\nmodel = System()"
      ]
    },
    {
      "cell_type": "markdown",
      "metadata": {},
      "source": [
        "# Nodal loads\nDepending on your model, these may be nodal forces, moments, or field values (e.g., temperature)\n\n\n"
      ]
    },
    {
      "cell_type": "code",
      "execution_count": null,
      "metadata": {
        "collapsed": false
      },
      "outputs": [],
      "source": [
        "# create a node and add it to the model\nnode0 = Node(10., 2.)\nmodel.addNode(node0)\n\n# you need to create a mesh to such that your node learns about the available degrees of freedom\n# ...\nnd1 = Node(3., 5.)\nnd2 = Node(0.,0.0)\nmodel += nd1\nmodel += nd2\nmodel += Triangle(node0, nd1, nd2, PlaneStress())"
      ]
    },
    {
      "cell_type": "markdown",
      "metadata": {},
      "source": [
        "## Direct approach\nIf you create a node directly and, thus, have its handle available,\nyou can load that node as follows.\n\n"
      ]
    },
    {
      "cell_type": "markdown",
      "metadata": {},
      "source": [
        "apply a point load $P_x = 3.14$ and $P_y=-12.345$ driving dofs 'ux' and 'uy'\n\n"
      ]
    },
    {
      "cell_type": "code",
      "execution_count": null,
      "metadata": {
        "collapsed": false
      },
      "outputs": [],
      "source": [
        "node0.addLoad((3.14, -12.345), ('ux','uy'))"
      ]
    },
    {
      "cell_type": "markdown",
      "metadata": {},
      "source": [
        "apply a moment $M_z=20.0$ at the node.  This moment drives a rotation 'rz', so we need to use that dof-indicator.\n\n"
      ]
    },
    {
      "cell_type": "code",
      "execution_count": null,
      "metadata": {
        "collapsed": false
      },
      "outputs": [],
      "source": [
        "node0.addLoad((20.0,),('rz',))"
      ]
    },
    {
      "cell_type": "markdown",
      "metadata": {},
      "source": [
        "<div class=\"alert alert-info\"><h4>Note</h4><p>Both values and dof-indicators must be provided as a list.  Python list-types :code:`list` and :code:`tuple` are accepts.\n   When using :code:`tuple`, as in the above example, you must not forget the extra comma (:code:`,`) when\n   creating a tuple containing just a single element.  Alternatively, you may use a :code:`list` as follows.\n\n   :code:`node0.addLoad([20.0],['rz'])`</p></div>\n\n"
      ]
    },
    {
      "cell_type": "markdown",
      "metadata": {},
      "source": [
        "You may verify that your load has been properly recorded by printing the loaded node's internal loads dictionary.\n\n"
      ]
    },
    {
      "cell_type": "code",
      "execution_count": null,
      "metadata": {
        "collapsed": false
      },
      "outputs": [],
      "source": [
        "print(node0.loads)\n\nmodel.plot(show_loads=1, show_reactions=0)"
      ]
    },
    {
      "cell_type": "markdown",
      "metadata": {},
      "source": [
        "## Geometry-based loading\nThis approach is needed when a :py:meth:`Mesher` was used to generate the finite element mesh.\nIn that case, you can locate one or more node objects based on their location using\n\n"
      ]
    },
    {
      "cell_type": "code",
      "execution_count": null,
      "metadata": {
        "collapsed": false
      },
      "outputs": [],
      "source": [
        "nodes = model.findNodesAt((3.,5.))"
      ]
    },
    {
      "cell_type": "markdown",
      "metadata": {},
      "source": [
        "This function return a :code:`list` of tuples containing a :py:meth:`Node` object and its distance from the target point.\nIf no nodes are found, an empty list is returned.\n\nSince more than one node might be located, the user should check if\n\n* any node was found: :code:`if nodes: ...`\n* more than one node has been found: :code:`if len(nodes) >1: ...`\n* or simply use the first node in that list: :code:`node_at_location, dist = nodes[0]`\n\n\n"
      ]
    },
    {
      "cell_type": "code",
      "execution_count": null,
      "metadata": {
        "collapsed": false
      },
      "outputs": [],
      "source": [
        "node_at_location, dist = nodes[0]\nnode_at_location.addLoad((30.0,),('ux',))\nmodel.plot(show_loads=1, show_reactions=0)"
      ]
    },
    {
      "cell_type": "markdown",
      "metadata": {},
      "source": [
        "<div class=\"alert alert-info\"><h4>Note</h4><p>Nodal loads are only applied to those degrees of freedom that are actually supported by the attached elements.\n   Loads attached to dofs that are not part of the mechanical model are ignored.</p></div>\n\n\n"
      ]
    },
    {
      "cell_type": "markdown",
      "metadata": {},
      "source": [
        "# Line loads\nThese are commonly used with beams and frames to represent axial and transverse distributed loads.\n\n\n"
      ]
    },
    {
      "cell_type": "markdown",
      "metadata": {},
      "source": [
        "# Face Loads in 2D\nThese represent distributed normal and shear loads along the edges of plates.\nTo understand how those loads are applied within |Application| we need\nto know that each triangular or each quadrilateral element possesses three\nor four :py:meth:`Face2D` objects, respectively.\nIt is those objects that are handling user-provided distributed loads and converting\nthem into nodal forces for the element.\n\n\n"
      ]
    },
    {
      "cell_type": "markdown",
      "metadata": {},
      "source": [
        "# Surface loads in 3D\nThese are not yet available in |Application|.\n\n"
      ]
    }
  ],
  "metadata": {
    "kernelspec": {
      "display_name": "Python 3",
      "language": "python",
      "name": "python3"
    },
    "language_info": {
      "codemirror_mode": {
        "name": "ipython",
        "version": 3
      },
      "file_extension": ".py",
      "mimetype": "text/x-python",
      "name": "python",
      "nbconvert_exporter": "python",
      "pygments_lexer": "ipython3",
      "version": "3.13.2"
    }
  },
  "nbformat": 4,
  "nbformat_minor": 0
}