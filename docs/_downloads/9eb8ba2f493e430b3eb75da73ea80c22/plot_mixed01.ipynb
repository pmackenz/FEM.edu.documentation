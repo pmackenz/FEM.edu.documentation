{
  "cells": [
    {
      "cell_type": "markdown",
      "metadata": {},
      "source": [
        "\n# Braced building frame\n\nmodeled using a 2D frame element for the main structure and a truss element for the brace\n\n\nAuthor: Peter Mackenzie-Helnwein\n"
      ]
    },
    {
      "cell_type": "code",
      "execution_count": null,
      "metadata": {
        "collapsed": false
      },
      "outputs": [],
      "source": [
        "import matplotlib.pyplot as plt\nfrom femedu.examples.Example import *\n\nfrom femedu.domain import *\nfrom femedu.solver.NewtonRaphsonSolver import *\nfrom femedu.elements.finite.Truss import *\nfrom femedu.elements.finite.Frame2D import *\nfrom femedu.materials.FiberMaterial import *\nfrom femedu.materials.ElasticSection import *\n\n\nclass ExampleMixed01(Example):\n\n    def problem(self):\n        # initialize a system model\n\n        B = 80.\n        H = 50.\n\n        E  = 29000.0   # steel MOE\n\n        A = 20.0       # frame area\n        I = 10.0       # frame moment of inertia\n        Ab = 1.0       # brace area\n\n        w = 0.50       # uniform load on floor beam\n\n        Ph = 20.00      # additional horizontal load per floor\n\n        # ========== setting global parameters ==============\n\n        target_load_level = 10\n        max_steps = 10\n        load_levels = np.linspace(0, target_load_level, max_steps)\n\n        # ========= build your structural model =============\n\n        model = System()\n        model.setSolver(NewtonRaphsonSolver())\n\n        X10 = Node(0.0, 0.0)\n        X11 = Node(0.0, H)\n\n        X20 = Node(B, 0.0)\n        X21 = Node(B, H)\n\n        model.addNode(X10,X11)\n        model.addNode(X20,X21)\n\n        # columns\n\n        frameParams = {'E': E, 'A': A, 'I': I}\n        C11 = Frame2D(X10, X11, ElasticSection(frameParams))\n        C21 = Frame2D(X20, X21, ElasticSection(frameParams))\n        model.addElement(C11,C21)\n\n        # floors\n\n        params = {'E': E, 'A': A, 'I': 8*I}\n        F11 = Frame2D(X11, X21, ElasticSection(params))\n        model.addElement(F11)\n\n        # braces\n\n        braceParams = {'E': E, 'A': Ab}\n        model += Truss(X10, X21, FiberMaterial(braceParams))\n\n        # fixities\n        X10.fixDOF('ux','uy','rz')   # fixed\n        X20.fixDOF('ux','uy','rz')   # fixed\n\n        # reference load\n        #Pcr = np.pi**2 * EI / L**2\n        model.resetLoad()            # size load vector and initialize\n        #model.addLoad(Xn, -Pcr, dof=0) # add a horizontal force (first dof only) ; remember C-style indexing: 0,1,...,(n-1)\n\n        # floor loading as distributed loads ...\n        F11.setDistLoad(-w)\n\n        # wind load ...\n        X11.addLoad([Ph],['ux'])   # horizontal load\n\n        # show model information\n        model.report()\n\n        print(\"\\n==== perform the analysis ===\\n\")\n\n        # * apply the load in multiple smaller load steps\n\n        # set up data recorder\n        model.initRecorder()\n\n        # initialize the analysis:\n        model.resetDisplacements()   # set U to all zeros\n        model.setLoadFactor(0.0)     # define a known equilibrium solution\n\n        model.plot(factor=0.0, title=\"undeformed system\", filename=\"mixed01_undeformed.png\")\n\n        model.startRecorder()\n\n        # solve for all load_levels\n        for loadfactor in load_levels:\n\n            # define node X2 as the controled node; downward direction is prescribed:\n            model.setLoadFactor(loadfactor)\n            model.solve(verbose=True)\n\n            model.recordThisStep()\n\n            print(\"\\n=== next load level ===\\n\")\n\n        #\n        # ==== create some nice plots ===\n        #\n\n        model.report()\n\n        model.plot(factor=10.0, filename=\"mixed01_deformed.png\")\n        model.beamValuePlot(\"F\", filename=\"mixed01_force.png\")\n        model.beamValuePlot(\"V\", filename=\"mixed01_shear.png\")\n        model.beamValuePlot(\"M\", filename=\"mixed01_moment.png\")"
      ]
    },
    {
      "cell_type": "markdown",
      "metadata": {},
      "source": [
        "Run the example by creating an instance of the problem and executing it by calling :py:meth:`Example.run()`\n\n\n"
      ]
    },
    {
      "cell_type": "code",
      "execution_count": null,
      "metadata": {
        "collapsed": false
      },
      "outputs": [],
      "source": [
        "if __name__ == \"__main__\":\n    ex = ExampleMixed01()\n    ex.run()"
      ]
    }
  ],
  "metadata": {
    "kernelspec": {
      "display_name": "Python 3",
      "language": "python",
      "name": "python3"
    },
    "language_info": {
      "codemirror_mode": {
        "name": "ipython",
        "version": 3
      },
      "file_extension": ".py",
      "mimetype": "text/x-python",
      "name": "python",
      "nbconvert_exporter": "python",
      "pygments_lexer": "ipython3",
      "version": "3.13.2"
    }
  },
  "nbformat": 4,
  "nbformat_minor": 0
}