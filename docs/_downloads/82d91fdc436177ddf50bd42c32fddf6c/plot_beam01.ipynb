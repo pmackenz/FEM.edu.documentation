{
  "cells": [
    {
      "cell_type": "code",
      "execution_count": null,
      "metadata": {
        "collapsed": false
      },
      "outputs": [],
      "source": [
        "%matplotlib inline"
      ]
    },
    {
      "cell_type": "markdown",
      "metadata": {},
      "source": [
        "\n# Single span beam under uniform load.\n\nThe system is statically determined and allows for easy validation of\ncalculated deformation, reactions and internal forces.\n\nAuthor: Peter Mackenzie-Helnwein\n"
      ]
    },
    {
      "cell_type": "code",
      "execution_count": null,
      "metadata": {
        "collapsed": false
      },
      "outputs": [],
      "source": [
        "from femedu.examples.Example import *\n\nfrom femedu.domain.System import *\nfrom femedu.domain.Node import *\nfrom femedu.elements.Beam2D import *\nfrom femedu.materials.ElasticSection import *\n\n\nclass ExampleBeam01(Example):\n\n    def problem(self):\n        # initialize a system model\n        SpanLength = 10.0 * 12\n        w =  -1.0   # distributed load (positive if acting in local y-direction\n        P =   -40.0   # center point load (uses global system)\n\n        Nelems = 4    # number of elements\n        params = {'E': 29000., 'A': 4.7, 'I':103}\n\n        model = System()\n\n        # meshing parameters\n        Le = SpanLength / Nelems\n        Xnode = 0.0\n        Ynode = 0.0\n\n        # create left node\n        nd0 = Node(Xnode, Ynode)\n        model += nd0\n\n        ndP = None\n\n        # initialization for node and element creation\n        ndi = nd0\n\n        for e in range(Nelems):\n            # create next node\n            Xnode += Le\n            ndj = Node(Xnode, Ynode)\n            model += ndj\n\n            # remember center node for loading\n            if Xnode <= SpanLength/2:\n                ndP = ndj\n\n            # create elements\n            elem = Beam2D(ndi, ndj, ElasticSection(params))\n            model += elem\n\n            # load the element\n            elem.setDistLoad(w)\n\n            # shift one node to the right\n            ndi = ndj\n\n        # define support(s)\n        nd0.fixDOF('ux', 'uy')     # pin support left end\n        ndj.fixDOF('uy')           # roller support right end\n\n        # add point loads\n        # .. load only the center node\n        if ndP:\n            ndP.setLoad([0.0, P], ('ux', 'uy'))\n\n        # analyze the model\n        model.solve()\n\n        # write out report\n        model.report()\n\n        # create plots\n        model.plot(factor=10., filename=\"beam01_deformed.png\", show_bc=1)\n\n        model.beamValuePlot('V', filename=\"beam01_shear.png\")\n        model.beamValuePlot('M', filename=\"beam01_moment.png\")"
      ]
    },
    {
      "cell_type": "markdown",
      "metadata": {},
      "source": [
        "Run the example by creating an instance of the problem and executing it by calling :py:meth:`Example.run()`\n\n\n"
      ]
    },
    {
      "cell_type": "code",
      "execution_count": null,
      "metadata": {
        "collapsed": false
      },
      "outputs": [],
      "source": [
        "if __name__ == \"__main__\":\n    ex = ExampleBeam01()\n    ex.run()"
      ]
    }
  ],
  "metadata": {
    "kernelspec": {
      "display_name": "Python 3",
      "language": "python",
      "name": "python3"
    },
    "language_info": {
      "codemirror_mode": {
        "name": "ipython",
        "version": 3
      },
      "file_extension": ".py",
      "mimetype": "text/x-python",
      "name": "python",
      "nbconvert_exporter": "python",
      "pygments_lexer": "ipython3",
      "version": "3.10.8"
    }
  },
  "nbformat": 4,
  "nbformat_minor": 0
}