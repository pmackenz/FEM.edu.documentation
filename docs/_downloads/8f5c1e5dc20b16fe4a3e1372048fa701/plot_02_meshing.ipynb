{
  "cells": [
    {
      "cell_type": "markdown",
      "metadata": {},
      "source": [
        "\n\n# Tutorial 2 - Using Meshers\nThis tutorial shows how to utilize `Mesher_classes`\nto quickly create your structural model.\nThe key difference to the technique demonstrated in `model_creation_01`\nis that :py:class:`Mesher` classes describe a general geometry, not finite elements and nodes,\nand provide methods to mesh those geometric domains with beam-, frame-, or plate-elements.\n"
      ]
    },
    {
      "cell_type": "markdown",
      "metadata": {},
      "source": [
        "## The preparation stage\nBefore building a model, we need to load the used components.\nEvery model needs one :py:class:`System` instance.  Furthermore,\nwe are going to load several :py:class:`Node` and :py:class:`Element` instances for use throughout this tutorial.\n\nWe will load the respective :py:class:`Mesher` class right where we demonstrate their use.\n\nLoading those class definitions requires the following:\n\n"
      ]
    },
    {
      "cell_type": "code",
      "execution_count": null,
      "metadata": {
        "collapsed": false
      },
      "outputs": [],
      "source": [
        "import numpy as np\n\nfrom femedu.domain import System\n# line-type elements\nfrom femedu.elements.linear import Frame2D\n# triangle plate-type elements\nfrom femedu.elements.linear import Triangle, Triangle6\nfrom femedu.elements.diffusion import Triangle as ThermalTriangle\n# quadrilateral plate-type elements\nfrom femedu.elements.linear import Quad, Quad9\n# elastic materials\nfrom femedu.materials import ElasticSection, PlaneStress, PlaneStrain, Thermal"
      ]
    },
    {
      "cell_type": "markdown",
      "metadata": {},
      "source": [
        "For more detail on the loaded types, read `Element_classes` and `Material_classes`.\n\n\n"
      ]
    },
    {
      "cell_type": "markdown",
      "metadata": {},
      "source": [
        "## Curve Meshers\nThis mesher takes two or more points to create an interpolated smooth curve using B-splines.\nThe :py:meth:`CurveMesher.mesh` generates nodes and elements along that curve and adds them to your model.\n\n\n"
      ]
    },
    {
      "cell_type": "code",
      "execution_count": null,
      "metadata": {
        "collapsed": false
      },
      "outputs": [],
      "source": [
        "from femedu.mesher import CurveMesher\n\nmodel = System()\nmesher = CurveMesher(model, (0,0),(1.5,.25),(2,1),(3.,1.5))\nmesher.mesh(10, Frame2D, ElasticSection())\nmodel.plot(factor=0.0, title='CurveMesher demo')"
      ]
    },
    {
      "cell_type": "markdown",
      "metadata": {},
      "source": [
        "Read `CurveMesher_class` for more information on this :py:meth:`Mesher`\n\n"
      ]
    },
    {
      "cell_type": "markdown",
      "metadata": {},
      "source": [
        "## Triangle Domain Meshers\n\nThis mesher defines a triangular domain out of a minimum of three (3) corner points.\nYou may define up to three additional points, where each additional point defines the location of the\nmid-point along the first (pt0 to pt1),\nsecond (pt1 to pt2), and third (pt2 to pt0) side, respectively.\nSides and the respective domain will be interpolated using a full quadratic polynomial.\n\nEntering `None` in place of a point will place a midpoint at the half point along a straight side.\n\n\n"
      ]
    },
    {
      "cell_type": "markdown",
      "metadata": {},
      "source": [
        "It makes sense to parametrize any mesh generation to easily perform mesh refinement,\nchange dimensions and/or units, or modify material parameters for the entire model.\n\n"
      ]
    },
    {
      "cell_type": "code",
      "execution_count": null,
      "metadata": {
        "collapsed": false
      },
      "outputs": [],
      "source": [
        "from femedu.mesher import PatchMesher, TriPatchMesher\n\nmodel = System()\n\n# ========== setting mesh parameters ==============\nNx = 6        # number of elements per side\nLx = 100.0    # length of plate in the x-direction\nLy =  60.0    # length of plate in the y-direction\n\n# ========== setting material parameters ==============\nparams = dict(\n    E  = 20000.,    # Young's modulus\n    nu = 0.250,     # Poisson's ratio\n    t  = 1.00       # thickness of the plate\n)"
      ]
    },
    {
      "cell_type": "markdown",
      "metadata": {},
      "source": [
        "We shall generate two equally shaped domains to side-by-side demonstrate different meshing options.\n\n"
      ]
    },
    {
      "cell_type": "code",
      "execution_count": null,
      "metadata": {
        "collapsed": false
      },
      "outputs": [],
      "source": [
        "# create reference points\npt0 = (0.25*Lx, 0); pt1 = (Lx, 0.0); pt2 = (Lx, Ly); pt4 = (0.95*Lx, 0.5*Ly); pt5 = (0.5*Lx, 0.75*Ly)\npt6 = (1.25*Lx, 0); pt7 = (2.00*Lx, 0.0); pt8 = (2.00*Lx, Ly); pt10 = (1.95*Lx, 0.5*Ly); pt11 = (1.5*Lx, 0.75*Ly)\n\nmesher1 = TriPatchMesher(model,\n                         pt0, pt1, pt2,  # corner nodes\n                         None, pt4, pt5,  # mid-side nodes\n                         )\nmesher2 = TriPatchMesher(model,\n                         pt6, pt7, pt8,  # corner nodes\n                         None, pt10, pt11,  # mid-side nodes\n                         )"
      ]
    },
    {
      "cell_type": "markdown",
      "metadata": {},
      "source": [
        "The above code generated the geometric domain, while the following commands will generate nodes and finite elements\nwithin those two domains.  We shall mesh the first domain with triangles, the second with quadrilaterals.\n\n"
      ]
    },
    {
      "cell_type": "code",
      "execution_count": null,
      "metadata": {
        "collapsed": false
      },
      "outputs": [],
      "source": [
        "nodes1, elements1 = mesher1.triangleMesh(Nx, Triangle, PlaneStress(params))\nnodes2, elements2 = mesher2.quadMesh(Nx, Quad, PlaneStress(params))"
      ]
    },
    {
      "cell_type": "markdown",
      "metadata": {},
      "source": [
        "Note that the user needs to provide a suitable, i.e., with proper shape, element and material model.  The given element type will be used\nwhen generating elements.  Each element will receive a unique clone of the provided material object in the process.\n\n"
      ]
    },
    {
      "cell_type": "markdown",
      "metadata": {},
      "source": [
        "<div class=\"alert alert-info\"><h4>Note</h4><p>The mesher methods :py:meth:`triangleMesh` and :py:meth:`quadMesh` will return\n   a list of all created nodes, followed by a list of all created elements.  Those\n   nodes and elements have been added to the model already and do not require any\n   further action by the user.  They are provided for convenience and/or validation only.\n\n   If that information is not needed, simply call the meshing methods without assigning\n   their return value to local variables.</p></div>\n\n\n\n"
      ]
    },
    {
      "cell_type": "code",
      "execution_count": null,
      "metadata": {
        "collapsed": false
      },
      "outputs": [],
      "source": [
        "model.plot(factor=0.0, title='TriPatchMesher demo')"
      ]
    },
    {
      "cell_type": "markdown",
      "metadata": {},
      "source": [
        "Read `tripatch_mesher_class` for more information on this :py:meth:`Mesher`\n\n"
      ]
    },
    {
      "cell_type": "markdown",
      "metadata": {},
      "source": [
        "## Quadrilateral Domain Meshers\n\nThis mesher defines a quadrilateral domain out of a minimum of four (4) corner points.\nYou may define up to three additional points, where each additional point defines the location of the\nmid-point along the first (pt0 to pt1),\nsecond (pt1 to pt2), and third (pt2 to pt0) side, respectively.\nSides and the respective domain will be interpolated using a full quadratic polynomial.\n\nEntering `None` in place of a point will place a midpoint at the half point along a straight side.\n\n\n\n\n"
      ]
    },
    {
      "cell_type": "code",
      "execution_count": null,
      "metadata": {
        "collapsed": false
      },
      "outputs": [],
      "source": [
        "from femedu.mesher import PatchMesher, TriPatchMesher\n\nmodel = System()\n\n# ========== setting mesh parameters ==============\nNx = 6  # number of elements through the wall\nNy = 4  # number of elements parallel to the wall\nLx = 10.00  # wall thickness in m\nLy =  5.00  # wall thickness in m\nRi =  5.00\nRo = Ri + Lx\nalpha = np.radians(45.0)\ndX = 1.2*(Ro - Ri*np.cos(alpha))\n\npts = (\n    ( Ri,  0),  # 0\n    ( Ro,  0),  # 1\n    ( Ri*np.cos(alpha), Ri*np.sin(alpha)),  # 2\n    ( Ro*np.cos(alpha), Ro*np.sin(alpha)),  # 3\n    ( Ri*np.cos(alpha/2), Ri*np.sin(alpha/2)),  # 4\n    ( Ro*np.cos(alpha/2), Ro*np.sin(alpha/2)),  # 5\n)"
      ]
    },
    {
      "cell_type": "markdown",
      "metadata": {},
      "source": [
        "The above code generated the geometric domain, while the following commands will generate nodes and finite elements\nwithin that domain.  We shall mesh this domain with triangles.\n\nNote that the user needs to provide a suitable, i.e., with proper shape, element and material model.\nThe given element type will be used when generating elements.\nEach element will receive a unique clone of the provided material object in the process.\n\n"
      ]
    },
    {
      "cell_type": "code",
      "execution_count": null,
      "metadata": {
        "collapsed": false
      },
      "outputs": [],
      "source": [
        "mesher1 = PatchMesher(model, pts[0], pts[1], pts[3], pts[2], None, pts[5], None, pts[4])\nnodes1, elements1 = mesher1.triangleMesh(Nx, Ny, ThermalTriangle, Thermal(params))"
      ]
    },
    {
      "cell_type": "markdown",
      "metadata": {},
      "source": [
        "Let's generate a second identical domain but mesh it with quadrilaterals instead.\n\n"
      ]
    },
    {
      "cell_type": "code",
      "execution_count": null,
      "metadata": {
        "collapsed": false
      },
      "outputs": [],
      "source": [
        "pts = (\n    ( dX+Ri,  0),  # 0\n    ( dX+Ro,  0),  # 1\n    ( dX+Ri*np.cos(alpha), Ri*np.sin(alpha)),  # 2\n    ( dX+Ro*np.cos(alpha), Ro*np.sin(alpha)),  # 3\n    ( dX+Ri*np.cos(alpha/2), Ri*np.sin(alpha/2)),  # 4\n    ( dX+Ro*np.cos(alpha/2), Ro*np.sin(alpha/2)),  # 5\n)\n\nmesher2 = PatchMesher(model, pts[0], pts[1], pts[3], pts[2], None, pts[5], None, pts[4])\nnodes2, elements2 = mesher2.quadMesh(Nx, Ny, Quad, PlaneStress(params))\n\nmodel.plot(factor=0.0, title='PatchMesher demo')"
      ]
    },
    {
      "cell_type": "markdown",
      "metadata": {},
      "source": [
        "<div class=\"alert alert-info\"><h4>Note</h4><p>The mesher methods :py:meth:`triangleMesh` and :py:meth:`quadMesh` will return\n   a list of all created nodes, followed by a list of all created elements.  Those\n   nodes and elements have been added to the model already and do not require any\n   further action by the user.  They are provided for convenience and/or validation only.\n\n   If that information is not needed, simply call the meshing methods without assigning\n   their return value to local variables.</p></div>\n\n\n\n"
      ]
    },
    {
      "cell_type": "markdown",
      "metadata": {},
      "source": [
        "Read `patch_mesher_class` for more information on this :py:meth:`Mesher`\n\n"
      ]
    }
  ],
  "metadata": {
    "kernelspec": {
      "display_name": "Python 3",
      "language": "python",
      "name": "python3"
    },
    "language_info": {
      "codemirror_mode": {
        "name": "ipython",
        "version": 3
      },
      "file_extension": ".py",
      "mimetype": "text/x-python",
      "name": "python",
      "nbconvert_exporter": "python",
      "pygments_lexer": "ipython3",
      "version": "3.13.2"
    }
  },
  "nbformat": 4,
  "nbformat_minor": 0
}