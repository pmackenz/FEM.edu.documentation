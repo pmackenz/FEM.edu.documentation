{
  "cells": [
    {
      "cell_type": "markdown",
      "metadata": {},
      "source": [
        "\n# Heat transfer through a wall\n\nThis problem demonstrates the use of prescribed temperature\non both sides of the wall.\n\nUsing\n\n* :py:class:`mesher.PatchMesher` (see `patch_mesher_class`)\n* :py:class:`diffusion.Triangle` (see `diffusion_triangle_class`)\n* :py:class:`materials.Thermal`  (see `diffusion_material_classes`)\n\n## Theory\nWe shall consider a stationary heat transfer problem within a wall.\nThe inner surface of the wall, $x=0~m$, is heated to $200~K$,\nthe outer surface of the wall, $x=10~m$, to $300~K$.\n\nThe thermal equation for the uni-directional problem can be expressed as\n\n\\begin{align}\\Delta T = \\frac{\\partial^2 T}{\\partial x^2}  = 0\\end{align}\n\nwhere $\\Delta$ is the Laplace operator.\n\nThe analytic solution follows as\n\n\\begin{align}T(x) =  T_i \\left(1-\\frac{x}{L}\\right)  + T_o \\left(\\frac{x}{L}\\right)\\end{align}\n\nThis solution will be compared against the finite element solution in the last figure.\n"
      ]
    },
    {
      "cell_type": "code",
      "execution_count": null,
      "metadata": {
        "collapsed": false
      },
      "outputs": [],
      "source": [
        "import matplotlib.pyplot as plt\n\nimport math\nimport sys\nimport numpy as np\n\nfrom femedu.examples.Example import *\n\nfrom femedu.domain import *\nfrom femedu.mesher import PatchMesher\nfrom femedu.elements.diffusion import Triangle\nfrom femedu.materials import Thermal\n\n\nclass ExampleThermal02(Example):\n\n    def problem(self):\n        # ========== setting mesh parameters ==============\n\n        Nx = 4  # number of elements through the wall\n        Ny = 3  # number of elements parallel to the wall\n        Lx = 10.00  # wall thickness in m\n        Ly =  5.00  # wall thickness in m\n\n        # ========== setting material parameters ==============\n\n        params = dict(\n            E=20000.,  # Young's modulus\n            nu=0.250,  # Poisson's ratio\n            t=1.00     # thickness of the plate\n        )\n\n        # ========== setting load parameters ==============\n\n        qn = 1.00  # uniform flux normal to x=const\n\n        # ========== setting analysis parameters ==============\n\n        target_load_level = 1.00  # reference load\n        max_steps = 2  # number of load steps: 2 -> [0.0, 1.0]\n\n        # define a list of target load levels\n        load_levels = np.linspace(0, target_load_level, max_steps)\n\n        #\n        # ==== Build the system model ====\n        #\n\n        model = System()\n\n        # create nodes\n\n        #  2 -------- 3\n        #  |          |\n        #  |          |\n        #  |          |          |\n        #  0 -------- 1\n\n        pts = (\n            ( 0,  0),  # 0\n            (Lx,  0),  # 1\n            ( 0, Ly),  # 2\n            (Lx, Ly),  # 3\n            (0.67*Lx, 0),   # 4\n            (0.33*Lx, Ly),  # 5\n        )\n\n        mesher = PatchMesher(model, pts[0], pts[1], pts[3], pts[2], pts[4], None, pts[5], None)\n        nodes, elements = mesher.triangleMesh(Nx, Ny, Triangle, Thermal(params))\n\n        model.plot(factor=0.0,\n                   title='Uni-directional diffusion',\n                   show_reactions=0, show_bc=0, show_loads=0)\n\n        model.report()\n\n        # boundary condition(s)\n\n        ## find nodes at y==0 and x==0\n\n        for node in nodes:\n            X = node.getPos()\n            if math.isclose(X[0], 0.0):\n                node.setDOF(['T'],[200.])    # prescribed temperature at x=0.0\n            if math.isclose(X[0], Lx):\n                node.setDOF(['T'],[300.])    # prescribed temperature at x=0.0\n\n        # perform the analysis\n        model.setLoadFactor(1.0)\n        model.solve()\n\n        model.report()\n\n        model.valuePlot('T', show_mesh=True)\n        model.valuePlot('Tx', show_mesh=True)\n        model.valuePlot('qx', show_mesh=True)\n\n        # creating a path plot\n\n        R_list = []\n        T_list = []\n\n        for node in nodes:\n            X = node.getPos()\n            T = node.getDisp('T')\n            R_list.append(X[0])\n            T_list.append(T)\n\n        # the analytic solution for comparison\n        x = np.linspace(0, Lx, 21)\n        T = 200. * (1 - x/Lx) + 300. * x/Lx\n\n        fig, axs = plt.subplots()\n        axs.plot(x,T,'-b',label=\"analytic solution\")\n        axs.plot(R_list,T_list,'ro',label=\"FEM\")\n        axs.set_title('Nodal Temperature for ALL Nodes')\n        axs.set_xlabel(\"X distance\")\n        axs.set_ylabel('T')\n        axs.legend()\n        axs.grid(True)\n        plt.show()"
      ]
    },
    {
      "cell_type": "markdown",
      "metadata": {},
      "source": [
        "Run the example by creating an instance of the problem and executing it by calling :py:meth:`Example.run()`\n\n\n"
      ]
    },
    {
      "cell_type": "code",
      "execution_count": null,
      "metadata": {
        "collapsed": false
      },
      "outputs": [],
      "source": [
        "if __name__ == \"__main__\":\n    ex = ExampleThermal02()\n    ex.run()"
      ]
    }
  ],
  "metadata": {
    "kernelspec": {
      "display_name": "Python 3",
      "language": "python",
      "name": "python3"
    },
    "language_info": {
      "codemirror_mode": {
        "name": "ipython",
        "version": 3
      },
      "file_extension": ".py",
      "mimetype": "text/x-python",
      "name": "python",
      "nbconvert_exporter": "python",
      "pygments_lexer": "ipython3",
      "version": "3.13.1"
    }
  },
  "nbformat": 4,
  "nbformat_minor": 0
}